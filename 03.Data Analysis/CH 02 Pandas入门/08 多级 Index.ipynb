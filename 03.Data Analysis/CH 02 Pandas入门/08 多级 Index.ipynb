{
 "cells": [
  {
   "cell_type": "markdown",
   "metadata": {
    "id": "axp4qciKzTAv"
   },
   "source": [
    "# **多级 Index**\n"
   ]
  },
  {
   "cell_type": "code",
   "execution_count": 1,
   "metadata": {
    "id": "aiDgloTGzCn_"
   },
   "outputs": [],
   "source": [
    "import numpy as np\n",
    "import pandas as pd\n",
    "from pandas import Series, DataFrame"
   ]
  },
  {
   "cell_type": "markdown",
   "metadata": {
    "id": "28JxJX-n0uiT"
   },
   "source": [
    "## 单级 Index"
   ]
  },
  {
   "cell_type": "code",
   "execution_count": 2,
   "metadata": {
    "colab": {
     "base_uri": "https://localhost:8080/"
    },
    "id": "53TOYw5u0Kli",
    "outputId": "eb95b69e-7006-437a-fdcf-0aab485b56ed"
   },
   "outputs": [
    {
     "data": {
      "text/plain": [
       "0    1.009119\n",
       "1   -1.338705\n",
       "2    0.087178\n",
       "3    0.674647\n",
       "4    0.935456\n",
       "5    0.122815\n",
       "dtype: float64"
      ]
     },
     "execution_count": 2,
     "metadata": {},
     "output_type": "execute_result"
    }
   ],
   "source": [
    "s1=Series(np.random.randn(6))\n",
    "s1"
   ]
  },
  {
   "cell_type": "markdown",
   "metadata": {
    "id": "c2mf9PjW07eY"
   },
   "source": [
    "## 两级 Index\n",
    "\n",
    "> 第一列 1,2  为第一级别 Index\n",
    ">*斜体文本*\n",
    "> 第二列 a,b,c 为第二级别 Index"
   ]
  },
  {
   "cell_type": "code",
   "execution_count": 3,
   "metadata": {
    "colab": {
     "base_uri": "https://localhost:8080/"
    },
    "id": "-y9dZxuR0WQY",
    "outputId": "b615fb16-cd41-47e5-f72e-72b1437431f3"
   },
   "outputs": [
    {
     "data": {
      "text/plain": [
       "1  a   -1.656580\n",
       "   b   -0.567706\n",
       "   c    1.284319\n",
       "2  a    1.281348\n",
       "   b   -0.426011\n",
       "   c   -0.200747\n",
       "dtype: float64"
      ]
     },
     "execution_count": 3,
     "metadata": {},
     "output_type": "execute_result"
    }
   ],
   "source": [
    "# 创建具有二级 Index Series\n",
    "s1=Series(np.random.randn(6),index=[['1','1','1','2','2','2',],['a','b','c','a','b','c']])\n",
    "s1"
   ]
  },
  {
   "cell_type": "code",
   "execution_count": 4,
   "metadata": {
    "colab": {
     "base_uri": "https://localhost:8080/"
    },
    "id": "aL6iv6V01XdN",
    "outputId": "c6bdf52b-502c-4e74-bb49-363c7a13caba"
   },
   "outputs": [
    {
     "data": {
      "text/plain": [
       "a   -1.656580\n",
       "b   -0.567706\n",
       "c    1.284319\n",
       "dtype: float64"
      ]
     },
     "execution_count": 4,
     "metadata": {},
     "output_type": "execute_result"
    }
   ],
   "source": [
    "s1['1'] # 打印 1级 第一个 Series"
   ]
  },
  {
   "cell_type": "code",
   "execution_count": 5,
   "metadata": {
    "colab": {
     "base_uri": "https://localhost:8080/"
    },
    "id": "3SW4R1ku1u8y",
    "outputId": "5005ff68-33b4-4824-d137-474713c34830"
   },
   "outputs": [
    {
     "data": {
      "text/plain": [
       "pandas.core.series.Series"
      ]
     },
     "execution_count": 5,
     "metadata": {},
     "output_type": "execute_result"
    }
   ],
   "source": [
    "type(s1['1']) # 打印 1级 第一个 Series 格式，发现它是 Series 格式"
   ]
  },
  {
   "cell_type": "code",
   "execution_count": 6,
   "metadata": {
    "colab": {
     "base_uri": "https://localhost:8080/"
    },
    "id": "R8qsEl362IXo",
    "outputId": "f84e7894-c21b-4f71-b809-da8e2087d874"
   },
   "outputs": [
    {
     "data": {
      "text/plain": [
       "1   -1.656580\n",
       "2    1.281348\n",
       "dtype: float64"
      ]
     },
     "execution_count": 6,
     "metadata": {},
     "output_type": "execute_result"
    }
   ],
   "source": [
    "s1[:,'a'] # 打印 第一级为 1 - 2 级，第二级为 a Index 的数据"
   ]
  },
  {
   "cell_type": "markdown",
   "metadata": {
    "id": "LVTgNf-s3oiz"
   },
   "source": [
    "## 二级 Series 与 Dataframe 的互换"
   ]
  },
  {
   "cell_type": "markdown",
   "metadata": {
    "id": "ArL-pgy-3-4Y"
   },
   "source": [
    "### 将 二级 Series 转换成 DateFrame\n",
    "\n",
    "- <font color=\"red\"> unstack() 函数</font>：将具有二级索引的 Serise 转换成 DataFrame.\n"
   ]
  },
  {
   "cell_type": "code",
   "execution_count": 7,
   "metadata": {
    "colab": {
     "base_uri": "https://localhost:8080/",
     "height": 106
    },
    "id": "85t4fUgV30Jn",
    "outputId": "d1531647-8bb5-4537-a084-874420e977d9"
   },
   "outputs": [
    {
     "data": {
      "text/html": [
       "<div>\n",
       "<style scoped>\n",
       "    .dataframe tbody tr th:only-of-type {\n",
       "        vertical-align: middle;\n",
       "    }\n",
       "\n",
       "    .dataframe tbody tr th {\n",
       "        vertical-align: top;\n",
       "    }\n",
       "\n",
       "    .dataframe thead th {\n",
       "        text-align: right;\n",
       "    }\n",
       "</style>\n",
       "<table border=\"1\" class=\"dataframe\">\n",
       "  <thead>\n",
       "    <tr style=\"text-align: right;\">\n",
       "      <th></th>\n",
       "      <th>a</th>\n",
       "      <th>b</th>\n",
       "      <th>c</th>\n",
       "    </tr>\n",
       "  </thead>\n",
       "  <tbody>\n",
       "    <tr>\n",
       "      <th>1</th>\n",
       "      <td>0.145905</td>\n",
       "      <td>0.523269</td>\n",
       "      <td>-0.424623</td>\n",
       "    </tr>\n",
       "    <tr>\n",
       "      <th>2</th>\n",
       "      <td>-1.021668</td>\n",
       "      <td>1.713617</td>\n",
       "      <td>0.421012</td>\n",
       "    </tr>\n",
       "  </tbody>\n",
       "</table>\n",
       "</div>"
      ],
      "text/plain": [
       "          a         b         c\n",
       "1  0.145905  0.523269 -0.424623\n",
       "2 -1.021668  1.713617  0.421012"
      ]
     },
     "execution_count": 7,
     "metadata": {
      "tags": []
     },
     "output_type": "execute_result"
    }
   ],
   "source": [
    "df1=s1.unstack()\n",
    "df1"
   ]
  },
  {
   "cell_type": "markdown",
   "metadata": {
    "id": "cEw9QNE65gYX"
   },
   "source": [
    "- 用 DataFrame 创建具有二级索引数据表,结果与上面 unstack() 函数转变结果相同。"
   ]
  },
  {
   "cell_type": "code",
   "execution_count": 8,
   "metadata": {
    "colab": {
     "base_uri": "https://localhost:8080/",
     "height": 106
    },
    "id": "IU79rGiR4YM9",
    "outputId": "ea19bc8e-a14a-4593-de5d-82d933f8c6f9"
   },
   "outputs": [
    {
     "data": {
      "text/html": [
       "<div>\n",
       "<style scoped>\n",
       "    .dataframe tbody tr th:only-of-type {\n",
       "        vertical-align: middle;\n",
       "    }\n",
       "\n",
       "    .dataframe tbody tr th {\n",
       "        vertical-align: top;\n",
       "    }\n",
       "\n",
       "    .dataframe thead th {\n",
       "        text-align: right;\n",
       "    }\n",
       "</style>\n",
       "<table border=\"1\" class=\"dataframe\">\n",
       "  <thead>\n",
       "    <tr style=\"text-align: right;\">\n",
       "      <th></th>\n",
       "      <th>a</th>\n",
       "      <th>b</th>\n",
       "      <th>c</th>\n",
       "    </tr>\n",
       "  </thead>\n",
       "  <tbody>\n",
       "    <tr>\n",
       "      <th>0</th>\n",
       "      <td>0.145905</td>\n",
       "      <td>0.523269</td>\n",
       "      <td>-0.424623</td>\n",
       "    </tr>\n",
       "    <tr>\n",
       "      <th>1</th>\n",
       "      <td>-1.021668</td>\n",
       "      <td>1.713617</td>\n",
       "      <td>0.421012</td>\n",
       "    </tr>\n",
       "  </tbody>\n",
       "</table>\n",
       "</div>"
      ],
      "text/plain": [
       "          a         b         c\n",
       "0  0.145905  0.523269 -0.424623\n",
       "1 -1.021668  1.713617  0.421012"
      ]
     },
     "execution_count": 8,
     "metadata": {
      "tags": []
     },
     "output_type": "execute_result"
    }
   ],
   "source": [
    "df2=DataFrame([s1['1'], s1['2']])\n",
    "df2"
   ]
  },
  {
   "cell_type": "markdown",
   "metadata": {
    "id": "7QNTG7TG6KyL"
   },
   "source": [
    "### DataFrame 反过来 转换成 多级 Series\n",
    "\n",
    "- 先将原 DataFrame 数据表 转置\n",
    "\n",
    "- 再经过 unstack() 函数 将转置后的数据，转换成 Series 转换成数据列\n",
    "\n",
    "- 若原 DataFrame 数据表没有转置，而进行 unstack()函数操作，则 1、2 级索位置会互换"
   ]
  },
  {
   "cell_type": "code",
   "execution_count": 9,
   "metadata": {
    "colab": {
     "base_uri": "https://localhost:8080/"
    },
    "id": "DnnPa7jS6j0L",
    "outputId": "c84dedf5-c204-4578-ae3b-d80090f81163"
   },
   "outputs": [
    {
     "data": {
      "text/plain": [
       "a  1    0.145905\n",
       "   2   -1.021668\n",
       "b  1    0.523269\n",
       "   2    1.713617\n",
       "c  1   -0.424623\n",
       "   2    0.421012\n",
       "dtype: float64"
      ]
     },
     "execution_count": 9,
     "metadata": {
      "tags": []
     },
     "output_type": "execute_result"
    }
   ],
   "source": [
    "# DataFrame 没有 转置，进行 unstack()\n",
    "# 结果 1、2 级索引，位置互换\n",
    "s2=df1.unstack()\n",
    "s2"
   ]
  },
  {
   "cell_type": "code",
   "execution_count": 10,
   "metadata": {
    "colab": {
     "base_uri": "https://localhost:8080/"
    },
    "id": "aX9vLavy6yIl",
    "outputId": "dd6c4e7c-ee86-4c98-b274-d46d7235317b"
   },
   "outputs": [
    {
     "data": {
      "text/plain": [
       "1  a    0.145905\n",
       "   b    0.523269\n",
       "   c   -0.424623\n",
       "2  a   -1.021668\n",
       "   b    1.713617\n",
       "   c    0.421012\n",
       "dtype: float64"
      ]
     },
     "execution_count": 10,
     "metadata": {
      "tags": []
     },
     "output_type": "execute_result"
    }
   ],
   "source": [
    "# DataFrame 转置后,进行 unstack()\n",
    "# DataFrame 成功地成了 Series\n",
    "s2=df1.T.unstack()\n",
    "s2"
   ]
  },
  {
   "cell_type": "markdown",
   "metadata": {
    "id": "0sbalhUZ8aWP"
   },
   "source": [
    "### 将具有多 row 和 column 的 DataFrame 转换成 具有多级索引的 Series\n",
    "- 下面穿创建了一个 row 具有多级索引 a,b（Level 1） - 1,2（Level 2）\n",
    "\n",
    "- column 也具有多级索引 BJ，SH，GZ（Level 1） - 8,9,8,（Level 2）"
   ]
  },
  {
   "cell_type": "code",
   "execution_count": 11,
   "metadata": {
    "colab": {
     "base_uri": "https://localhost:8080/",
     "height": 194
    },
    "id": "oE6dFyBX8lhU",
    "outputId": "c8faf0bf-160e-42e3-bdfc-ef1e48790b9c"
   },
   "outputs": [
    {
     "data": {
      "text/html": [
       "<div>\n",
       "<style scoped>\n",
       "    .dataframe tbody tr th:only-of-type {\n",
       "        vertical-align: middle;\n",
       "    }\n",
       "\n",
       "    .dataframe tbody tr th {\n",
       "        vertical-align: top;\n",
       "    }\n",
       "\n",
       "    .dataframe thead tr th {\n",
       "        text-align: left;\n",
       "    }\n",
       "</style>\n",
       "<table border=\"1\" class=\"dataframe\">\n",
       "  <thead>\n",
       "    <tr>\n",
       "      <th></th>\n",
       "      <th></th>\n",
       "      <th colspan=\"2\" halign=\"left\">BJ</th>\n",
       "      <th>SH</th>\n",
       "      <th>GZ</th>\n",
       "    </tr>\n",
       "    <tr>\n",
       "      <th></th>\n",
       "      <th></th>\n",
       "      <th>8</th>\n",
       "      <th>9</th>\n",
       "      <th>8</th>\n",
       "      <th>8</th>\n",
       "    </tr>\n",
       "  </thead>\n",
       "  <tbody>\n",
       "    <tr>\n",
       "      <th rowspan=\"2\" valign=\"top\">a</th>\n",
       "      <th>1</th>\n",
       "      <td>0</td>\n",
       "      <td>1</td>\n",
       "      <td>2</td>\n",
       "      <td>3</td>\n",
       "    </tr>\n",
       "    <tr>\n",
       "      <th>2</th>\n",
       "      <td>4</td>\n",
       "      <td>5</td>\n",
       "      <td>6</td>\n",
       "      <td>7</td>\n",
       "    </tr>\n",
       "    <tr>\n",
       "      <th rowspan=\"2\" valign=\"top\">b</th>\n",
       "      <th>1</th>\n",
       "      <td>8</td>\n",
       "      <td>9</td>\n",
       "      <td>10</td>\n",
       "      <td>11</td>\n",
       "    </tr>\n",
       "    <tr>\n",
       "      <th>2</th>\n",
       "      <td>12</td>\n",
       "      <td>13</td>\n",
       "      <td>14</td>\n",
       "      <td>15</td>\n",
       "    </tr>\n",
       "  </tbody>\n",
       "</table>\n",
       "</div>"
      ],
      "text/plain": [
       "     BJ      SH  GZ\n",
       "      8   9   8   8\n",
       "a 1   0   1   2   3\n",
       "  2   4   5   6   7\n",
       "b 1   8   9  10  11\n",
       "  2  12  13  14  15"
      ]
     },
     "execution_count": 11,
     "metadata": {
      "tags": []
     },
     "output_type": "execute_result"
    }
   ],
   "source": [
    "\n",
    "df=DataFrame(np.arange(16).reshape(4,4), index=[['a','a','b','b'],[1,2,1,2]],columns=[['BJ','BJ','SH','GZ'],[8,9,8,8]])\n",
    "df"
   ]
  },
  {
   "cell_type": "code",
   "execution_count": 12,
   "metadata": {
    "colab": {
     "base_uri": "https://localhost:8080/",
     "height": 164
    },
    "id": "HwpU9JTM-hrY",
    "outputId": "3fe93fcf-48c1-4b2a-d530-32bcc3822e18"
   },
   "outputs": [
    {
     "data": {
      "text/html": [
       "<div>\n",
       "<style scoped>\n",
       "    .dataframe tbody tr th:only-of-type {\n",
       "        vertical-align: middle;\n",
       "    }\n",
       "\n",
       "    .dataframe tbody tr th {\n",
       "        vertical-align: top;\n",
       "    }\n",
       "\n",
       "    .dataframe thead th {\n",
       "        text-align: right;\n",
       "    }\n",
       "</style>\n",
       "<table border=\"1\" class=\"dataframe\">\n",
       "  <thead>\n",
       "    <tr style=\"text-align: right;\">\n",
       "      <th></th>\n",
       "      <th></th>\n",
       "      <th>8</th>\n",
       "      <th>9</th>\n",
       "    </tr>\n",
       "  </thead>\n",
       "  <tbody>\n",
       "    <tr>\n",
       "      <th rowspan=\"2\" valign=\"top\">a</th>\n",
       "      <th>1</th>\n",
       "      <td>0</td>\n",
       "      <td>1</td>\n",
       "    </tr>\n",
       "    <tr>\n",
       "      <th>2</th>\n",
       "      <td>4</td>\n",
       "      <td>5</td>\n",
       "    </tr>\n",
       "    <tr>\n",
       "      <th rowspan=\"2\" valign=\"top\">b</th>\n",
       "      <th>1</th>\n",
       "      <td>8</td>\n",
       "      <td>9</td>\n",
       "    </tr>\n",
       "    <tr>\n",
       "      <th>2</th>\n",
       "      <td>12</td>\n",
       "      <td>13</td>\n",
       "    </tr>\n",
       "  </tbody>\n",
       "</table>\n",
       "</div>"
      ],
      "text/plain": [
       "      8   9\n",
       "a 1   0   1\n",
       "  2   4   5\n",
       "b 1   8   9\n",
       "  2  12  13"
      ]
     },
     "execution_count": 12,
     "metadata": {
      "tags": []
     },
     "output_type": "execute_result"
    }
   ],
   "source": [
    "df['BJ']"
   ]
  },
  {
   "cell_type": "code",
   "execution_count": 13,
   "metadata": {
    "colab": {
     "base_uri": "https://localhost:8080/"
    },
    "id": "3_3MuFeN-lzd",
    "outputId": "1262443e-fe1d-4e1d-ef36-adbae116e019"
   },
   "outputs": [
    {
     "data": {
      "text/plain": [
       "pandas.core.frame.DataFrame"
      ]
     },
     "execution_count": 13,
     "metadata": {
      "tags": []
     },
     "output_type": "execute_result"
    }
   ],
   "source": [
    "type(df['BJ'])"
   ]
  },
  {
   "cell_type": "code",
   "execution_count": 14,
   "metadata": {
    "colab": {
     "base_uri": "https://localhost:8080/"
    },
    "id": "4VpQsg9W-pSs",
    "outputId": "1f92d192-4d58-42be-8c24-0e39900135e8"
   },
   "outputs": [
    {
     "data": {
      "text/plain": [
       "a  1     0\n",
       "   2     4\n",
       "b  1     8\n",
       "   2    12\n",
       "Name: 8, dtype: int64"
      ]
     },
     "execution_count": 14,
     "metadata": {
      "tags": []
     },
     "output_type": "execute_result"
    }
   ],
   "source": [
    "df['BJ'][8]"
   ]
  }
 ],
 "metadata": {
  "colab": {
   "collapsed_sections": [],
   "name": "多级 Index.ipynb",
   "provenance": [],
   "toc_visible": true
  },
  "kernelspec": {
   "display_name": "Python 3",
   "language": "python",
   "name": "python3"
  },
  "language_info": {
   "codemirror_mode": {
    "name": "ipython",
    "version": 3
   },
   "file_extension": ".py",
   "mimetype": "text/x-python",
   "name": "python",
   "nbconvert_exporter": "python",
   "pygments_lexer": "ipython3",
   "version": "3.7.4"
  }
 },
 "nbformat": 4,
 "nbformat_minor": 1
}
