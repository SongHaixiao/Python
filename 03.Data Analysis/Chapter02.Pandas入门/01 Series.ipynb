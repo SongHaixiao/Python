{
  "nbformat": 4,
  "nbformat_minor": 0,
  "metadata": {
    "colab": {
      "name": "01.Series.ipynb",
      "provenance": [],
      "collapsed_sections": []
    },
    "kernelspec": {
      "name": "python3",
      "display_name": "Python 3"
    }
  },
  "cells": [
    {
      "cell_type": "markdown",
      "metadata": {
        "id": "C-SH9SelapYV"
      },
      "source": [
        "# Pandas Series\n",
        "\n",
        "Series是一种类似于一维数组的对象，它由一组数据（各种NumPy数据类型）以及一组与之相关的数据标签（即索引）组成。"
      ]
    },
    {
      "cell_type": "code",
      "metadata": {
        "id": "yZtImspmaMO4"
      },
      "source": [
        "import numpy as np\n",
        "import pandas as pd"
      ],
      "execution_count": 3,
      "outputs": []
    },
    {
      "cell_type": "markdown",
      "metadata": {
        "id": "QbnO5x0datJB"
      },
      "source": [
        "## 创建 Series\n",
        "\n",
        "### <font color=\"blue\">方式1：Series属性+数组: pd.Series(array_list)</font>"
      ]
    },
    {
      "cell_type": "code",
      "metadata": {
        "id": "UwXZNj9vay0B",
        "outputId": "6945fd13-2e73-4d71-d1a4-1cc65e19c93e",
        "colab": {
          "base_uri": "https://localhost:8080/"
        }
      },
      "source": [
        "s1 =  pd.Series([1,2,3,4])   # Way 1 \n",
        "s1                 # 列出 所有 index 与其 对应的值"
      ],
      "execution_count": 4,
      "outputs": [
        {
          "output_type": "execute_result",
          "data": {
            "text/plain": [
              "0    1\n",
              "1    2\n",
              "2    3\n",
              "3    4\n",
              "dtype: int64"
            ]
          },
          "metadata": {
            "tags": []
          },
          "execution_count": 4
        }
      ]
    },
    {
      "cell_type": "code",
      "metadata": {
        "id": "AhJREv_sbCdd",
        "outputId": "e5ab3ce1-91a8-430e-83ed-a3daa122a770",
        "colab": {
          "base_uri": "https://localhost:8080/"
        }
      },
      "source": [
        "s1.values   # values attribute - 查看 Series 的 值"
      ],
      "execution_count": 5,
      "outputs": [
        {
          "output_type": "execute_result",
          "data": {
            "text/plain": [
              "array([1, 2, 3, 4])"
            ]
          },
          "metadata": {
            "tags": []
          },
          "execution_count": 5
        }
      ]
    },
    {
      "cell_type": "code",
      "metadata": {
        "id": "w7h9Xc8SbM9p",
        "outputId": "70367542-9b50-4c97-cbad-30c6ab04cb2a",
        "colab": {
          "base_uri": "https://localhost:8080/"
        }
      },
      "source": [
        "s1.index   #  index attribute - 查看 Series 的 index value for start, stop, and step."
      ],
      "execution_count": 6,
      "outputs": [
        {
          "output_type": "execute_result",
          "data": {
            "text/plain": [
              "RangeIndex(start=0, stop=4, step=1)"
            ]
          },
          "metadata": {
            "tags": []
          },
          "execution_count": 6
        }
      ]
    },
    {
      "cell_type": "markdown",
      "metadata": {
        "id": "WWfFhvlXbSea"
      },
      "source": [
        "### <font color=\"blue\">方式2：Series 属性 + np.arange 产生数组 : pd.Series(np.arange())</font>"
      ]
    },
    {
      "cell_type": "code",
      "metadata": {
        "id": "R3SDOtPDbPtS",
        "outputId": "1b38128f-38f8-443a-a63a-6f15bba667cb",
        "colab": {
          "base_uri": "https://localhost:8080/"
        }
      },
      "source": [
        "s2 = pd.Series(np.arange(10)) # Way 2\n",
        "s2"
      ],
      "execution_count": 8,
      "outputs": [
        {
          "output_type": "execute_result",
          "data": {
            "text/plain": [
              "0    0\n",
              "1    1\n",
              "2    2\n",
              "3    3\n",
              "4    4\n",
              "5    5\n",
              "6    6\n",
              "7    7\n",
              "8    8\n",
              "9    9\n",
              "dtype: int64"
            ]
          },
          "metadata": {
            "tags": []
          },
          "execution_count": 8
        }
      ]
    },
    {
      "cell_type": "markdown",
      "metadata": {
        "id": "fOsNa7JadS_b"
      },
      "source": [
        "### <font color=\"blue\">方式3： Series + array_dictionary 为插入的array值 设置 index: pd.Series(array_dictionary)</font>"
      ]
    },
    {
      "cell_type": "code",
      "metadata": {
        "id": "ha6WmjGTdcHD",
        "outputId": "b21b6f68-4ee4-4077-d5a0-2e22f78b80f6",
        "colab": {
          "base_uri": "https://localhost:8080/"
        }
      },
      "source": [
        "s3 = pd.Series({'1' : 1, '2' : 2, '3' : 3}) # Way 3\n",
        "s3"
      ],
      "execution_count": 10,
      "outputs": [
        {
          "output_type": "execute_result",
          "data": {
            "text/plain": [
              "1    1\n",
              "2    2\n",
              "3    3\n",
              "dtype: int64"
            ]
          },
          "metadata": {
            "tags": []
          },
          "execution_count": 10
        }
      ]
    },
    {
      "cell_type": "code",
      "metadata": {
        "id": "yi_AwkvOeJhN",
        "outputId": "49e48bc7-64f5-4ce4-bfa6-2566526d4eb1",
        "colab": {
          "base_uri": "https://localhost:8080/"
        }
      },
      "source": [
        "s3.values"
      ],
      "execution_count": 11,
      "outputs": [
        {
          "output_type": "execute_result",
          "data": {
            "text/plain": [
              "array([1, 2, 3])"
            ]
          },
          "metadata": {
            "tags": []
          },
          "execution_count": 11
        }
      ]
    },
    {
      "cell_type": "code",
      "metadata": {
        "id": "jfwcttzNeO-i",
        "outputId": "10dad9a9-6770-4dcc-d0ed-6dc922dfe831",
        "colab": {
          "base_uri": "https://localhost:8080/"
        }
      },
      "source": [
        "s3.index"
      ],
      "execution_count": 12,
      "outputs": [
        {
          "output_type": "execute_result",
          "data": {
            "text/plain": [
              "Index(['1', '2', '3'], dtype='object')"
            ]
          },
          "metadata": {
            "tags": []
          },
          "execution_count": 12
        }
      ]
    },
    {
      "cell_type": "markdown",
      "metadata": {
        "id": "17SboKGCeTy8"
      },
      "source": [
        "### <font color=\"blue\">方式4：Series + array + index 为插入的array值 设置 index : pd.Series(array_lsit, index_list)</font>"
      ]
    },
    {
      "cell_type": "code",
      "metadata": {
        "id": "z2gn9kVUeamh",
        "outputId": "0aaf262d-ff04-4346-9d5e-e9d66f1c0fd5",
        "colab": {
          "base_uri": "https://localhost:8080/"
        }
      },
      "source": [
        "s4 = pd.Series([1,2,3,4], index=['A','B','C','D']) # Way 4\n",
        "s4"
      ],
      "execution_count": 14,
      "outputs": [
        {
          "output_type": "execute_result",
          "data": {
            "text/plain": [
              "A    1\n",
              "B    2\n",
              "C    3\n",
              "D    4\n",
              "dtype: int64"
            ]
          },
          "metadata": {
            "tags": []
          },
          "execution_count": 14
        }
      ]
    },
    {
      "cell_type": "code",
      "metadata": {
        "id": "_bQP6zWOeiuz",
        "outputId": "4a5e290c-32df-438a-df5c-c8062817bd64",
        "colab": {
          "base_uri": "https://localhost:8080/"
        }
      },
      "source": [
        "s4.values"
      ],
      "execution_count": 16,
      "outputs": [
        {
          "output_type": "execute_result",
          "data": {
            "text/plain": [
              "array([1, 2, 3, 4])"
            ]
          },
          "metadata": {
            "tags": []
          },
          "execution_count": 16
        }
      ]
    },
    {
      "cell_type": "code",
      "metadata": {
        "id": "VyvUgNrnepbA",
        "outputId": "e51acc32-0204-4115-aa47-240c57edb404",
        "colab": {
          "base_uri": "https://localhost:8080/"
        }
      },
      "source": [
        "s4.index"
      ],
      "execution_count": 17,
      "outputs": [
        {
          "output_type": "execute_result",
          "data": {
            "text/plain": [
              "Index(['A', 'B', 'C', 'D'], dtype='object')"
            ]
          },
          "metadata": {
            "tags": []
          },
          "execution_count": 17
        }
      ]
    },
    {
      "cell_type": "code",
      "metadata": {
        "id": "_aSAAbBGer6g",
        "outputId": "fada5035-202d-451b-e1c8-31b157843fd1",
        "colab": {
          "base_uri": "https://localhost:8080/"
        }
      },
      "source": [
        "s4['A']   # 取 index = 'A' 的 value"
      ],
      "execution_count": 18,
      "outputs": [
        {
          "output_type": "execute_result",
          "data": {
            "text/plain": [
              "1"
            ]
          },
          "metadata": {
            "tags": []
          },
          "execution_count": 18
        }
      ]
    },
    {
      "cell_type": "code",
      "metadata": {
        "id": "91uWn5KLet0N",
        "outputId": "0f8537d6-6962-42e8-f3f9-bc3274a1aa1e",
        "colab": {
          "base_uri": "https://localhost:8080/"
        }
      },
      "source": [
        "s4[s4>2]  # 取所有 values > 2 的 values"
      ],
      "execution_count": 19,
      "outputs": [
        {
          "output_type": "execute_result",
          "data": {
            "text/plain": [
              "C    3\n",
              "D    4\n",
              "dtype: int64"
            ]
          },
          "metadata": {
            "tags": []
          },
          "execution_count": 19
        }
      ]
    },
    {
      "cell_type": "markdown",
      "metadata": {
        "id": "2LkZhqznewUG"
      },
      "source": [
        "#### - <font color=\"orange\">to_dict()</font> method - 将 array 转换成 dictionary"
      ]
    },
    {
      "cell_type": "code",
      "metadata": {
        "id": "AnZk-xX5eyqg",
        "outputId": "8e46d29e-4d3c-40ff-ab36-f271b7700dc0",
        "colab": {
          "base_uri": "https://localhost:8080/"
        }
      },
      "source": [
        "s4.to_dict()  # 将 to_dict() method - 将 array 转换成 dictionary"
      ],
      "execution_count": 26,
      "outputs": [
        {
          "output_type": "execute_result",
          "data": {
            "text/plain": [
              "{'A': 1, 'B': 2, 'C': 3, 'D': 4}"
            ]
          },
          "metadata": {
            "tags": []
          },
          "execution_count": 26
        }
      ]
    },
    {
      "cell_type": "code",
      "metadata": {
        "id": "svtBRTm0e8QG",
        "outputId": "f82893e6-0602-4d86-98d5-ae84c4c24c5b",
        "colab": {
          "base_uri": "https://localhost:8080/"
        }
      },
      "source": [
        "s4"
      ],
      "execution_count": 25,
      "outputs": [
        {
          "output_type": "execute_result",
          "data": {
            "text/plain": [
              "A    1\n",
              "B    2\n",
              "C    3\n",
              "D    4\n",
              "dtype: int64"
            ]
          },
          "metadata": {
            "tags": []
          },
          "execution_count": 25
        }
      ]
    },
    {
      "cell_type": "code",
      "metadata": {
        "id": "u3lyVj-ae3i9",
        "outputId": "c952cea3-1750-4c22-c76d-9c44cc2b5eab",
        "colab": {
          "base_uri": "https://localhost:8080/"
        }
      },
      "source": [
        "s5 = pd.Series(s4.to_dict())\n",
        "s5"
      ],
      "execution_count": 29,
      "outputs": [
        {
          "output_type": "execute_result",
          "data": {
            "text/plain": [
              "A    1\n",
              "B    2\n",
              "C    3\n",
              "D    4\n",
              "dtype: int64"
            ]
          },
          "metadata": {
            "tags": []
          },
          "execution_count": 29
        }
      ]
    },
    {
      "cell_type": "code",
      "metadata": {
        "id": "3ygmK9WWfAJN",
        "outputId": "dc6f6d6e-815e-4bcf-9444-8166b6348c95",
        "colab": {
          "base_uri": "https://localhost:8080/"
        }
      },
      "source": [
        "index_1 = ['A','B','C','D','E']\n",
        "s6 = pd.Series(s5, index = index_1)\n",
        "s6"
      ],
      "execution_count": 31,
      "outputs": [
        {
          "output_type": "execute_result",
          "data": {
            "text/plain": [
              "A    1.0\n",
              "B    2.0\n",
              "C    3.0\n",
              "D    4.0\n",
              "E    NaN\n",
              "dtype: float64"
            ]
          },
          "metadata": {
            "tags": []
          },
          "execution_count": 31
        }
      ]
    },
    {
      "cell_type": "markdown",
      "metadata": {
        "id": "VxNBzkdtfFUC"
      },
      "source": [
        "#### - <font color=\"orange\"> name </font> attribute : 赋名 属性</font>"
      ]
    },
    {
      "cell_type": "code",
      "metadata": {
        "id": "4S5HhKtDfJRk",
        "outputId": "0fb90ac1-1f0b-45b8-86e3-29ce145f1ca6",
        "colab": {
          "base_uri": "https://localhost:8080/"
        }
      },
      "source": [
        "s6.name = 'demo' # Series.name attribute - 给 Series 赋名\n",
        "s6"
      ],
      "execution_count": 33,
      "outputs": [
        {
          "output_type": "execute_result",
          "data": {
            "text/plain": [
              "A    1.0\n",
              "B    2.0\n",
              "C    3.0\n",
              "D    4.0\n",
              "E    NaN\n",
              "Name: demo, dtype: float64"
            ]
          },
          "metadata": {
            "tags": []
          },
          "execution_count": 33
        }
      ]
    },
    {
      "cell_type": "code",
      "metadata": {
        "id": "njHaQ53efP3l",
        "outputId": "42686d37-a029-4321-b285-d94138087ce3",
        "colab": {
          "base_uri": "https://localhost:8080/"
        }
      },
      "source": [
        "s6.index.name = \"demo index\" # Series.index.name - 给 Series index 赋名\n",
        "s6"
      ],
      "execution_count": 35,
      "outputs": [
        {
          "output_type": "execute_result",
          "data": {
            "text/plain": [
              "demo index\n",
              "A    1.0\n",
              "B    2.0\n",
              "C    3.0\n",
              "D    4.0\n",
              "E    NaN\n",
              "Name: demo, dtype: float64"
            ]
          },
          "metadata": {
            "tags": []
          },
          "execution_count": 35
        }
      ]
    },
    {
      "cell_type": "code",
      "metadata": {
        "id": "Mj_F3mQ7fU90",
        "outputId": "f8250bb9-876f-4b12-ec05-130383315b26",
        "colab": {
          "base_uri": "https://localhost:8080/"
        }
      },
      "source": [
        "s6.index"
      ],
      "execution_count": 36,
      "outputs": [
        {
          "output_type": "execute_result",
          "data": {
            "text/plain": [
              "Index(['A', 'B', 'C', 'D', 'E'], dtype='object', name='demo index')"
            ]
          },
          "metadata": {
            "tags": []
          },
          "execution_count": 36
        }
      ]
    },
    {
      "cell_type": "markdown",
      "metadata": {
        "id": "xUA0k_6hfaFi"
      },
      "source": [
        "#### <font color=\"orange\">replace</font> : 代替 series 中的值\n",
        "\n",
        "代替一个值：\n",
        "\n",
        "- Way1：传入参数\n",
        "  replace(to_replace_value,target_value)\n",
        "- Way2：传入字典\n",
        "  replace({to_replace_value：target_value}）\n",
        "\n",
        "代替多个值：\n",
        "\n",
        "- replace([to_replace_valus list],[target_values list])\n"
      ]
    },
    {
      "cell_type": "code",
      "metadata": {
        "id": "GMdv_NKKhj2J",
        "outputId": "669eb0f3-bb77-45e6-b8ae-e1164d911674",
        "colab": {
          "base_uri": "https://localhost:8080/"
        }
      },
      "source": [
        "s = pd.Series(np.arange(10)) # 创建一个 0 - 9 的数列\n",
        "s"
      ],
      "execution_count": 37,
      "outputs": [
        {
          "output_type": "execute_result",
          "data": {
            "text/plain": [
              "0    0\n",
              "1    1\n",
              "2    2\n",
              "3    3\n",
              "4    4\n",
              "5    5\n",
              "6    6\n",
              "7    7\n",
              "8    8\n",
              "9    9\n",
              "dtype: int64"
            ]
          },
          "metadata": {
            "tags": []
          },
          "execution_count": 37
        }
      ]
    },
    {
      "cell_type": "markdown",
      "metadata": {
        "id": "LEgdo30bihn2"
      },
      "source": [
        "### 替代单个值\n",
        "\n",
        "#### Way 1 ：传入参数"
      ]
    },
    {
      "cell_type": "code",
      "metadata": {
        "id": "PMyoTJZhkV9-",
        "outputId": "87a3e63a-0ff0-4f7c-abef-6b1b0ea3a0a6",
        "colab": {
          "base_uri": "https://localhost:8080/"
        }
      },
      "source": [
        "s # 原来数据"
      ],
      "execution_count": 50,
      "outputs": [
        {
          "output_type": "execute_result",
          "data": {
            "text/plain": [
              "0    0\n",
              "1    1\n",
              "2    2\n",
              "3    3\n",
              "4    4\n",
              "5    5\n",
              "6    6\n",
              "7    7\n",
              "8    8\n",
              "9    9\n",
              "dtype: int64"
            ]
          },
          "metadata": {
            "tags": []
          },
          "execution_count": 50
        }
      ]
    },
    {
      "cell_type": "code",
      "metadata": {
        "id": "Wafe0PFjhxhh",
        "outputId": "86dc71a8-0e22-40df-f7c9-d2f6a213e399",
        "colab": {
          "base_uri": "https://localhost:8080/"
        }
      },
      "source": [
        "s.replace(1,np.nan) # 将数列中的 value 为 1 的值，用 NaN 代替"
      ],
      "execution_count": 40,
      "outputs": [
        {
          "output_type": "execute_result",
          "data": {
            "text/plain": [
              "0    0.0\n",
              "1    NaN\n",
              "2    2.0\n",
              "3    3.0\n",
              "4    4.0\n",
              "5    5.0\n",
              "6    6.0\n",
              "7    7.0\n",
              "8    8.0\n",
              "9    9.0\n",
              "dtype: float64"
            ]
          },
          "metadata": {
            "tags": []
          },
          "execution_count": 40
        }
      ]
    },
    {
      "cell_type": "markdown",
      "metadata": {
        "id": "HYF-TeT3il_U"
      },
      "source": [
        "#### Way 2：传入字典"
      ]
    },
    {
      "cell_type": "code",
      "metadata": {
        "id": "rtoaBfmlkKZD",
        "outputId": "65d40891-737a-4bd1-a3b9-c3eb070bc77b",
        "colab": {
          "base_uri": "https://localhost:8080/"
        }
      },
      "source": [
        "s # 原来数据"
      ],
      "execution_count": 48,
      "outputs": [
        {
          "output_type": "execute_result",
          "data": {
            "text/plain": [
              "0    0\n",
              "1    1\n",
              "2    2\n",
              "3    3\n",
              "4    4\n",
              "5    5\n",
              "6    6\n",
              "7    7\n",
              "8    8\n",
              "9    9\n",
              "dtype: int64"
            ]
          },
          "metadata": {
            "tags": []
          },
          "execution_count": 48
        }
      ]
    },
    {
      "cell_type": "code",
      "metadata": {
        "id": "M1BkEl-Niv4K",
        "outputId": "66310664-30dd-4175-b310-1d2358fff7d7",
        "colab": {
          "base_uri": "https://localhost:8080/"
        }
      },
      "source": [
        "s.replace({2:np.nan}) # 以字典形式代替：将值为 2 的元素用 NaN 代替"
      ],
      "execution_count": 49,
      "outputs": [
        {
          "output_type": "execute_result",
          "data": {
            "text/plain": [
              "0    0.0\n",
              "1    1.0\n",
              "2    NaN\n",
              "3    3.0\n",
              "4    4.0\n",
              "5    5.0\n",
              "6    6.0\n",
              "7    7.0\n",
              "8    8.0\n",
              "9    9.0\n",
              "dtype: float64"
            ]
          },
          "metadata": {
            "tags": []
          },
          "execution_count": 49
        }
      ]
    },
    {
      "cell_type": "markdown",
      "metadata": {
        "id": "VkZI7HpKjul7"
      },
      "source": [
        "### 替代多个值\n"
      ]
    },
    {
      "cell_type": "code",
      "metadata": {
        "id": "edn6_taqj0xF",
        "outputId": "814f34b1-86ad-48f7-b653-c243c01e74ca",
        "colab": {
          "base_uri": "https://localhost:8080/"
        }
      },
      "source": [
        "s # 原来数据"
      ],
      "execution_count": 47,
      "outputs": [
        {
          "output_type": "execute_result",
          "data": {
            "text/plain": [
              "0    0\n",
              "1    1\n",
              "2    2\n",
              "3    3\n",
              "4    4\n",
              "5    5\n",
              "6    6\n",
              "7    7\n",
              "8    8\n",
              "9    9\n",
              "dtype: int64"
            ]
          },
          "metadata": {
            "tags": []
          },
          "execution_count": 47
        }
      ]
    },
    {
      "cell_type": "code",
      "metadata": {
        "id": "5I6bLDZCkEO2",
        "outputId": "74aa44d4-9c9b-4d75-80c8-b36be4c38152",
        "colab": {
          "base_uri": "https://localhost:8080/"
        }
      },
      "source": [
        "s.replace([1,2,3],[11,12,13]) # 将值为1,2,3元素 替换为 11,12,13"
      ],
      "execution_count": 46,
      "outputs": [
        {
          "output_type": "execute_result",
          "data": {
            "text/plain": [
              "0     0\n",
              "1    11\n",
              "2    12\n",
              "3    13\n",
              "4     4\n",
              "5     5\n",
              "6     6\n",
              "7     7\n",
              "8     8\n",
              "9     9\n",
              "dtype: int64"
            ]
          },
          "metadata": {
            "tags": []
          },
          "execution_count": 46
        }
      ]
    }
  ]
}