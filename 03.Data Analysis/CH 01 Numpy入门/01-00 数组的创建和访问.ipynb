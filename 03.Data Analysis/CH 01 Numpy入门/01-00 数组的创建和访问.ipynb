{
  "nbformat": 4,
  "nbformat_minor": 0,
  "metadata": {
    "colab": {
      "name": "01-00 数组的创建和访问.ipynb",
      "provenance": []
    },
    "kernelspec": {
      "name": "python3",
      "display_name": "Python 3"
    }
  },
  "cells": [
    {
      "cell_type": "markdown",
      "metadata": {
        "id": "yfMdZF7zDnzs"
      },
      "source": [
        "# Python 中创建数组以及访问"
      ]
    },
    {
      "cell_type": "markdown",
      "metadata": {
        "id": "1m4YvaVfFi8c"
      },
      "source": [
        "## Method in np Modules\n",
        " \n"
      ]
    },
    {
      "cell_type": "code",
      "metadata": {
        "id": "pLBc-IaODXl7"
      },
      "source": [
        "import numpy as np"
      ],
      "execution_count": 1,
      "outputs": []
    },
    {
      "cell_type": "code",
      "metadata": {
        "colab": {
          "base_uri": "https://localhost:8080/"
        },
        "id": "uprZvtSuDxqt",
        "outputId": "d6c173e0-9ab8-40d7-e50c-8000023bb969"
      },
      "source": [
        "# create list_1\n",
        "list_1 = [1,2,3,4]\n",
        "list_1"
      ],
      "execution_count": 3,
      "outputs": [
        {
          "output_type": "execute_result",
          "data": {
            "text/plain": [
              "[1, 2, 3, 4]"
            ]
          },
          "metadata": {
            "tags": []
          },
          "execution_count": 3
        }
      ]
    },
    {
      "cell_type": "markdown",
      "metadata": {
        "id": "9o62-ZZbLFsz"
      },
      "source": [
        "## <font color=\"orange\"> np.array()</font>\n",
        "\n",
        "change lists to multi-dimensional array, and each list is a signle dimensional"
      ]
    },
    {
      "cell_type": "code",
      "metadata": {
        "colab": {
          "base_uri": "https://localhost:8080/"
        },
        "id": "1QnwvwVxD3EG",
        "outputId": "30331425-624b-4227-f433-69a3a9268c7d"
      },
      "source": [
        "# use array method from np\n",
        "# to change a list to a 1x4 array\n",
        "array_1 = np.array(list_1)\n",
        "array_1"
      ],
      "execution_count": 4,
      "outputs": [
        {
          "output_type": "execute_result",
          "data": {
            "text/plain": [
              "array([1, 2, 3, 4])"
            ]
          },
          "metadata": {
            "tags": []
          },
          "execution_count": 4
        }
      ]
    },
    {
      "cell_type": "code",
      "metadata": {
        "colab": {
          "base_uri": "https://localhost:8080/"
        },
        "id": "bIpG-UwlEBrF",
        "outputId": "36999c40-170d-4272-f0fe-5a617db1ff3d"
      },
      "source": [
        "# create list_2\n",
        "list_2 = [5,6,7,8]\n",
        "list_2 "
      ],
      "execution_count": 5,
      "outputs": [
        {
          "output_type": "execute_result",
          "data": {
            "text/plain": [
              "[5, 6, 7, 8]"
            ]
          },
          "metadata": {
            "tags": []
          },
          "execution_count": 5
        }
      ]
    },
    {
      "cell_type": "code",
      "metadata": {
        "colab": {
          "base_uri": "https://localhost:8080/"
        },
        "id": "KuM91xHlEH79",
        "outputId": "88c2ec7e-c631-4a36-9911-ecb5299c120d"
      },
      "source": [
        "# use array method from np\n",
        "# to change two lists to a 2x4 array\n",
        "array_2 = np.array([list_1,list_2])\n",
        "array_2"
      ],
      "execution_count": 7,
      "outputs": [
        {
          "output_type": "execute_result",
          "data": {
            "text/plain": [
              "array([[1, 2, 3, 4],\n",
              "       [5, 6, 7, 8]])"
            ]
          },
          "metadata": {
            "tags": []
          },
          "execution_count": 7
        }
      ]
    },
    {
      "cell_type": "code",
      "metadata": {
        "colab": {
          "base_uri": "https://localhost:8080/"
        },
        "id": "enEQT7BREdPk",
        "outputId": "e00e7e0f-aa89-49aa-a85c-35d6698f5318"
      },
      "source": [
        "# print the shape of array_2\n",
        "array_2.shape"
      ],
      "execution_count": 8,
      "outputs": [
        {
          "output_type": "execute_result",
          "data": {
            "text/plain": [
              "(2, 4)"
            ]
          },
          "metadata": {
            "tags": []
          },
          "execution_count": 8
        }
      ]
    },
    {
      "cell_type": "code",
      "metadata": {
        "colab": {
          "base_uri": "https://localhost:8080/"
        },
        "id": "cLFDNut1EjEc",
        "outputId": "aee23e22-d01f-4f5b-d93f-6aec91478391"
      },
      "source": [
        "# print the size of array_2\n",
        "array_2.size"
      ],
      "execution_count": 9,
      "outputs": [
        {
          "output_type": "execute_result",
          "data": {
            "text/plain": [
              "8"
            ]
          },
          "metadata": {
            "tags": []
          },
          "execution_count": 9
        }
      ]
    },
    {
      "cell_type": "code",
      "metadata": {
        "colab": {
          "base_uri": "https://localhost:8080/"
        },
        "id": "fGaWkgApEn4N",
        "outputId": "18902ccd-75cc-4357-c313-5369db150dd0"
      },
      "source": [
        "# print the type of array_2\n",
        "# array_2 all elements are int so it also is int type\n",
        "array_2.dtype"
      ],
      "execution_count": 10,
      "outputs": [
        {
          "output_type": "execute_result",
          "data": {
            "text/plain": [
              "dtype('int64')"
            ]
          },
          "metadata": {
            "tags": []
          },
          "execution_count": 10
        }
      ]
    },
    {
      "cell_type": "code",
      "metadata": {
        "colab": {
          "base_uri": "https://localhost:8080/"
        },
        "id": "ZMIYYdjsEul0",
        "outputId": "baca878c-ddea-4f73-dd71-1259c8796333"
      },
      "source": [
        "# create a new array\n",
        "array_3 = np.array([[1.0,2,3],[4.0,5,6]])\n",
        "array_3"
      ],
      "execution_count": 12,
      "outputs": [
        {
          "output_type": "execute_result",
          "data": {
            "text/plain": [
              "array([[1., 2., 3.],\n",
              "       [4., 5., 6.]])"
            ]
          },
          "metadata": {
            "tags": []
          },
          "execution_count": 12
        }
      ]
    },
    {
      "cell_type": "code",
      "metadata": {
        "colab": {
          "base_uri": "https://localhost:8080/"
        },
        "id": "GqBXsf1HE3y8",
        "outputId": "cf6cb86d-4b15-405b-b1d9-2fd766af3ffa"
      },
      "source": [
        "# print the type of array_3\n",
        "# array_3 some of elements are float so it also is float type\n",
        "array_3.dtype"
      ],
      "execution_count": 13,
      "outputs": [
        {
          "output_type": "execute_result",
          "data": {
            "text/plain": [
              "dtype('float64')"
            ]
          },
          "metadata": {
            "tags": []
          },
          "execution_count": 13
        }
      ]
    },
    {
      "cell_type": "markdown",
      "metadata": {
        "id": "XAaWqzO7K8BE"
      },
      "source": [
        "## <font color=\"orange\"> np.arange(start,end,length) </font>\n",
        "\n",
        "randomly create a array,its values begin from start, end at end - 1, and the interval is length."
      ]
    },
    {
      "cell_type": "code",
      "metadata": {
        "colab": {
          "base_uri": "https://localhost:8080/"
        },
        "id": "xoMBmXwIFL4M",
        "outputId": "882320dc-dcca-47be-bef9-33cabe352561"
      },
      "source": [
        "# create a new array_4 from 1 to 9 and interval is 2\n",
        "array_4 = np.arange(1,10,2)\n",
        "array_4"
      ],
      "execution_count": 15,
      "outputs": [
        {
          "output_type": "execute_result",
          "data": {
            "text/plain": [
              "array([1, 3, 5, 7, 9])"
            ]
          },
          "metadata": {
            "tags": []
          },
          "execution_count": 15
        }
      ]
    },
    {
      "cell_type": "markdown",
      "metadata": {
        "id": "BXU0M1yUKc-7"
      },
      "source": [
        "## <font color=\"orange\"> np.zeros() </font>\n",
        "create a matrix with 0\n",
        " - single - parameter : the quality of 1-D matrix\n",
        " - multi - parameter [n,m]: the shape of n x m matrix"
      ]
    },
    {
      "cell_type": "code",
      "metadata": {
        "colab": {
          "base_uri": "https://localhost:8080/"
        },
        "id": "2DjXbkG4IIuc",
        "outputId": "8dfa177e-6686-4512-e1c9-71acf54ccf7a"
      },
      "source": [
        "# create a 1 x 5 matrix with 0 values\n",
        "np.zeros(5) "
      ],
      "execution_count": 16,
      "outputs": [
        {
          "output_type": "execute_result",
          "data": {
            "text/plain": [
              "array([0., 0., 0., 0., 0.])"
            ]
          },
          "metadata": {
            "tags": []
          },
          "execution_count": 16
        }
      ]
    },
    {
      "cell_type": "code",
      "metadata": {
        "colab": {
          "base_uri": "https://localhost:8080/"
        },
        "id": "JELctqwtITHG",
        "outputId": "8fe95fd4-fe27-41b6-d72d-39681051cf96"
      },
      "source": [
        "# create a 2 x 3 matrix with 0 values\n",
        "np.zeros([2,3])"
      ],
      "execution_count": 17,
      "outputs": [
        {
          "output_type": "execute_result",
          "data": {
            "text/plain": [
              "array([[0., 0., 0.],\n",
              "       [0., 0., 0.]])"
            ]
          },
          "metadata": {
            "tags": []
          },
          "execution_count": 17
        }
      ]
    },
    {
      "cell_type": "markdown",
      "metadata": {
        "id": "CihQtmNqKn27"
      },
      "source": [
        "## <font color=\"orange\">np.eye()</font>\n",
        "\n",
        "Return a 2-D array with ones on the diagonal and zeros elsewhere."
      ]
    },
    {
      "cell_type": "code",
      "metadata": {
        "colab": {
          "base_uri": "https://localhost:8080/"
        },
        "id": "9QVFDQ_eKqlb",
        "outputId": "0fd2010c-4863-43ba-e74a-8689ca97f0d7"
      },
      "source": [
        "np.eye(5)"
      ],
      "execution_count": 33,
      "outputs": [
        {
          "output_type": "execute_result",
          "data": {
            "text/plain": [
              "array([[1., 0., 0., 0., 0.],\n",
              "       [0., 1., 0., 0., 0.],\n",
              "       [0., 0., 1., 0., 0.],\n",
              "       [0., 0., 0., 1., 0.],\n",
              "       [0., 0., 0., 0., 1.]])"
            ]
          },
          "metadata": {
            "tags": []
          },
          "execution_count": 33
        }
      ]
    },
    {
      "cell_type": "code",
      "metadata": {
        "colab": {
          "base_uri": "https://localhost:8080/"
        },
        "id": "kfQIlS5lKtIi",
        "outputId": "943d3bb1-29ad-44d7-a7de-79b728dfd226"
      },
      "source": [
        "np.eye(5).dtype"
      ],
      "execution_count": 34,
      "outputs": [
        {
          "output_type": "execute_result",
          "data": {
            "text/plain": [
              "dtype('float64')"
            ]
          },
          "metadata": {
            "tags": []
          },
          "execution_count": 34
        }
      ]
    },
    {
      "cell_type": "code",
      "metadata": {
        "colab": {
          "base_uri": "https://localhost:8080/"
        },
        "id": "kboFi6UBIZJb",
        "outputId": "ba840768-5e83-4527-adb6-6c574eead19e"
      },
      "source": [
        "# Return a 2-D array with ones on the diagonal and zeros elsewhere.\n",
        "np.eye(5)"
      ],
      "execution_count": 19,
      "outputs": [
        {
          "output_type": "execute_result",
          "data": {
            "text/plain": [
              "array([[1., 0., 0., 0., 0.],\n",
              "       [0., 1., 0., 0., 0.],\n",
              "       [0., 0., 1., 0., 0.],\n",
              "       [0., 0., 0., 1., 0.],\n",
              "       [0., 0., 0., 0., 1.]])"
            ]
          },
          "metadata": {
            "tags": []
          },
          "execution_count": 19
        }
      ]
    },
    {
      "cell_type": "code",
      "metadata": {
        "colab": {
          "base_uri": "https://localhost:8080/"
        },
        "id": "XklF2onBIuBr",
        "outputId": "a24a5c78-cceb-4900-8ef9-2ecdc33dde32"
      },
      "source": [
        "np.eye(5).dtype"
      ],
      "execution_count": 20,
      "outputs": [
        {
          "output_type": "execute_result",
          "data": {
            "text/plain": [
              "dtype('float64')"
            ]
          },
          "metadata": {
            "tags": []
          },
          "execution_count": 20
        }
      ]
    },
    {
      "cell_type": "markdown",
      "metadata": {
        "id": "U1buMb5pI3ez"
      },
      "source": [
        "## Array 操作\n",
        "\n",
        "- 与 Python list 切片操作一样"
      ]
    },
    {
      "cell_type": "markdown",
      "metadata": {
        "id": "d5HkX7EUKRg8"
      },
      "source": [
        "# 1-D Array"
      ]
    },
    {
      "cell_type": "code",
      "metadata": {
        "colab": {
          "base_uri": "https://localhost:8080/"
        },
        "id": "uZaN8g9qIwkr",
        "outputId": "f4c55090-fe0a-4b85-dc30-ae2e5c4fe361"
      },
      "source": [
        "# Create a array from 1 to 9\n",
        "a = np.arange(1,10)\n",
        "a"
      ],
      "execution_count": 22,
      "outputs": [
        {
          "output_type": "execute_result",
          "data": {
            "text/plain": [
              "array([1, 2, 3, 4, 5, 6, 7, 8, 9])"
            ]
          },
          "metadata": {
            "tags": []
          },
          "execution_count": 22
        }
      ]
    },
    {
      "cell_type": "code",
      "metadata": {
        "colab": {
          "base_uri": "https://localhost:8080/"
        },
        "id": "5jxdn96-JDBD",
        "outputId": "a86c8033-f061-46f1-a6e2-d34f0670f836"
      },
      "source": [
        "# return the element of 1 index\n",
        "a[1]"
      ],
      "execution_count": 23,
      "outputs": [
        {
          "output_type": "execute_result",
          "data": {
            "text/plain": [
              "2"
            ]
          },
          "metadata": {
            "tags": []
          },
          "execution_count": 23
        }
      ]
    },
    {
      "cell_type": "code",
      "metadata": {
        "colab": {
          "base_uri": "https://localhost:8080/"
        },
        "id": "kkMs1T9mJKvr",
        "outputId": "be907be2-eab4-4440-e98a-1c2d2e20c3a0"
      },
      "source": [
        "# return the elements from 1 to 5\n",
        "a[1:5]"
      ],
      "execution_count": 24,
      "outputs": [
        {
          "output_type": "execute_result",
          "data": {
            "text/plain": [
              "array([2, 3, 4, 5])"
            ]
          },
          "metadata": {
            "tags": []
          },
          "execution_count": 24
        }
      ]
    },
    {
      "cell_type": "markdown",
      "metadata": {
        "id": "epnIGeScKM6z"
      },
      "source": [
        "### 2-D Array\n"
      ]
    },
    {
      "cell_type": "code",
      "metadata": {
        "colab": {
          "base_uri": "https://localhost:8080/"
        },
        "id": "YJ9pCxseJTDD",
        "outputId": "cd705b83-516f-4774-d493-956b68ca4792"
      },
      "source": [
        "# 2—D Array\n",
        "b = np.array([[1,2,3],[4,5,6]])\n",
        "b"
      ],
      "execution_count": 26,
      "outputs": [
        {
          "output_type": "execute_result",
          "data": {
            "text/plain": [
              "array([[1, 2, 3],\n",
              "       [4, 5, 6]])"
            ]
          },
          "metadata": {
            "tags": []
          },
          "execution_count": 26
        }
      ]
    },
    {
      "cell_type": "code",
      "metadata": {
        "colab": {
          "base_uri": "https://localhost:8080/"
        },
        "id": "og2hVzAQJa5b",
        "outputId": "de1301bf-10a9-47c1-fbab-598b5cad107c"
      },
      "source": [
        "# return 2 row, 0 column element\n",
        "b[1][0]"
      ],
      "execution_count": 27,
      "outputs": [
        {
          "output_type": "execute_result",
          "data": {
            "text/plain": [
              "4"
            ]
          },
          "metadata": {
            "tags": []
          },
          "execution_count": 27
        }
      ]
    },
    {
      "cell_type": "code",
      "metadata": {
        "colab": {
          "base_uri": "https://localhost:8080/"
        },
        "id": "sXD7wnxMJiUj",
        "outputId": "59fe1ba2-3c5b-46a6-e441-f93bc456a45f"
      },
      "source": [
        "# or\n",
        "b[1,0]"
      ],
      "execution_count": 28,
      "outputs": [
        {
          "output_type": "execute_result",
          "data": {
            "text/plain": [
              "4"
            ]
          },
          "metadata": {
            "tags": []
          },
          "execution_count": 28
        }
      ]
    },
    {
      "cell_type": "markdown",
      "metadata": {
        "id": "Rw0ml3FLKTHL"
      },
      "source": [
        "# 3-D Array"
      ]
    },
    {
      "cell_type": "code",
      "metadata": {
        "colab": {
          "base_uri": "https://localhost:8080/"
        },
        "id": "T2ViALBHJwb7",
        "outputId": "cb8b698a-40cd-4278-db5c-2db7ef55dae3"
      },
      "source": [
        "# 3-D Array\n",
        "c = np.array([[1,2,3],[4,5,6],[7,8,9]])\n",
        "c"
      ],
      "execution_count": 30,
      "outputs": [
        {
          "output_type": "execute_result",
          "data": {
            "text/plain": [
              "array([[1, 2, 3],\n",
              "       [4, 5, 6],\n",
              "       [7, 8, 9]])"
            ]
          },
          "metadata": {
            "tags": []
          },
          "execution_count": 30
        }
      ]
    },
    {
      "cell_type": "code",
      "metadata": {
        "colab": {
          "base_uri": "https://localhost:8080/"
        },
        "id": "M1zEHcIlJ5ED",
        "outputId": "37955ba2-31a3-48ce-cdc2-dce7a0ec8b03"
      },
      "source": [
        "# return elements in 0 - 1 rows, 1 - 2 columns\n",
        "c[:2,1:]"
      ],
      "execution_count": 32,
      "outputs": [
        {
          "output_type": "execute_result",
          "data": {
            "text/plain": [
              "array([[2, 3],\n",
              "       [5, 6]])"
            ]
          },
          "metadata": {
            "tags": []
          },
          "execution_count": 32
        }
      ]
    }
  ]
}