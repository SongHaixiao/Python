{
 "cells": [
  {
   "cell_type": "code",
   "execution_count": 2,
   "metadata": {},
   "outputs": [],
   "source": [
    "import numpy as np\n",
    "import pandas as pd\n",
    "from pandas import Series, DataFrame"
   ]
  },
  {
   "cell_type": "markdown",
   "metadata": {},
   "source": [
    "# Sort in Series"
   ]
  },
  {
   "cell_type": "code",
   "execution_count": 4,
   "metadata": {},
   "outputs": [
    {
     "data": {
      "text/plain": [
       "0   -0.079302\n",
       "1    1.712005\n",
       "2    1.463799\n",
       "3   -0.559157\n",
       "4   -0.172155\n",
       "5    1.781843\n",
       "6   -0.357336\n",
       "7   -1.000045\n",
       "8    0.717235\n",
       "9    0.370601\n",
       "dtype: float64"
      ]
     },
     "execution_count": 4,
     "metadata": {},
     "output_type": "execute_result"
    }
   ],
   "source": [
    "s1 = Series(np.random.randn(10)) # randomly create the lenth 10 of a Series \n",
    "s1"
   ]
  },
  {
   "cell_type": "code",
   "execution_count": 6,
   "metadata": {},
   "outputs": [
    {
     "data": {
      "text/plain": [
       "array([-0.07930166,  1.71200484,  1.46379904, -0.55915689, -0.17215499,\n",
       "        1.78184295, -0.35733628, -1.00004542,  0.71723533,  0.37060063])"
      ]
     },
     "execution_count": 6,
     "metadata": {},
     "output_type": "execute_result"
    }
   ],
   "source": [
    "# show the value of s1\n",
    "s1.values"
   ]
  },
  {
   "cell_type": "code",
   "execution_count": 7,
   "metadata": {},
   "outputs": [
    {
     "data": {
      "text/plain": [
       "RangeIndex(start=0, stop=10, step=1)"
      ]
     },
     "execution_count": 7,
     "metadata": {},
     "output_type": "execute_result"
    }
   ],
   "source": [
    "# show the index of s1\n",
    "s1.index"
   ]
  },
  {
   "cell_type": "markdown",
   "metadata": {},
   "source": [
    "### <font color=\"orange\">sort_values() </font>\n",
    "\n",
    "- no parameters：\n",
    "\n",
    "    - sort the Series in ascending of values\n",
    "\n",
    "- with parameters :\n",
    "    \n",
    "    - <font color=\"blue\">ascending=False</font> : sort the Series in descending of values\n",
    "    "
   ]
  },
  {
   "cell_type": "code",
   "execution_count": 13,
   "metadata": {},
   "outputs": [
    {
     "data": {
      "text/plain": [
       "7   -1.000045\n",
       "3   -0.559157\n",
       "6   -0.357336\n",
       "4   -0.172155\n",
       "0   -0.079302\n",
       "9    0.370601\n",
       "8    0.717235\n",
       "2    1.463799\n",
       "1    1.712005\n",
       "5    1.781843\n",
       "dtype: float64"
      ]
     },
     "execution_count": 13,
     "metadata": {},
     "output_type": "execute_result"
    }
   ],
   "source": [
    "s2 = s1.sort_values() # sort in ascending of values\n",
    "s2"
   ]
  },
  {
   "cell_type": "code",
   "execution_count": 15,
   "metadata": {},
   "outputs": [
    {
     "data": {
      "text/plain": [
       "5    1.781843\n",
       "1    1.712005\n",
       "2    1.463799\n",
       "8    0.717235\n",
       "9    0.370601\n",
       "0   -0.079302\n",
       "4   -0.172155\n",
       "6   -0.357336\n",
       "3   -0.559157\n",
       "7   -1.000045\n",
       "dtype: float64"
      ]
     },
     "execution_count": 15,
     "metadata": {},
     "output_type": "execute_result"
    }
   ],
   "source": [
    "s2 = s1.sort_values(ascending=False) # sort in descending of values\n",
    "s2"
   ]
  },
  {
   "cell_type": "markdown",
   "metadata": {},
   "source": [
    "##  <font color=\"orange\">sort_index() </font>\n",
    "\n",
    "- no parameters：\n",
    "\n",
    "    - sort the Series in ascending of index\n",
    "\n",
    "- with parameters :\n",
    "    \n",
    "    - <font color=\"blue\">asceding=False</font> : sort the Series in descending of index\n",
    "    "
   ]
  },
  {
   "cell_type": "code",
   "execution_count": 16,
   "metadata": {},
   "outputs": [
    {
     "data": {
      "text/plain": [
       "0   -0.079302\n",
       "1    1.712005\n",
       "2    1.463799\n",
       "3   -0.559157\n",
       "4   -0.172155\n",
       "5    1.781843\n",
       "6   -0.357336\n",
       "7   -1.000045\n",
       "8    0.717235\n",
       "9    0.370601\n",
       "dtype: float64"
      ]
     },
     "execution_count": 16,
     "metadata": {},
     "output_type": "execute_result"
    }
   ],
   "source": [
    "s2 = s1.sort_index() # sort in ascending of index\n",
    "s2"
   ]
  },
  {
   "cell_type": "code",
   "execution_count": 18,
   "metadata": {},
   "outputs": [
    {
     "data": {
      "text/plain": [
       "9    0.370601\n",
       "8    0.717235\n",
       "7   -1.000045\n",
       "6   -0.357336\n",
       "5    1.781843\n",
       "4   -0.172155\n",
       "3   -0.559157\n",
       "2    1.463799\n",
       "1    1.712005\n",
       "0   -0.079302\n",
       "dtype: float64"
      ]
     },
     "execution_count": 18,
     "metadata": {},
     "output_type": "execute_result"
    }
   ],
   "source": [
    "s2 = s1.sort_index(ascending=False) # sort in descending of index\n",
    "s2"
   ]
  },
  {
   "cell_type": "markdown",
   "metadata": {},
   "source": [
    "# Sort in Dataframe "
   ]
  },
  {
   "cell_type": "code",
   "execution_count": 25,
   "metadata": {},
   "outputs": [
    {
     "data": {
      "text/html": [
       "<div>\n",
       "<style scoped>\n",
       "    .dataframe tbody tr th:only-of-type {\n",
       "        vertical-align: middle;\n",
       "    }\n",
       "\n",
       "    .dataframe tbody tr th {\n",
       "        vertical-align: top;\n",
       "    }\n",
       "\n",
       "    .dataframe thead th {\n",
       "        text-align: right;\n",
       "    }\n",
       "</style>\n",
       "<table border=\"1\" class=\"dataframe\">\n",
       "  <thead>\n",
       "    <tr style=\"text-align: right;\">\n",
       "      <th></th>\n",
       "      <th>A</th>\n",
       "      <th>B</th>\n",
       "      <th>C</th>\n",
       "      <th>D</th>\n",
       "      <th>E</th>\n",
       "    </tr>\n",
       "  </thead>\n",
       "  <tbody>\n",
       "    <tr>\n",
       "      <th>0</th>\n",
       "      <td>1.187631</td>\n",
       "      <td>-0.208435</td>\n",
       "      <td>1.531844</td>\n",
       "      <td>-1.360335</td>\n",
       "      <td>0.722019</td>\n",
       "    </tr>\n",
       "    <tr>\n",
       "      <th>1</th>\n",
       "      <td>0.956921</td>\n",
       "      <td>0.508694</td>\n",
       "      <td>-1.035132</td>\n",
       "      <td>1.121909</td>\n",
       "      <td>-0.454697</td>\n",
       "    </tr>\n",
       "    <tr>\n",
       "      <th>2</th>\n",
       "      <td>0.497688</td>\n",
       "      <td>1.110877</td>\n",
       "      <td>-0.929651</td>\n",
       "      <td>-0.793396</td>\n",
       "      <td>0.618785</td>\n",
       "    </tr>\n",
       "    <tr>\n",
       "      <th>3</th>\n",
       "      <td>-0.109031</td>\n",
       "      <td>2.362690</td>\n",
       "      <td>1.006136</td>\n",
       "      <td>0.654070</td>\n",
       "      <td>0.659317</td>\n",
       "    </tr>\n",
       "    <tr>\n",
       "      <th>4</th>\n",
       "      <td>-0.467002</td>\n",
       "      <td>0.868967</td>\n",
       "      <td>-0.754774</td>\n",
       "      <td>0.659473</td>\n",
       "      <td>1.429110</td>\n",
       "    </tr>\n",
       "    <tr>\n",
       "      <th>5</th>\n",
       "      <td>-0.053054</td>\n",
       "      <td>0.410339</td>\n",
       "      <td>-0.644959</td>\n",
       "      <td>0.024391</td>\n",
       "      <td>-0.146261</td>\n",
       "    </tr>\n",
       "    <tr>\n",
       "      <th>6</th>\n",
       "      <td>-1.251704</td>\n",
       "      <td>0.173099</td>\n",
       "      <td>0.328931</td>\n",
       "      <td>-0.444761</td>\n",
       "      <td>-0.351639</td>\n",
       "    </tr>\n",
       "    <tr>\n",
       "      <th>7</th>\n",
       "      <td>1.810039</td>\n",
       "      <td>-0.852753</td>\n",
       "      <td>-0.868508</td>\n",
       "      <td>1.039627</td>\n",
       "      <td>-0.570113</td>\n",
       "    </tr>\n",
       "  </tbody>\n",
       "</table>\n",
       "</div>"
      ],
      "text/plain": [
       "          A         B         C         D         E\n",
       "0  1.187631 -0.208435  1.531844 -1.360335  0.722019\n",
       "1  0.956921  0.508694 -1.035132  1.121909 -0.454697\n",
       "2  0.497688  1.110877 -0.929651 -0.793396  0.618785\n",
       "3 -0.109031  2.362690  1.006136  0.654070  0.659317\n",
       "4 -0.467002  0.868967 -0.754774  0.659473  1.429110\n",
       "5 -0.053054  0.410339 -0.644959  0.024391 -0.146261\n",
       "6 -1.251704  0.173099  0.328931 -0.444761 -0.351639\n",
       "7  1.810039 -0.852753 -0.868508  1.039627 -0.570113"
      ]
     },
     "execution_count": 25,
     "metadata": {},
     "output_type": "execute_result"
    }
   ],
   "source": [
    "# create the 8x5 data table of a DataFrame\n",
    "# and rename the columns' name with A,B,C,D,E\n",
    "df1 = DataFrame(np.random.randn(40).reshape(8,5), columns=['A','B','C','D','E']) \n",
    "df1"
   ]
  },
  {
   "cell_type": "markdown",
   "metadata": {},
   "source": [
    "### <font color=\"orange\">sort_values() </font>\n",
    "\n",
    "- no parameters：\n",
    "\n",
    "    - sort the Series in ascending of values\n",
    "\n",
    "- with parameters :\n",
    "    \n",
    "    - <font color=\"blue\">ascending=False</font> : sort the Series in descending of values\n",
    "    \n",
    "- note :\n",
    "    \n",
    "    - df_name('column_name').sort_values : return a Series in descending of column_name\n",
    "    \n",
    "    - df_name.sort_values('column_name') : "
   ]
  },
  {
   "cell_type": "code",
   "execution_count": 26,
   "metadata": {},
   "outputs": [
    {
     "data": {
      "text/plain": [
       "6   -1.251704\n",
       "4   -0.467002\n",
       "3   -0.109031\n",
       "5   -0.053054\n",
       "2    0.497688\n",
       "1    0.956921\n",
       "0    1.187631\n",
       "7    1.810039\n",
       "Name: A, dtype: float64"
      ]
     },
     "execution_count": 26,
     "metadata": {},
     "output_type": "execute_result"
    }
   ],
   "source": [
    "df1['A'].sort_values() # return a Series in descending values of column A"
   ]
  },
  {
   "cell_type": "code",
   "execution_count": 31,
   "metadata": {},
   "outputs": [
    {
     "data": {
      "text/plain": [
       "7    1.810039\n",
       "0    1.187631\n",
       "1    0.956921\n",
       "2    0.497688\n",
       "5   -0.053054\n",
       "3   -0.109031\n",
       "4   -0.467002\n",
       "6   -1.251704\n",
       "Name: A, dtype: float64"
      ]
     },
     "execution_count": 31,
     "metadata": {},
     "output_type": "execute_result"
    }
   ],
   "source": [
    "df1['A'].sort_values(ascending=False) # return a Series in ascending values of column A"
   ]
  },
  {
   "cell_type": "code",
   "execution_count": 30,
   "metadata": {},
   "outputs": [
    {
     "data": {
      "text/html": [
       "<div>\n",
       "<style scoped>\n",
       "    .dataframe tbody tr th:only-of-type {\n",
       "        vertical-align: middle;\n",
       "    }\n",
       "\n",
       "    .dataframe tbody tr th {\n",
       "        vertical-align: top;\n",
       "    }\n",
       "\n",
       "    .dataframe thead th {\n",
       "        text-align: right;\n",
       "    }\n",
       "</style>\n",
       "<table border=\"1\" class=\"dataframe\">\n",
       "  <thead>\n",
       "    <tr style=\"text-align: right;\">\n",
       "      <th></th>\n",
       "      <th>A</th>\n",
       "      <th>B</th>\n",
       "      <th>C</th>\n",
       "      <th>D</th>\n",
       "      <th>E</th>\n",
       "    </tr>\n",
       "  </thead>\n",
       "  <tbody>\n",
       "    <tr>\n",
       "      <th>6</th>\n",
       "      <td>-1.251704</td>\n",
       "      <td>0.173099</td>\n",
       "      <td>0.328931</td>\n",
       "      <td>-0.444761</td>\n",
       "      <td>-0.351639</td>\n",
       "    </tr>\n",
       "    <tr>\n",
       "      <th>4</th>\n",
       "      <td>-0.467002</td>\n",
       "      <td>0.868967</td>\n",
       "      <td>-0.754774</td>\n",
       "      <td>0.659473</td>\n",
       "      <td>1.429110</td>\n",
       "    </tr>\n",
       "    <tr>\n",
       "      <th>3</th>\n",
       "      <td>-0.109031</td>\n",
       "      <td>2.362690</td>\n",
       "      <td>1.006136</td>\n",
       "      <td>0.654070</td>\n",
       "      <td>0.659317</td>\n",
       "    </tr>\n",
       "    <tr>\n",
       "      <th>5</th>\n",
       "      <td>-0.053054</td>\n",
       "      <td>0.410339</td>\n",
       "      <td>-0.644959</td>\n",
       "      <td>0.024391</td>\n",
       "      <td>-0.146261</td>\n",
       "    </tr>\n",
       "    <tr>\n",
       "      <th>2</th>\n",
       "      <td>0.497688</td>\n",
       "      <td>1.110877</td>\n",
       "      <td>-0.929651</td>\n",
       "      <td>-0.793396</td>\n",
       "      <td>0.618785</td>\n",
       "    </tr>\n",
       "    <tr>\n",
       "      <th>1</th>\n",
       "      <td>0.956921</td>\n",
       "      <td>0.508694</td>\n",
       "      <td>-1.035132</td>\n",
       "      <td>1.121909</td>\n",
       "      <td>-0.454697</td>\n",
       "    </tr>\n",
       "    <tr>\n",
       "      <th>0</th>\n",
       "      <td>1.187631</td>\n",
       "      <td>-0.208435</td>\n",
       "      <td>1.531844</td>\n",
       "      <td>-1.360335</td>\n",
       "      <td>0.722019</td>\n",
       "    </tr>\n",
       "    <tr>\n",
       "      <th>7</th>\n",
       "      <td>1.810039</td>\n",
       "      <td>-0.852753</td>\n",
       "      <td>-0.868508</td>\n",
       "      <td>1.039627</td>\n",
       "      <td>-0.570113</td>\n",
       "    </tr>\n",
       "  </tbody>\n",
       "</table>\n",
       "</div>"
      ],
      "text/plain": [
       "          A         B         C         D         E\n",
       "6 -1.251704  0.173099  0.328931 -0.444761 -0.351639\n",
       "4 -0.467002  0.868967 -0.754774  0.659473  1.429110\n",
       "3 -0.109031  2.362690  1.006136  0.654070  0.659317\n",
       "5 -0.053054  0.410339 -0.644959  0.024391 -0.146261\n",
       "2  0.497688  1.110877 -0.929651 -0.793396  0.618785\n",
       "1  0.956921  0.508694 -1.035132  1.121909 -0.454697\n",
       "0  1.187631 -0.208435  1.531844 -1.360335  0.722019\n",
       "7  1.810039 -0.852753 -0.868508  1.039627 -0.570113"
      ]
     },
     "execution_count": 30,
     "metadata": {},
     "output_type": "execute_result"
    }
   ],
   "source": [
    "df1.sort_values('A') # return a DataFrame table in descending values of column A"
   ]
  },
  {
   "cell_type": "code",
   "execution_count": 33,
   "metadata": {},
   "outputs": [
    {
     "data": {
      "text/html": [
       "<div>\n",
       "<style scoped>\n",
       "    .dataframe tbody tr th:only-of-type {\n",
       "        vertical-align: middle;\n",
       "    }\n",
       "\n",
       "    .dataframe tbody tr th {\n",
       "        vertical-align: top;\n",
       "    }\n",
       "\n",
       "    .dataframe thead th {\n",
       "        text-align: right;\n",
       "    }\n",
       "</style>\n",
       "<table border=\"1\" class=\"dataframe\">\n",
       "  <thead>\n",
       "    <tr style=\"text-align: right;\">\n",
       "      <th></th>\n",
       "      <th>A</th>\n",
       "      <th>B</th>\n",
       "      <th>C</th>\n",
       "      <th>D</th>\n",
       "      <th>E</th>\n",
       "    </tr>\n",
       "  </thead>\n",
       "  <tbody>\n",
       "    <tr>\n",
       "      <th>7</th>\n",
       "      <td>1.810039</td>\n",
       "      <td>-0.852753</td>\n",
       "      <td>-0.868508</td>\n",
       "      <td>1.039627</td>\n",
       "      <td>-0.570113</td>\n",
       "    </tr>\n",
       "    <tr>\n",
       "      <th>0</th>\n",
       "      <td>1.187631</td>\n",
       "      <td>-0.208435</td>\n",
       "      <td>1.531844</td>\n",
       "      <td>-1.360335</td>\n",
       "      <td>0.722019</td>\n",
       "    </tr>\n",
       "    <tr>\n",
       "      <th>1</th>\n",
       "      <td>0.956921</td>\n",
       "      <td>0.508694</td>\n",
       "      <td>-1.035132</td>\n",
       "      <td>1.121909</td>\n",
       "      <td>-0.454697</td>\n",
       "    </tr>\n",
       "    <tr>\n",
       "      <th>2</th>\n",
       "      <td>0.497688</td>\n",
       "      <td>1.110877</td>\n",
       "      <td>-0.929651</td>\n",
       "      <td>-0.793396</td>\n",
       "      <td>0.618785</td>\n",
       "    </tr>\n",
       "    <tr>\n",
       "      <th>5</th>\n",
       "      <td>-0.053054</td>\n",
       "      <td>0.410339</td>\n",
       "      <td>-0.644959</td>\n",
       "      <td>0.024391</td>\n",
       "      <td>-0.146261</td>\n",
       "    </tr>\n",
       "    <tr>\n",
       "      <th>3</th>\n",
       "      <td>-0.109031</td>\n",
       "      <td>2.362690</td>\n",
       "      <td>1.006136</td>\n",
       "      <td>0.654070</td>\n",
       "      <td>0.659317</td>\n",
       "    </tr>\n",
       "    <tr>\n",
       "      <th>4</th>\n",
       "      <td>-0.467002</td>\n",
       "      <td>0.868967</td>\n",
       "      <td>-0.754774</td>\n",
       "      <td>0.659473</td>\n",
       "      <td>1.429110</td>\n",
       "    </tr>\n",
       "    <tr>\n",
       "      <th>6</th>\n",
       "      <td>-1.251704</td>\n",
       "      <td>0.173099</td>\n",
       "      <td>0.328931</td>\n",
       "      <td>-0.444761</td>\n",
       "      <td>-0.351639</td>\n",
       "    </tr>\n",
       "  </tbody>\n",
       "</table>\n",
       "</div>"
      ],
      "text/plain": [
       "          A         B         C         D         E\n",
       "7  1.810039 -0.852753 -0.868508  1.039627 -0.570113\n",
       "0  1.187631 -0.208435  1.531844 -1.360335  0.722019\n",
       "1  0.956921  0.508694 -1.035132  1.121909 -0.454697\n",
       "2  0.497688  1.110877 -0.929651 -0.793396  0.618785\n",
       "5 -0.053054  0.410339 -0.644959  0.024391 -0.146261\n",
       "3 -0.109031  2.362690  1.006136  0.654070  0.659317\n",
       "4 -0.467002  0.868967 -0.754774  0.659473  1.429110\n",
       "6 -1.251704  0.173099  0.328931 -0.444761 -0.351639"
      ]
     },
     "execution_count": 33,
     "metadata": {},
     "output_type": "execute_result"
    }
   ],
   "source": [
    "df1.sort_values('A',ascending=False) # return a DataFrame table in ascending values of column A"
   ]
  },
  {
   "cell_type": "markdown",
   "metadata": {},
   "source": [
    "##  <font color=\"orange\">sort_index() </font>\n",
    "\n",
    "- no parameters：\n",
    "\n",
    "    - sort the Series in ascending of index\n",
    "\n",
    "- with parameters :\n",
    "    \n",
    "    - <font color=\"blue\">asceding=False</font> : sort the Series in descending of index\n",
    "    "
   ]
  },
  {
   "cell_type": "code",
   "execution_count": 40,
   "metadata": {},
   "outputs": [
    {
     "data": {
      "text/html": [
       "<div>\n",
       "<style scoped>\n",
       "    .dataframe tbody tr th:only-of-type {\n",
       "        vertical-align: middle;\n",
       "    }\n",
       "\n",
       "    .dataframe tbody tr th {\n",
       "        vertical-align: top;\n",
       "    }\n",
       "\n",
       "    .dataframe thead th {\n",
       "        text-align: right;\n",
       "    }\n",
       "</style>\n",
       "<table border=\"1\" class=\"dataframe\">\n",
       "  <thead>\n",
       "    <tr style=\"text-align: right;\">\n",
       "      <th></th>\n",
       "      <th>A</th>\n",
       "      <th>B</th>\n",
       "      <th>C</th>\n",
       "      <th>D</th>\n",
       "      <th>E</th>\n",
       "    </tr>\n",
       "  </thead>\n",
       "  <tbody>\n",
       "    <tr>\n",
       "      <th>6</th>\n",
       "      <td>-1.251704</td>\n",
       "      <td>0.173099</td>\n",
       "      <td>0.328931</td>\n",
       "      <td>-0.444761</td>\n",
       "      <td>-0.351639</td>\n",
       "    </tr>\n",
       "    <tr>\n",
       "      <th>4</th>\n",
       "      <td>-0.467002</td>\n",
       "      <td>0.868967</td>\n",
       "      <td>-0.754774</td>\n",
       "      <td>0.659473</td>\n",
       "      <td>1.429110</td>\n",
       "    </tr>\n",
       "    <tr>\n",
       "      <th>3</th>\n",
       "      <td>-0.109031</td>\n",
       "      <td>2.362690</td>\n",
       "      <td>1.006136</td>\n",
       "      <td>0.654070</td>\n",
       "      <td>0.659317</td>\n",
       "    </tr>\n",
       "    <tr>\n",
       "      <th>5</th>\n",
       "      <td>-0.053054</td>\n",
       "      <td>0.410339</td>\n",
       "      <td>-0.644959</td>\n",
       "      <td>0.024391</td>\n",
       "      <td>-0.146261</td>\n",
       "    </tr>\n",
       "    <tr>\n",
       "      <th>2</th>\n",
       "      <td>0.497688</td>\n",
       "      <td>1.110877</td>\n",
       "      <td>-0.929651</td>\n",
       "      <td>-0.793396</td>\n",
       "      <td>0.618785</td>\n",
       "    </tr>\n",
       "    <tr>\n",
       "      <th>1</th>\n",
       "      <td>0.956921</td>\n",
       "      <td>0.508694</td>\n",
       "      <td>-1.035132</td>\n",
       "      <td>1.121909</td>\n",
       "      <td>-0.454697</td>\n",
       "    </tr>\n",
       "    <tr>\n",
       "      <th>0</th>\n",
       "      <td>1.187631</td>\n",
       "      <td>-0.208435</td>\n",
       "      <td>1.531844</td>\n",
       "      <td>-1.360335</td>\n",
       "      <td>0.722019</td>\n",
       "    </tr>\n",
       "    <tr>\n",
       "      <th>7</th>\n",
       "      <td>1.810039</td>\n",
       "      <td>-0.852753</td>\n",
       "      <td>-0.868508</td>\n",
       "      <td>1.039627</td>\n",
       "      <td>-0.570113</td>\n",
       "    </tr>\n",
       "  </tbody>\n",
       "</table>\n",
       "</div>"
      ],
      "text/plain": [
       "          A         B         C         D         E\n",
       "6 -1.251704  0.173099  0.328931 -0.444761 -0.351639\n",
       "4 -0.467002  0.868967 -0.754774  0.659473  1.429110\n",
       "3 -0.109031  2.362690  1.006136  0.654070  0.659317\n",
       "5 -0.053054  0.410339 -0.644959  0.024391 -0.146261\n",
       "2  0.497688  1.110877 -0.929651 -0.793396  0.618785\n",
       "1  0.956921  0.508694 -1.035132  1.121909 -0.454697\n",
       "0  1.187631 -0.208435  1.531844 -1.360335  0.722019\n",
       "7  1.810039 -0.852753 -0.868508  1.039627 -0.570113"
      ]
     },
     "execution_count": 40,
     "metadata": {},
     "output_type": "execute_result"
    }
   ],
   "source": [
    "df2 = df1.sort_values('A') # get a unordered dataframe\n",
    "df2"
   ]
  },
  {
   "cell_type": "code",
   "execution_count": 39,
   "metadata": {},
   "outputs": [
    {
     "data": {
      "text/html": [
       "<div>\n",
       "<style scoped>\n",
       "    .dataframe tbody tr th:only-of-type {\n",
       "        vertical-align: middle;\n",
       "    }\n",
       "\n",
       "    .dataframe tbody tr th {\n",
       "        vertical-align: top;\n",
       "    }\n",
       "\n",
       "    .dataframe thead th {\n",
       "        text-align: right;\n",
       "    }\n",
       "</style>\n",
       "<table border=\"1\" class=\"dataframe\">\n",
       "  <thead>\n",
       "    <tr style=\"text-align: right;\">\n",
       "      <th></th>\n",
       "      <th>A</th>\n",
       "      <th>B</th>\n",
       "      <th>C</th>\n",
       "      <th>D</th>\n",
       "      <th>E</th>\n",
       "    </tr>\n",
       "  </thead>\n",
       "  <tbody>\n",
       "    <tr>\n",
       "      <th>0</th>\n",
       "      <td>1.187631</td>\n",
       "      <td>-0.208435</td>\n",
       "      <td>1.531844</td>\n",
       "      <td>-1.360335</td>\n",
       "      <td>0.722019</td>\n",
       "    </tr>\n",
       "    <tr>\n",
       "      <th>1</th>\n",
       "      <td>0.956921</td>\n",
       "      <td>0.508694</td>\n",
       "      <td>-1.035132</td>\n",
       "      <td>1.121909</td>\n",
       "      <td>-0.454697</td>\n",
       "    </tr>\n",
       "    <tr>\n",
       "      <th>2</th>\n",
       "      <td>0.497688</td>\n",
       "      <td>1.110877</td>\n",
       "      <td>-0.929651</td>\n",
       "      <td>-0.793396</td>\n",
       "      <td>0.618785</td>\n",
       "    </tr>\n",
       "    <tr>\n",
       "      <th>3</th>\n",
       "      <td>-0.109031</td>\n",
       "      <td>2.362690</td>\n",
       "      <td>1.006136</td>\n",
       "      <td>0.654070</td>\n",
       "      <td>0.659317</td>\n",
       "    </tr>\n",
       "    <tr>\n",
       "      <th>4</th>\n",
       "      <td>-0.467002</td>\n",
       "      <td>0.868967</td>\n",
       "      <td>-0.754774</td>\n",
       "      <td>0.659473</td>\n",
       "      <td>1.429110</td>\n",
       "    </tr>\n",
       "    <tr>\n",
       "      <th>5</th>\n",
       "      <td>-0.053054</td>\n",
       "      <td>0.410339</td>\n",
       "      <td>-0.644959</td>\n",
       "      <td>0.024391</td>\n",
       "      <td>-0.146261</td>\n",
       "    </tr>\n",
       "    <tr>\n",
       "      <th>6</th>\n",
       "      <td>-1.251704</td>\n",
       "      <td>0.173099</td>\n",
       "      <td>0.328931</td>\n",
       "      <td>-0.444761</td>\n",
       "      <td>-0.351639</td>\n",
       "    </tr>\n",
       "    <tr>\n",
       "      <th>7</th>\n",
       "      <td>1.810039</td>\n",
       "      <td>-0.852753</td>\n",
       "      <td>-0.868508</td>\n",
       "      <td>1.039627</td>\n",
       "      <td>-0.570113</td>\n",
       "    </tr>\n",
       "  </tbody>\n",
       "</table>\n",
       "</div>"
      ],
      "text/plain": [
       "          A         B         C         D         E\n",
       "0  1.187631 -0.208435  1.531844 -1.360335  0.722019\n",
       "1  0.956921  0.508694 -1.035132  1.121909 -0.454697\n",
       "2  0.497688  1.110877 -0.929651 -0.793396  0.618785\n",
       "3 -0.109031  2.362690  1.006136  0.654070  0.659317\n",
       "4 -0.467002  0.868967 -0.754774  0.659473  1.429110\n",
       "5 -0.053054  0.410339 -0.644959  0.024391 -0.146261\n",
       "6 -1.251704  0.173099  0.328931 -0.444761 -0.351639\n",
       "7  1.810039 -0.852753 -0.868508  1.039627 -0.570113"
      ]
     },
     "execution_count": 39,
     "metadata": {},
     "output_type": "execute_result"
    }
   ],
   "source": [
    "df2.sort_index() # return a data frame table in descending of index"
   ]
  },
  {
   "cell_type": "code",
   "execution_count": 37,
   "metadata": {},
   "outputs": [
    {
     "data": {
      "text/html": [
       "<div>\n",
       "<style scoped>\n",
       "    .dataframe tbody tr th:only-of-type {\n",
       "        vertical-align: middle;\n",
       "    }\n",
       "\n",
       "    .dataframe tbody tr th {\n",
       "        vertical-align: top;\n",
       "    }\n",
       "\n",
       "    .dataframe thead th {\n",
       "        text-align: right;\n",
       "    }\n",
       "</style>\n",
       "<table border=\"1\" class=\"dataframe\">\n",
       "  <thead>\n",
       "    <tr style=\"text-align: right;\">\n",
       "      <th></th>\n",
       "      <th>A</th>\n",
       "      <th>B</th>\n",
       "      <th>C</th>\n",
       "      <th>D</th>\n",
       "      <th>E</th>\n",
       "    </tr>\n",
       "  </thead>\n",
       "  <tbody>\n",
       "    <tr>\n",
       "      <th>7</th>\n",
       "      <td>1.810039</td>\n",
       "      <td>-0.852753</td>\n",
       "      <td>-0.868508</td>\n",
       "      <td>1.039627</td>\n",
       "      <td>-0.570113</td>\n",
       "    </tr>\n",
       "    <tr>\n",
       "      <th>6</th>\n",
       "      <td>-1.251704</td>\n",
       "      <td>0.173099</td>\n",
       "      <td>0.328931</td>\n",
       "      <td>-0.444761</td>\n",
       "      <td>-0.351639</td>\n",
       "    </tr>\n",
       "    <tr>\n",
       "      <th>5</th>\n",
       "      <td>-0.053054</td>\n",
       "      <td>0.410339</td>\n",
       "      <td>-0.644959</td>\n",
       "      <td>0.024391</td>\n",
       "      <td>-0.146261</td>\n",
       "    </tr>\n",
       "    <tr>\n",
       "      <th>4</th>\n",
       "      <td>-0.467002</td>\n",
       "      <td>0.868967</td>\n",
       "      <td>-0.754774</td>\n",
       "      <td>0.659473</td>\n",
       "      <td>1.429110</td>\n",
       "    </tr>\n",
       "    <tr>\n",
       "      <th>3</th>\n",
       "      <td>-0.109031</td>\n",
       "      <td>2.362690</td>\n",
       "      <td>1.006136</td>\n",
       "      <td>0.654070</td>\n",
       "      <td>0.659317</td>\n",
       "    </tr>\n",
       "    <tr>\n",
       "      <th>2</th>\n",
       "      <td>0.497688</td>\n",
       "      <td>1.110877</td>\n",
       "      <td>-0.929651</td>\n",
       "      <td>-0.793396</td>\n",
       "      <td>0.618785</td>\n",
       "    </tr>\n",
       "    <tr>\n",
       "      <th>1</th>\n",
       "      <td>0.956921</td>\n",
       "      <td>0.508694</td>\n",
       "      <td>-1.035132</td>\n",
       "      <td>1.121909</td>\n",
       "      <td>-0.454697</td>\n",
       "    </tr>\n",
       "    <tr>\n",
       "      <th>0</th>\n",
       "      <td>1.187631</td>\n",
       "      <td>-0.208435</td>\n",
       "      <td>1.531844</td>\n",
       "      <td>-1.360335</td>\n",
       "      <td>0.722019</td>\n",
       "    </tr>\n",
       "  </tbody>\n",
       "</table>\n",
       "</div>"
      ],
      "text/plain": [
       "          A         B         C         D         E\n",
       "7  1.810039 -0.852753 -0.868508  1.039627 -0.570113\n",
       "6 -1.251704  0.173099  0.328931 -0.444761 -0.351639\n",
       "5 -0.053054  0.410339 -0.644959  0.024391 -0.146261\n",
       "4 -0.467002  0.868967 -0.754774  0.659473  1.429110\n",
       "3 -0.109031  2.362690  1.006136  0.654070  0.659317\n",
       "2  0.497688  1.110877 -0.929651 -0.793396  0.618785\n",
       "1  0.956921  0.508694 -1.035132  1.121909 -0.454697\n",
       "0  1.187631 -0.208435  1.531844 -1.360335  0.722019"
      ]
     },
     "execution_count": 37,
     "metadata": {},
     "output_type": "execute_result"
    }
   ],
   "source": [
    "df2.sort_index(ascending=False) # return a data frame table in ascending of index"
   ]
  }
 ],
 "metadata": {
  "kernelspec": {
   "display_name": "Python 3",
   "language": "python",
   "name": "python3"
  },
  "language_info": {
   "codemirror_mode": {
    "name": "ipython",
    "version": 3
   },
   "file_extension": ".py",
   "mimetype": "text/x-python",
   "name": "python",
   "nbconvert_exporter": "python",
   "pygments_lexer": "ipython3",
   "version": "3.7.6"
  }
 },
 "nbformat": 4,
 "nbformat_minor": 4
}
