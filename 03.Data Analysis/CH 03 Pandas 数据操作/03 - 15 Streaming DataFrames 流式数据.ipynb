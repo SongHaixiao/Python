{
 "cells": [
  {
   "cell_type": "code",
   "execution_count": 1,
   "metadata": {},
   "outputs": [],
   "source": [
    "import numpy as np\n",
    "import pandas as pd\n",
    "from pandas import Series, DataFrame"
   ]
  },
  {
   "cell_type": "markdown",
   "metadata": {},
   "source": [
    "# 时间序列数据回顾\n",
    "\n",
    "- 时间序列数据是一个固定的数据"
   ]
  },
  {
   "cell_type": "code",
   "execution_count": 2,
   "metadata": {},
   "outputs": [],
   "source": [
    "t_range = pd.date_range('2017-01-01','2017-12-31')"
   ]
  },
  {
   "cell_type": "code",
   "execution_count": 3,
   "metadata": {},
   "outputs": [],
   "source": [
    "df1 = DataFrame(index=t_range)"
   ]
  },
  {
   "cell_type": "code",
   "execution_count": 4,
   "metadata": {},
   "outputs": [],
   "source": [
    "df1['x'] = np.random.randint(10,100,size=len(t_range))"
   ]
  },
  {
   "cell_type": "code",
   "execution_count": 5,
   "metadata": {},
   "outputs": [
    {
     "data": {
      "text/html": [
       "<div>\n",
       "<style scoped>\n",
       "    .dataframe tbody tr th:only-of-type {\n",
       "        vertical-align: middle;\n",
       "    }\n",
       "\n",
       "    .dataframe tbody tr th {\n",
       "        vertical-align: top;\n",
       "    }\n",
       "\n",
       "    .dataframe thead th {\n",
       "        text-align: right;\n",
       "    }\n",
       "</style>\n",
       "<table border=\"1\" class=\"dataframe\">\n",
       "  <thead>\n",
       "    <tr style=\"text-align: right;\">\n",
       "      <th></th>\n",
       "      <th>x</th>\n",
       "    </tr>\n",
       "  </thead>\n",
       "  <tbody>\n",
       "    <tr>\n",
       "      <th>2017-01-01</th>\n",
       "      <td>57</td>\n",
       "    </tr>\n",
       "    <tr>\n",
       "      <th>2017-01-02</th>\n",
       "      <td>89</td>\n",
       "    </tr>\n",
       "    <tr>\n",
       "      <th>2017-01-03</th>\n",
       "      <td>81</td>\n",
       "    </tr>\n",
       "    <tr>\n",
       "      <th>2017-01-04</th>\n",
       "      <td>74</td>\n",
       "    </tr>\n",
       "    <tr>\n",
       "      <th>2017-01-05</th>\n",
       "      <td>82</td>\n",
       "    </tr>\n",
       "    <tr>\n",
       "      <th>...</th>\n",
       "      <td>...</td>\n",
       "    </tr>\n",
       "    <tr>\n",
       "      <th>2017-12-27</th>\n",
       "      <td>95</td>\n",
       "    </tr>\n",
       "    <tr>\n",
       "      <th>2017-12-28</th>\n",
       "      <td>86</td>\n",
       "    </tr>\n",
       "    <tr>\n",
       "      <th>2017-12-29</th>\n",
       "      <td>76</td>\n",
       "    </tr>\n",
       "    <tr>\n",
       "      <th>2017-12-30</th>\n",
       "      <td>91</td>\n",
       "    </tr>\n",
       "    <tr>\n",
       "      <th>2017-12-31</th>\n",
       "      <td>66</td>\n",
       "    </tr>\n",
       "  </tbody>\n",
       "</table>\n",
       "<p>365 rows × 1 columns</p>\n",
       "</div>"
      ],
      "text/plain": [
       "             x\n",
       "2017-01-01  57\n",
       "2017-01-02  89\n",
       "2017-01-03  81\n",
       "2017-01-04  74\n",
       "2017-01-05  82\n",
       "...         ..\n",
       "2017-12-27  95\n",
       "2017-12-28  86\n",
       "2017-12-29  76\n",
       "2017-12-30  91\n",
       "2017-12-31  66\n",
       "\n",
       "[365 rows x 1 columns]"
      ]
     },
     "execution_count": 5,
     "metadata": {},
     "output_type": "execute_result"
    }
   ],
   "source": [
    "df1"
   ]
  },
  {
   "cell_type": "markdown",
   "metadata": {},
   "source": [
    "# Streaming DataFrames 流式数据\n",
    "\n",
    "- 与时间序列数据类似，但是不是固定数据，即，每次刷新，Streaming DataFrames 数据会随着时间改变"
   ]
  },
  {
   "cell_type": "markdown",
   "metadata": {},
   "source": [
    "### Random() \n",
    "\n",
    "- 参数：\n",
    "    - freq ：数据产生的频率，默认值为 100ms,即，每 100ms 就会产生一个数据；\n",
    "    - interval : DataFrame 更新频率，默认值为 500ms，即,每 500ms 就会更新一次 DataFrame;\n",
    "    - 注意：\n",
    "        - freq 产生的是 单个数据，interval 更新的是 freq 所产生的数据组成的 DataFrame\n",
    "        - 产生新的 dataframe 与 Pandas 中产生的 dataframe 是不一样的\n",
    "        - 操作方法类似\n",
    "    \n",
    "    "
   ]
  },
  {
   "cell_type": "code",
   "execution_count": 10,
   "metadata": {},
   "outputs": [],
   "source": [
    "import hvplot.streamz  # noqa\n",
    "from streamz.dataframe import Random"
   ]
  },
  {
   "cell_type": "code",
   "execution_count": 27,
   "metadata": {},
   "outputs": [],
   "source": [
    "df = Random(interval='200ms', freq='50ms')"
   ]
  },
  {
   "cell_type": "code",
   "execution_count": 28,
   "metadata": {},
   "outputs": [
    {
     "data": {
      "text/plain": [
       "streamz.dataframe.core.Random"
      ]
     },
     "execution_count": 28,
     "metadata": {},
     "output_type": "execute_result"
    }
   ],
   "source": [
    "type(df)"
   ]
  },
  {
   "cell_type": "code",
   "execution_count": 29,
   "metadata": {},
   "outputs": [
    {
     "data": {},
     "metadata": {},
     "output_type": "display_data"
    },
    {
     "data": {
      "application/vnd.holoviews_exec.v0+json": "",
      "text/html": [
       "<div id='154292'>\n",
       "\n",
       "\n",
       "\n",
       "\n",
       "\n",
       "  <div class=\"bk-root\" id=\"e3b60aa7-6e69-4037-86c8-03367f294a5d\" data-root-id=\"154292\"></div>\n",
       "</div>\n",
       "<script type=\"application/javascript\">(function(root) {\n",
       "  function embed_document(root) {\n",
       "    var docs_json = {\"39ae8927-350a-451f-ade4-d9db24d3eb95\":{\"roots\":{\"references\":[{\"attributes\":{\"end\":1614352492298.789,\"reset_end\":1614352492298.789,\"reset_start\":1614352488213.352,\"start\":1614352488213.352,\"tags\":[[[\"index\",\"index\",null]]]},\"id\":\"154309\",\"type\":\"Range1d\"},{\"attributes\":{\"days\":[1,15]},\"id\":\"154408\",\"type\":\"DaysTicker\"},{\"attributes\":{\"data\":{\"Variable\":[\"y\",\"y\",\"y\",\"y\",\"y\",\"y\",\"y\",\"y\",\"y\",\"y\",\"y\",\"y\",\"y\",\"y\",\"y\",\"y\",\"y\",\"y\",\"y\",\"y\",\"y\",\"y\",\"y\",\"y\",\"y\",\"y\",\"y\",\"y\",\"y\",\"y\",\"y\",\"y\",\"y\",\"y\",\"y\",\"y\",\"y\",\"y\",\"y\",\"y\",\"y\",\"y\",\"y\",\"y\",\"y\",\"y\",\"y\",\"y\",\"y\",\"y\",\"y\",\"y\",\"y\",\"y\",\"y\",\"y\",\"y\",\"y\",\"y\",\"y\",\"y\",\"y\",\"y\",\"y\",\"y\",\"y\",\"y\",\"y\",\"y\",\"y\",\"y\",\"y\",\"y\",\"y\",\"y\",\"y\",\"y\",\"y\"],\"index\":{\"__ndarray__\":\"olVxge59d0KidXSB7n13QqKVd4HufXdCorV6ge59d0Ki1X2B7n13QqL1gIHufXdCohWEge59d0KRJ4qB7n13QpFHjYHufXdCkWeQge59d0KRh5OB7n13QpGnloHufXdCkceZge59d0KR55yB7n13Qo/AoIHufXdCj+Cjge59d0KPAKeB7n13Qo8gqoHufXdCj0Ctge59d0KPYLCB7n13Qo+As4HufXdC3bC3ge59d0Ld0LqB7n13Qt3wvYHufXdC3RDBge59d0LdMMSB7n13Qt1Qx4HufXdC3XDKge59d0LPoc+B7n13Qs/B0oHufXdCz+HVge59d0LPAdmB7n13Qs8h3IHufXdCz0Hfge59d0LPYeKB7n13QiMB6IHufXdCIyHrge59d0IjQe6B7n13QiNh8YHufXdCI4H0ge59d0IjofeB7n13QiPB+oHufXdC+qD/ge59d0L6wAKC7n13QvrgBYLufXdC+gAJgu59d0L6IAyC7n13QvpAD4LufXdC+mASgu59d0LFXBeC7n13QsV8GoLufXdCxZwdgu59d0LFvCCC7n13QsXcI4LufXdCxfwmgu59d0LFHCqC7n13QsU8LYLufXdCxVwwgu59d0I9yjOC7n13Qj3qNoLufXdCPQo6gu59d0I9Kj2C7n13Qj1KQILufXdCPWpDgu59d0I9ikaC7n13Qj2qSYLufXdCoExOgu59d0KgbFGC7n13QqCMVILufXdCoKxXgu59d0KgzFqC7n13QqDsXYLufXdCoAxhgu59d0KgLGSC7n13QqBMZ4LufXdCoGxqgu59d0KgjG2C7n13QqCscILufXdC\",\"dtype\":\"float64\",\"order\":\"little\",\"shape\":[78]},\"value\":{\"__ndarray__\":\"AgAAAAAAAAABAAAAAgAAAAEAAAAAAAAAAAAAAAEAAAABAAAAAQAAAAEAAAABAAAAAQAAAAEAAAABAAAAAgAAAAEAAAABAAAAAgAAAAEAAAABAAAAAgAAAAAAAAAAAAAAAgAAAAAAAAAEAAAAAAAAAAAAAAACAAAAAAAAAAEAAAAAAAAAAQAAAAEAAAABAAAAAQAAAAAAAAACAAAAAgAAAAAAAAACAAAAAQAAAAAAAAACAAAAAQAAAAIAAAAAAAAAAQAAAAAAAAAFAAAAAQAAAAIAAAAAAAAAAQAAAAEAAAACAAAAAQAAAAMAAAABAAAAAAAAAAIAAAAAAAAAAQAAAAAAAAABAAAAAQAAAAAAAAAAAAAAAQAAAAEAAAABAAAAAAAAAAEAAAABAAAAAAAAAAEAAAABAAAA\",\"dtype\":\"int32\",\"order\":\"little\",\"shape\":[78]}},\"selected\":{\"id\":\"154438\"},\"selection_policy\":{\"id\":\"154465\"}},\"id\":\"154437\",\"type\":\"ColumnDataSource\"},{\"attributes\":{},\"id\":\"154415\",\"type\":\"UnionRenderers\"},{\"attributes\":{\"overlay\":{\"id\":\"154336\"}},\"id\":\"154334\",\"type\":\"BoxZoomTool\"},{\"attributes\":{},\"id\":\"154319\",\"type\":\"LinearScale\"},{\"attributes\":{\"label\":{\"value\":\"z\"},\"renderers\":[{\"id\":\"154474\"}]},\"id\":\"154500\",\"type\":\"LegendItem\"},{\"attributes\":{\"axis\":{\"id\":\"154323\"},\"grid_line_color\":null,\"ticker\":null},\"id\":\"154326\",\"type\":\"Grid\"},{\"attributes\":{\"axis_label\":\"\",\"bounds\":\"auto\",\"formatter\":{\"id\":\"154367\"},\"major_label_orientation\":\"horizontal\",\"ticker\":{\"id\":\"154324\"}},\"id\":\"154323\",\"type\":\"DatetimeAxis\"},{\"attributes\":{\"source\":{\"id\":\"154468\"}},\"id\":\"154475\",\"type\":\"CDSView\"},{\"attributes\":{\"client_comm_id\":\"a42f0345bb8d49b3b105a404809599d9\",\"comm_id\":\"770ffbc92243442491475abfc10a11da\",\"plot_id\":\"154292\"},\"id\":\"157435\",\"type\":\"panel.models.comm_manager.CommManager\"},{\"attributes\":{},\"id\":\"154333\",\"type\":\"WheelZoomTool\"},{\"attributes\":{\"axis\":{\"id\":\"154327\"},\"dimension\":1,\"grid_line_color\":null,\"ticker\":null},\"id\":\"154330\",\"type\":\"Grid\"},{\"attributes\":{\"num_minor_ticks\":5,\"tickers\":[{\"id\":\"154402\"},{\"id\":\"154403\"},{\"id\":\"154404\"},{\"id\":\"154405\"},{\"id\":\"154406\"},{\"id\":\"154407\"},{\"id\":\"154408\"},{\"id\":\"154409\"},{\"id\":\"154410\"},{\"id\":\"154411\"},{\"id\":\"154412\"},{\"id\":\"154413\"}]},\"id\":\"154324\",\"type\":\"DatetimeTicker\"},{\"attributes\":{\"days\":[1,4,7,10,13,16,19,22,25,28]},\"id\":\"154406\",\"type\":\"DaysTicker\"},{\"attributes\":{\"months\":[0,4,8]},\"id\":\"154411\",\"type\":\"MonthsTicker\"},{\"attributes\":{},\"id\":\"154469\",\"type\":\"Selection\"},{\"attributes\":{\"axis_label\":\"\",\"bounds\":\"auto\",\"formatter\":{\"id\":\"154369\"},\"major_label_orientation\":\"horizontal\",\"ticker\":{\"id\":\"154328\"}},\"id\":\"154327\",\"type\":\"LinearAxis\"},{\"attributes\":{\"source\":{\"id\":\"154437\"}},\"id\":\"154444\",\"type\":\"CDSView\"},{\"attributes\":{\"line_alpha\":0.1,\"line_color\":\"#ff7e0e\",\"line_width\":2,\"x\":{\"field\":\"index\"},\"y\":{\"field\":\"value\"}},\"id\":\"154441\",\"type\":\"Line\"},{\"attributes\":{\"base\":24,\"mantissas\":[1,2,4,6,8,12],\"max_interval\":43200000.0,\"min_interval\":3600000.0,\"num_minor_ticks\":0},\"id\":\"154404\",\"type\":\"AdaptiveTicker\"},{\"attributes\":{\"callback\":null,\"renderers\":[{\"id\":\"154395\"},{\"id\":\"154443\"},{\"id\":\"154474\"}],\"tags\":[\"hv_created\"],\"tooltips\":[[\"Variable\",\"@{Variable}\"],[\"index\",\"@{index}\"],[\"value\",\"@{value}\"]]},\"id\":\"154311\",\"type\":\"HoverTool\"},{\"attributes\":{\"children\":[{\"id\":\"154293\"},{\"id\":\"154314\"},{\"id\":\"157357\"}],\"margin\":[0,0,0,0],\"name\":\"Row828733\"},\"id\":\"154292\",\"type\":\"Row\"},{\"attributes\":{\"margin\":[5,5,5,5],\"name\":\"HSpacer828738\",\"sizing_mode\":\"stretch_width\"},\"id\":\"157357\",\"type\":\"Spacer\"},{\"attributes\":{\"line_alpha\":0.2,\"line_color\":\"#1f77b3\",\"line_width\":2,\"x\":{\"field\":\"index\"},\"y\":{\"field\":\"value\"}},\"id\":\"154394\",\"type\":\"Line\"},{\"attributes\":{\"source\":{\"id\":\"154389\"}},\"id\":\"154396\",\"type\":\"CDSView\"},{\"attributes\":{},\"id\":\"154367\",\"type\":\"DatetimeTickFormatter\"},{\"attributes\":{\"line_color\":\"#1f77b3\",\"line_width\":2,\"x\":{\"field\":\"index\"},\"y\":{\"field\":\"value\"}},\"id\":\"154392\",\"type\":\"Line\"},{\"attributes\":{\"margin\":[5,5,5,5],\"name\":\"HSpacer828737\",\"sizing_mode\":\"stretch_width\"},\"id\":\"154293\",\"type\":\"Spacer\"},{\"attributes\":{\"data_source\":{\"id\":\"154437\"},\"glyph\":{\"id\":\"154440\"},\"hover_glyph\":null,\"muted_glyph\":{\"id\":\"154442\"},\"nonselection_glyph\":{\"id\":\"154441\"},\"selection_glyph\":null,\"view\":{\"id\":\"154444\"}},\"id\":\"154443\",\"type\":\"GlyphRenderer\"},{\"attributes\":{\"line_alpha\":0.1,\"line_color\":\"#2ba02b\",\"line_width\":2,\"x\":{\"field\":\"index\"},\"y\":{\"field\":\"value\"}},\"id\":\"154472\",\"type\":\"Line\"},{\"attributes\":{\"end\":5.726133440638243,\"reset_end\":5.726133440638243,\"reset_start\":-2.987467847020672,\"start\":-2.987467847020672,\"tags\":[[[\"value\",\"value\",null]]]},\"id\":\"154310\",\"type\":\"Range1d\"},{\"attributes\":{\"days\":[1,8,15,22]},\"id\":\"154407\",\"type\":\"DaysTicker\"},{\"attributes\":{\"line_color\":\"#ff7e0e\",\"line_width\":2,\"x\":{\"field\":\"index\"},\"y\":{\"field\":\"value\"}},\"id\":\"154440\",\"type\":\"Line\"},{\"attributes\":{\"months\":[0,6]},\"id\":\"154412\",\"type\":\"MonthsTicker\"},{\"attributes\":{\"text\":\"\",\"text_color\":{\"value\":\"black\"},\"text_font_size\":{\"value\":\"12pt\"}},\"id\":\"154315\",\"type\":\"Title\"},{\"attributes\":{\"data_source\":{\"id\":\"154389\"},\"glyph\":{\"id\":\"154392\"},\"hover_glyph\":null,\"muted_glyph\":{\"id\":\"154394\"},\"nonselection_glyph\":{\"id\":\"154393\"},\"selection_glyph\":null,\"view\":{\"id\":\"154396\"}},\"id\":\"154395\",\"type\":\"GlyphRenderer\"},{\"attributes\":{\"data\":{\"Variable\":[\"z\",\"z\",\"z\",\"z\",\"z\",\"z\",\"z\",\"z\",\"z\",\"z\",\"z\",\"z\",\"z\",\"z\",\"z\",\"z\",\"z\",\"z\",\"z\",\"z\",\"z\",\"z\",\"z\",\"z\",\"z\",\"z\",\"z\",\"z\",\"z\",\"z\",\"z\",\"z\",\"z\",\"z\",\"z\",\"z\",\"z\",\"z\",\"z\",\"z\",\"z\",\"z\",\"z\",\"z\",\"z\",\"z\",\"z\",\"z\",\"z\",\"z\",\"z\",\"z\",\"z\",\"z\",\"z\",\"z\",\"z\",\"z\",\"z\",\"z\",\"z\",\"z\",\"z\",\"z\",\"z\",\"z\",\"z\",\"z\",\"z\",\"z\",\"z\",\"z\",\"z\",\"z\",\"z\",\"z\",\"z\",\"z\"],\"index\":{\"__ndarray__\":\"olVxge59d0KidXSB7n13QqKVd4HufXdCorV6ge59d0Ki1X2B7n13QqL1gIHufXdCohWEge59d0KRJ4qB7n13QpFHjYHufXdCkWeQge59d0KRh5OB7n13QpGnloHufXdCkceZge59d0KR55yB7n13Qo/AoIHufXdCj+Cjge59d0KPAKeB7n13Qo8gqoHufXdCj0Ctge59d0KPYLCB7n13Qo+As4HufXdC3bC3ge59d0Ld0LqB7n13Qt3wvYHufXdC3RDBge59d0LdMMSB7n13Qt1Qx4HufXdC3XDKge59d0LPoc+B7n13Qs/B0oHufXdCz+HVge59d0LPAdmB7n13Qs8h3IHufXdCz0Hfge59d0LPYeKB7n13QiMB6IHufXdCIyHrge59d0IjQe6B7n13QiNh8YHufXdCI4H0ge59d0IjofeB7n13QiPB+oHufXdC+qD/ge59d0L6wAKC7n13QvrgBYLufXdC+gAJgu59d0L6IAyC7n13QvpAD4LufXdC+mASgu59d0LFXBeC7n13QsV8GoLufXdCxZwdgu59d0LFvCCC7n13QsXcI4LufXdCxfwmgu59d0LFHCqC7n13QsU8LYLufXdCxVwwgu59d0I9yjOC7n13Qj3qNoLufXdCPQo6gu59d0I9Kj2C7n13Qj1KQILufXdCPWpDgu59d0I9ikaC7n13Qj2qSYLufXdCoExOgu59d0KgbFGC7n13QqCMVILufXdCoKxXgu59d0KgzFqC7n13QqDsXYLufXdCoAxhgu59d0KgLGSC7n13QqBMZ4LufXdCoGxqgu59d0KgjG2C7n13QqCscILufXdC\",\"dtype\":\"float64\",\"order\":\"little\",\"shape\":[78]},\"value\":{\"__ndarray__\":\"sNSVSp9vzz9vzsdPheH4v8tKIj/Ze/A/jk5lAkSstr9fGmq0imH4P6nnh3a30e6/v8SQKkgF8z9a20V+NhcCwEa4aAapMME/Ss4XDlFi1j/mieKknofLP3bveTJDlue/1A+5SThZ8D/p8Pa5E78AwLdYWp9nyAFAVw+UMSrG07/o/yWZYAT/vwnaBwIumdc/fTKyRxdf2z+37IynGTX4vxsPBKLn9Ns/SPSH30lI/D/bq5xIy17PP2dQ1cvZBNm/37MUqc8n1790xDzE/a/wP9V/CMR6N+g/pJcEUgCm3T/9HgLMtBmuv7Byy3QLAdK/dXZcbaQN7D9SQ25V6TMDQOmZjRZi5vY/LYLcZaqb07+QOzS70Mr8v1O+hF2LwPi/FnlDD+9/BUBktzENUf3qP3ZW2amJofe/lhVVGNIx+T9j06wEc1/xvxGm/vXCaOK/RXPtJ+/l3D8QqVllrPP+v4nOLTey7Mg/ur+0SistwT8GqN6vsCThPyXnA8NiTsA/pn+BBAO5rT9Q5ibiigz0vzR3TFBMkvU/Oh3k3sO55j+tlHkAx9GOP7ZDZAi0r8I/+c1Qke543r9skXSJx6/YPwzGmqa+C8A/BsCCz4bv8r9ya/7hCnoAwEXAQbtOlvQ/BeVyL7bO9L8TXUTyASf6P+q/d4O2hvC/9QluK4pZ8z/UZ1uS9jnTv/pzKtyg0/U/FFBudlVMz785dz36NaT8vwaXgIJmK/+/9DVy+uax4T+RE3hVJDTHPz36z1yrR/A/JsxtW/gxnz9kfId75qntPzuGwdeaA/I/S7wqSVf2zD+TAAJHFZfIPw6iOYRZhuo/\",\"dtype\":\"float64\",\"order\":\"little\",\"shape\":[78]}},\"selected\":{\"id\":\"154469\"},\"selection_policy\":{\"id\":\"154498\"}},\"id\":\"154468\",\"type\":\"ColumnDataSource\"},{\"attributes\":{\"data_source\":{\"id\":\"154468\"},\"glyph\":{\"id\":\"154471\"},\"hover_glyph\":null,\"muted_glyph\":{\"id\":\"154473\"},\"nonselection_glyph\":{\"id\":\"154472\"},\"selection_glyph\":null,\"view\":{\"id\":\"154475\"}},\"id\":\"154474\",\"type\":\"GlyphRenderer\"},{\"attributes\":{},\"id\":\"154369\",\"type\":\"BasicTickFormatter\"},{\"attributes\":{},\"id\":\"154328\",\"type\":\"BasicTicker\"},{\"attributes\":{},\"id\":\"154331\",\"type\":\"SaveTool\"},{\"attributes\":{\"base\":60,\"mantissas\":[1,2,5,10,15,20,30],\"max_interval\":1800000.0,\"min_interval\":1000.0,\"num_minor_ticks\":0},\"id\":\"154403\",\"type\":\"AdaptiveTicker\"},{\"attributes\":{},\"id\":\"154321\",\"type\":\"LinearScale\"},{\"attributes\":{\"line_color\":\"#2ba02b\",\"line_width\":2,\"x\":{\"field\":\"index\"},\"y\":{\"field\":\"value\"}},\"id\":\"154471\",\"type\":\"Line\"},{\"attributes\":{\"bottom_units\":\"screen\",\"fill_alpha\":0.5,\"fill_color\":\"lightgrey\",\"left_units\":\"screen\",\"level\":\"overlay\",\"line_alpha\":1.0,\"line_color\":\"black\",\"line_dash\":[4,4],\"line_width\":2,\"right_units\":\"screen\",\"top_units\":\"screen\"},\"id\":\"154336\",\"type\":\"BoxAnnotation\"},{\"attributes\":{\"active_drag\":\"auto\",\"active_inspect\":\"auto\",\"active_multi\":null,\"active_scroll\":\"auto\",\"active_tap\":\"auto\",\"tools\":[{\"id\":\"154311\"},{\"id\":\"154331\"},{\"id\":\"154332\"},{\"id\":\"154333\"},{\"id\":\"154334\"},{\"id\":\"154335\"}]},\"id\":\"154337\",\"type\":\"Toolbar\"},{\"attributes\":{\"months\":[0,2,4,6,8,10]},\"id\":\"154410\",\"type\":\"MonthsTicker\"},{\"attributes\":{},\"id\":\"154332\",\"type\":\"PanTool\"},{\"attributes\":{\"line_alpha\":0.1,\"line_color\":\"#1f77b3\",\"line_width\":2,\"x\":{\"field\":\"index\"},\"y\":{\"field\":\"value\"}},\"id\":\"154393\",\"type\":\"Line\"},{\"attributes\":{\"months\":[0,1,2,3,4,5,6,7,8,9,10,11]},\"id\":\"154409\",\"type\":\"MonthsTicker\"},{\"attributes\":{},\"id\":\"154465\",\"type\":\"UnionRenderers\"},{\"attributes\":{\"line_alpha\":0.2,\"line_color\":\"#2ba02b\",\"line_width\":2,\"x\":{\"field\":\"index\"},\"y\":{\"field\":\"value\"}},\"id\":\"154473\",\"type\":\"Line\"},{\"attributes\":{},\"id\":\"154390\",\"type\":\"Selection\"},{\"attributes\":{\"label\":{\"value\":\"x\"},\"renderers\":[{\"id\":\"154395\"}]},\"id\":\"154436\",\"type\":\"LegendItem\"},{\"attributes\":{\"click_policy\":\"mute\",\"items\":[{\"id\":\"154436\"},{\"id\":\"154467\"},{\"id\":\"154500\"}],\"location\":[0,0],\"title\":\"Variable\"},\"id\":\"154435\",\"type\":\"Legend\"},{\"attributes\":{\"below\":[{\"id\":\"154323\"}],\"center\":[{\"id\":\"154326\"},{\"id\":\"154330\"}],\"left\":[{\"id\":\"154327\"}],\"margin\":[5,5,5,5],\"min_border_bottom\":10,\"min_border_left\":10,\"min_border_right\":10,\"min_border_top\":10,\"plot_height\":300,\"plot_width\":700,\"renderers\":[{\"id\":\"154395\"},{\"id\":\"154443\"},{\"id\":\"154474\"}],\"right\":[{\"id\":\"154435\"}],\"sizing_mode\":\"fixed\",\"title\":{\"id\":\"154315\"},\"toolbar\":{\"id\":\"154337\"},\"x_range\":{\"id\":\"154309\"},\"x_scale\":{\"id\":\"154319\"},\"y_range\":{\"id\":\"154310\"},\"y_scale\":{\"id\":\"154321\"}},\"id\":\"154314\",\"subtype\":\"Figure\",\"type\":\"Plot\"},{\"attributes\":{},\"id\":\"154335\",\"type\":\"ResetTool\"},{\"attributes\":{\"line_alpha\":0.2,\"line_color\":\"#ff7e0e\",\"line_width\":2,\"x\":{\"field\":\"index\"},\"y\":{\"field\":\"value\"}},\"id\":\"154442\",\"type\":\"Line\"},{\"attributes\":{\"data\":{\"Variable\":[\"x\",\"x\",\"x\",\"x\",\"x\",\"x\",\"x\",\"x\",\"x\",\"x\",\"x\",\"x\",\"x\",\"x\",\"x\",\"x\",\"x\",\"x\",\"x\",\"x\",\"x\",\"x\",\"x\",\"x\",\"x\",\"x\",\"x\",\"x\",\"x\",\"x\",\"x\",\"x\",\"x\",\"x\",\"x\",\"x\",\"x\",\"x\",\"x\",\"x\",\"x\",\"x\",\"x\",\"x\",\"x\",\"x\",\"x\",\"x\",\"x\",\"x\",\"x\",\"x\",\"x\",\"x\",\"x\",\"x\",\"x\",\"x\",\"x\",\"x\",\"x\",\"x\",\"x\",\"x\",\"x\",\"x\",\"x\",\"x\",\"x\",\"x\",\"x\",\"x\",\"x\",\"x\",\"x\",\"x\",\"x\",\"x\"],\"index\":{\"__ndarray__\":\"olVxge59d0KidXSB7n13QqKVd4HufXdCorV6ge59d0Ki1X2B7n13QqL1gIHufXdCohWEge59d0KRJ4qB7n13QpFHjYHufXdCkWeQge59d0KRh5OB7n13QpGnloHufXdCkceZge59d0KR55yB7n13Qo/AoIHufXdCj+Cjge59d0KPAKeB7n13Qo8gqoHufXdCj0Ctge59d0KPYLCB7n13Qo+As4HufXdC3bC3ge59d0Ld0LqB7n13Qt3wvYHufXdC3RDBge59d0LdMMSB7n13Qt1Qx4HufXdC3XDKge59d0LPoc+B7n13Qs/B0oHufXdCz+HVge59d0LPAdmB7n13Qs8h3IHufXdCz0Hfge59d0LPYeKB7n13QiMB6IHufXdCIyHrge59d0IjQe6B7n13QiNh8YHufXdCI4H0ge59d0IjofeB7n13QiPB+oHufXdC+qD/ge59d0L6wAKC7n13QvrgBYLufXdC+gAJgu59d0L6IAyC7n13QvpAD4LufXdC+mASgu59d0LFXBeC7n13QsV8GoLufXdCxZwdgu59d0LFvCCC7n13QsXcI4LufXdCxfwmgu59d0LFHCqC7n13QsU8LYLufXdCxVwwgu59d0I9yjOC7n13Qj3qNoLufXdCPQo6gu59d0I9Kj2C7n13Qj1KQILufXdCPWpDgu59d0I9ikaC7n13Qj2qSYLufXdCoExOgu59d0KgbFGC7n13QqCMVILufXdCoKxXgu59d0KgzFqC7n13QqDsXYLufXdCoAxhgu59d0KgLGSC7n13QqBMZ4LufXdCoGxqgu59d0KgjG2C7n13QqCscILufXdC\",\"dtype\":\"float64\",\"order\":\"little\",\"shape\":[78]},\"value\":{\"__ndarray__\":\"vKc8mdhV5T/DufaUG2zgP0ik+8K+WMI/5RzJob2K5D9gMzJ8gYeoP6yh/dFNb9U/HCS47jylzD+UatEqY5jFP6flXDOIcOU/Gj4mebvI3T/dNUS2u03rP9pJCQoVldE/fDxrHTP37T/BimDrvSrqP9bOxt193uo/X0kSAzkj7D/KdllcWYPXPxz73YGBWsE/5MSxDCPV6z++PQGIwqXjP7Gp2xVaDew//lLmc4Px1j8AHJW8VXJpP0ShWnU7TeY/oegxdxnW6D8D6g3A6LvvP/UqvZxqnuM/gMbKqLo2hj82z7DK0ojpP9EAgk8Zc+M/vheO/y3R0z86DvzQDzHvPxDq6iPt9M4/q9E0ZarH4D+ka/tOkBniP/CnXIofwuY/6ug9jebf3j8ScdNtQ7nRPyg27Nr0Oss/eLhwHQD+vT8YS8ElLPe1P+R0ZadhrN4/dLmrqI/d2j+AeP20BPzvP5n5cG19FeA/2tcSkEfs1D8IO+fQO27DP07TWNV9v+o/UMzj15/KsT8gv/MAFoytPxc3zpjd9u0/vVzb5gsD4z+44R2uhMPuP4J4gbYMUuc/lypnMTl15D+I/BsBgu3sP6Dp4kWXxps/g7y8yv2w5D/IE/8JU4W8P7jyPqG00t0/+npdXdBn5D/rrciFNOPtP9o+dakHpts/DU6Hd6ol5D/AdVI0fY3jP+RmbapPlco/aCdUoz8z6T9o3jvY9yHPPxmogLZQnug/gsyPGOXv4z+o32ZaqLrUP6UNpkzjz+E//CbtzaFxxD+25LrIIvTSP4KWv4SxHuI/gI8eO8k73j+8mEiufhPUPwTrwsTs79s/\",\"dtype\":\"float64\",\"order\":\"little\",\"shape\":[78]}},\"selected\":{\"id\":\"154390\"},\"selection_policy\":{\"id\":\"154415\"}},\"id\":\"154389\",\"type\":\"ColumnDataSource\"},{\"attributes\":{\"mantissas\":[1,2,5],\"max_interval\":500.0,\"num_minor_ticks\":0},\"id\":\"154402\",\"type\":\"AdaptiveTicker\"},{\"attributes\":{\"days\":[1,2,3,4,5,6,7,8,9,10,11,12,13,14,15,16,17,18,19,20,21,22,23,24,25,26,27,28,29,30,31]},\"id\":\"154405\",\"type\":\"DaysTicker\"},{\"attributes\":{},\"id\":\"154413\",\"type\":\"YearsTicker\"},{\"attributes\":{},\"id\":\"154498\",\"type\":\"UnionRenderers\"},{\"attributes\":{\"label\":{\"value\":\"y\"},\"renderers\":[{\"id\":\"154443\"}]},\"id\":\"154467\",\"type\":\"LegendItem\"},{\"attributes\":{},\"id\":\"154438\",\"type\":\"Selection\"}],\"root_ids\":[\"154292\",\"157435\"]},\"title\":\"Bokeh Application\",\"version\":\"2.2.3\"}};\n",
       "    var render_items = [{\"docid\":\"39ae8927-350a-451f-ade4-d9db24d3eb95\",\"root_ids\":[\"154292\"],\"roots\":{\"154292\":\"e3b60aa7-6e69-4037-86c8-03367f294a5d\"}}];\n",
       "    root.Bokeh.embed.embed_items_notebook(docs_json, render_items);\n",
       "  }\n",
       "  if (root.Bokeh !== undefined && root.Bokeh.Panel !== undefined) {\n",
       "    embed_document(root);\n",
       "  } else {\n",
       "    var attempts = 0;\n",
       "    var timer = setInterval(function(root) {\n",
       "      if (root.Bokeh !== undefined && root.Bokeh.Panel !== undefined) {\n",
       "        clearInterval(timer);\n",
       "        embed_document(root);\n",
       "      } else if (document.readyState == \"complete\") {\n",
       "        attempts++;\n",
       "        if (attempts > 100) {\n",
       "          clearInterval(timer);\n",
       "          console.log(\"Bokeh: ERROR: Unable to run BokehJS code because BokehJS library is missing\");\n",
       "        }\n",
       "      }\n",
       "    }, 10, root)\n",
       "  }\n",
       "})(window);</script>"
      ],
      "text/plain": [
       ":DynamicMap   []\n",
       "   :NdOverlay   [Variable]\n",
       "      :Curve   [index]   (value)"
      ]
     },
     "execution_count": 29,
     "metadata": {
      "application/vnd.holoviews_exec.v0+json": {
       "id": "154292"
      }
     },
     "output_type": "execute_result"
    }
   ],
   "source": [
    "df.hvplot()"
   ]
  },
  {
   "cell_type": "code",
   "execution_count": 30,
   "metadata": {},
   "outputs": [
    {
     "data": {},
     "metadata": {},
     "output_type": "display_data"
    },
    {
     "data": {
      "application/vnd.holoviews_exec.v0+json": "",
      "text/html": [
       "<div id='157778'>\n",
       "\n",
       "\n",
       "\n",
       "\n",
       "\n",
       "  <div class=\"bk-root\" id=\"0524e562-261f-4399-9e8c-02beaff592d1\" data-root-id=\"157778\"></div>\n",
       "</div>\n",
       "<script type=\"application/javascript\">(function(root) {\n",
       "  function embed_document(root) {\n",
       "    var docs_json = {\"7da4f6ac-5b1b-442f-b23b-33eabfebbcab\":{\"roots\":{\"references\":[{\"attributes\":{},\"id\":\"157802\",\"type\":\"WheelZoomTool\"},{\"attributes\":{\"days\":[1,4,7,10,13,16,19,22,25,28]},\"id\":\"157834\",\"type\":\"DaysTicker\"},{\"attributes\":{\"source\":{\"id\":\"157813\"}},\"id\":\"157820\",\"type\":\"CDSView\"},{\"attributes\":{\"data\":{\"index\":{\"__ndarray__\":\"\",\"dtype\":\"float64\",\"order\":\"little\",\"shape\":[0]},\"z\":{\"__ndarray__\":\"\",\"dtype\":\"float64\",\"order\":\"little\",\"shape\":[0]}},\"selected\":{\"id\":\"157814\"},\"selection_policy\":{\"id\":\"157843\"}},\"id\":\"157813\",\"type\":\"ColumnDataSource\"},{\"attributes\":{\"months\":[0,4,8]},\"id\":\"157839\",\"type\":\"MonthsTicker\"},{\"attributes\":{},\"id\":\"157797\",\"type\":\"BasicTicker\"},{\"attributes\":{},\"id\":\"157800\",\"type\":\"SaveTool\"},{\"attributes\":{\"months\":[0,1,2,3,4,5,6,7,8,9,10,11]},\"id\":\"157837\",\"type\":\"MonthsTicker\"},{\"attributes\":{},\"id\":\"157814\",\"type\":\"Selection\"},{\"attributes\":{\"below\":[{\"id\":\"157792\"}],\"center\":[{\"id\":\"157795\"},{\"id\":\"157799\"}],\"left\":[{\"id\":\"157796\"}],\"margin\":[5,5,5,5],\"min_border_bottom\":10,\"min_border_left\":10,\"min_border_right\":10,\"min_border_top\":10,\"plot_height\":300,\"plot_width\":700,\"renderers\":[{\"id\":\"157819\"}],\"sizing_mode\":\"fixed\",\"title\":{\"id\":\"157784\"},\"toolbar\":{\"id\":\"157806\"},\"x_range\":{\"id\":\"157780\"},\"x_scale\":{\"id\":\"157788\"},\"y_range\":{\"id\":\"157781\"},\"y_scale\":{\"id\":\"157790\"}},\"id\":\"157783\",\"subtype\":\"Figure\",\"type\":\"Plot\"},{\"attributes\":{},\"id\":\"157822\",\"type\":\"DatetimeTickFormatter\"},{\"attributes\":{\"days\":[1,8,15,22]},\"id\":\"157835\",\"type\":\"DaysTicker\"},{\"attributes\":{\"active_drag\":\"auto\",\"active_inspect\":\"auto\",\"active_multi\":null,\"active_scroll\":\"auto\",\"active_tap\":\"auto\",\"tools\":[{\"id\":\"157782\"},{\"id\":\"157800\"},{\"id\":\"157801\"},{\"id\":\"157802\"},{\"id\":\"157803\"},{\"id\":\"157804\"}]},\"id\":\"157806\",\"type\":\"Toolbar\"},{\"attributes\":{},\"id\":\"157801\",\"type\":\"PanTool\"},{\"attributes\":{},\"id\":\"157804\",\"type\":\"ResetTool\"},{\"attributes\":{\"line_alpha\":0.2,\"line_color\":\"#1f77b3\",\"line_width\":2,\"x\":{\"field\":\"index\"},\"y\":{\"field\":\"z\"}},\"id\":\"157818\",\"type\":\"Line\"},{\"attributes\":{\"margin\":[5,5,5,5],\"name\":\"HSpacer847354\",\"sizing_mode\":\"stretch_width\"},\"id\":\"157779\",\"type\":\"Spacer\"},{\"attributes\":{\"axis_label\":\"\",\"bounds\":\"auto\",\"formatter\":{\"id\":\"157822\"},\"major_label_orientation\":\"horizontal\",\"ticker\":{\"id\":\"157793\"}},\"id\":\"157792\",\"type\":\"DatetimeAxis\"},{\"attributes\":{\"text\":\"z\",\"text_color\":{\"value\":\"black\"},\"text_font_size\":{\"value\":\"12pt\"}},\"id\":\"157784\",\"type\":\"Title\"},{\"attributes\":{},\"id\":\"157843\",\"type\":\"UnionRenderers\"},{\"attributes\":{},\"id\":\"157824\",\"type\":\"BasicTickFormatter\"},{\"attributes\":{\"num_minor_ticks\":5,\"tickers\":[{\"id\":\"157830\"},{\"id\":\"157831\"},{\"id\":\"157832\"},{\"id\":\"157833\"},{\"id\":\"157834\"},{\"id\":\"157835\"},{\"id\":\"157836\"},{\"id\":\"157837\"},{\"id\":\"157838\"},{\"id\":\"157839\"},{\"id\":\"157840\"},{\"id\":\"157841\"}]},\"id\":\"157793\",\"type\":\"DatetimeTicker\"},{\"attributes\":{\"days\":[1,2,3,4,5,6,7,8,9,10,11,12,13,14,15,16,17,18,19,20,21,22,23,24,25,26,27,28,29,30,31]},\"id\":\"157833\",\"type\":\"DaysTicker\"},{\"attributes\":{\"client_comm_id\":\"79bcf69b6bc749f58f559b02ddc7d3be\",\"comm_id\":\"339d5c171f694ea6ac07917719c98dc3\",\"plot_id\":\"157778\"},\"id\":\"157926\",\"type\":\"panel.models.comm_manager.CommManager\"},{\"attributes\":{\"base\":24,\"mantissas\":[1,2,4,6,8,12],\"max_interval\":43200000.0,\"min_interval\":3600000.0,\"num_minor_ticks\":0},\"id\":\"157832\",\"type\":\"AdaptiveTicker\"},{\"attributes\":{\"days\":[1,15]},\"id\":\"157836\",\"type\":\"DaysTicker\"},{\"attributes\":{\"base\":60,\"mantissas\":[1,2,5,10,15,20,30],\"max_interval\":1800000.0,\"min_interval\":1000.0,\"num_minor_ticks\":0},\"id\":\"157831\",\"type\":\"AdaptiveTicker\"},{\"attributes\":{\"line_color\":\"#1f77b3\",\"line_width\":2,\"x\":{\"field\":\"index\"},\"y\":{\"field\":\"z\"}},\"id\":\"157816\",\"type\":\"Line\"},{\"attributes\":{\"callback\":null,\"renderers\":[{\"id\":\"157819\"}],\"tags\":[\"hv_created\"],\"tooltips\":[[\"index\",\"@{index}\"],[\"z\",\"@{z}\"]]},\"id\":\"157782\",\"type\":\"HoverTool\"},{\"attributes\":{},\"id\":\"157790\",\"type\":\"LinearScale\"},{\"attributes\":{\"axis_label\":\"\",\"bounds\":\"auto\",\"formatter\":{\"id\":\"157824\"},\"major_label_orientation\":\"horizontal\",\"ticker\":{\"id\":\"157797\"}},\"id\":\"157796\",\"type\":\"LinearAxis\"},{\"attributes\":{\"axis\":{\"id\":\"157796\"},\"dimension\":1,\"grid_line_color\":null,\"ticker\":null},\"id\":\"157799\",\"type\":\"Grid\"},{\"attributes\":{\"axis\":{\"id\":\"157792\"},\"grid_line_color\":null,\"ticker\":null},\"id\":\"157795\",\"type\":\"Grid\"},{\"attributes\":{\"line_alpha\":0.1,\"line_color\":\"#1f77b3\",\"line_width\":2,\"x\":{\"field\":\"index\"},\"y\":{\"field\":\"z\"}},\"id\":\"157817\",\"type\":\"Line\"},{\"attributes\":{\"mantissas\":[1,2,5],\"max_interval\":500.0,\"num_minor_ticks\":0},\"id\":\"157830\",\"type\":\"AdaptiveTicker\"},{\"attributes\":{\"children\":[{\"id\":\"157779\"},{\"id\":\"157783\"},{\"id\":\"157865\"}],\"margin\":[0,0,0,0],\"name\":\"Row847350\"},\"id\":\"157778\",\"type\":\"Row\"},{\"attributes\":{\"tags\":[[[\"z\",\"z\",null]]]},\"id\":\"157781\",\"type\":\"Range1d\"},{\"attributes\":{\"months\":[0,6]},\"id\":\"157840\",\"type\":\"MonthsTicker\"},{\"attributes\":{\"tags\":[[[\"index\",\"index\",null]]]},\"id\":\"157780\",\"type\":\"Range1d\"},{\"attributes\":{\"months\":[0,2,4,6,8,10]},\"id\":\"157838\",\"type\":\"MonthsTicker\"},{\"attributes\":{\"margin\":[5,5,5,5],\"name\":\"HSpacer847355\",\"sizing_mode\":\"stretch_width\"},\"id\":\"157865\",\"type\":\"Spacer\"},{\"attributes\":{},\"id\":\"157841\",\"type\":\"YearsTicker\"},{\"attributes\":{\"data_source\":{\"id\":\"157813\"},\"glyph\":{\"id\":\"157816\"},\"hover_glyph\":null,\"muted_glyph\":{\"id\":\"157818\"},\"nonselection_glyph\":{\"id\":\"157817\"},\"selection_glyph\":null,\"view\":{\"id\":\"157820\"}},\"id\":\"157819\",\"type\":\"GlyphRenderer\"},{\"attributes\":{\"bottom_units\":\"screen\",\"fill_alpha\":0.5,\"fill_color\":\"lightgrey\",\"left_units\":\"screen\",\"level\":\"overlay\",\"line_alpha\":1.0,\"line_color\":\"black\",\"line_dash\":[4,4],\"line_width\":2,\"right_units\":\"screen\",\"top_units\":\"screen\"},\"id\":\"157805\",\"type\":\"BoxAnnotation\"},{\"attributes\":{\"overlay\":{\"id\":\"157805\"}},\"id\":\"157803\",\"type\":\"BoxZoomTool\"},{\"attributes\":{},\"id\":\"157788\",\"type\":\"LinearScale\"}],\"root_ids\":[\"157778\",\"157926\"]},\"title\":\"Bokeh Application\",\"version\":\"2.2.3\"}};\n",
       "    var render_items = [{\"docid\":\"7da4f6ac-5b1b-442f-b23b-33eabfebbcab\",\"root_ids\":[\"157778\"],\"roots\":{\"157778\":\"0524e562-261f-4399-9e8c-02beaff592d1\"}}];\n",
       "    root.Bokeh.embed.embed_items_notebook(docs_json, render_items);\n",
       "  }\n",
       "  if (root.Bokeh !== undefined && root.Bokeh.Panel !== undefined) {\n",
       "    embed_document(root);\n",
       "  } else {\n",
       "    var attempts = 0;\n",
       "    var timer = setInterval(function(root) {\n",
       "      if (root.Bokeh !== undefined && root.Bokeh.Panel !== undefined) {\n",
       "        clearInterval(timer);\n",
       "        embed_document(root);\n",
       "      } else if (document.readyState == \"complete\") {\n",
       "        attempts++;\n",
       "        if (attempts > 100) {\n",
       "          clearInterval(timer);\n",
       "          console.log(\"Bokeh: ERROR: Unable to run BokehJS code because BokehJS library is missing\");\n",
       "        }\n",
       "      }\n",
       "    }, 10, root)\n",
       "  }\n",
       "})(window);</script>"
      ],
      "text/plain": [
       ":DynamicMap   []\n",
       "   :Curve   [index]   (z)"
      ]
     },
     "execution_count": 30,
     "metadata": {
      "application/vnd.holoviews_exec.v0+json": {
       "id": "157778"
      }
     },
     "output_type": "execute_result"
    }
   ],
   "source": [
    "df.z.cumsum().hvplot()"
   ]
  },
  {
   "cell_type": "code",
   "execution_count": 31,
   "metadata": {},
   "outputs": [
    {
     "data": {},
     "metadata": {},
     "output_type": "display_data"
    },
    {
     "data": {
      "application/vnd.holoviews_exec.v0+json": "",
      "text/html": [
       "<div id='166824'>\n",
       "\n",
       "\n",
       "\n",
       "\n",
       "\n",
       "  <div class=\"bk-root\" id=\"c272da38-e0cd-469d-9492-aaad0f647e9a\" data-root-id=\"166824\"></div>\n",
       "</div>\n",
       "<script type=\"application/javascript\">(function(root) {\n",
       "  function embed_document(root) {\n",
       "    var docs_json = {\"fecad26b-6bbd-4dd2-96c4-2d2772fece3d\":{\"roots\":{\"references\":[{\"attributes\":{\"children\":[{\"id\":\"166825\"},{\"id\":\"166848\"},{\"id\":\"167575\"}],\"margin\":[0,0,0,0],\"name\":\"Row894079\"},\"id\":\"166824\",\"type\":\"Row\"},{\"attributes\":{\"data\":{\"index\":{\"__ndarray__\":\"P8O6he59d0I/472F7n13QinewoXufXdCKf7Fhe59d0IpHsmF7n13Qik+zIXufXdCKV7Phe59d0IpftKF7n13Qime1YXufXdCKb7Yhe59d0I=\",\"dtype\":\"float64\",\"order\":\"little\",\"shape\":[10]},\"x\":{\"__ndarray__\":\"CJkapOBWtD+YO+IaDnnhP1tO/PuwDOQ/mJEljYv17z/UxdScz1fWPxhobVRJ/rc/RCj0o55I4T+Asjrpuf/bPwRDHx1ufNU/anl95w6X7T8=\",\"dtype\":\"float64\",\"order\":\"little\",\"shape\":[10]},\"y\":{\"__ndarray__\":\"AQAAAAEAAAACAAAAAAAAAAAAAAABAAAAAgAAAAEAAAABAAAAAQAAAA==\",\"dtype\":\"int32\",\"order\":\"little\",\"shape\":[10]},\"z\":{\"__ndarray__\":\"QQresHIG0z/8MiXrLHbyv6V9wbteEQLAk6MboX8wVj8QmA/vPMLgPyrnhYusnbC/lsQu8HTM7z9E4C6L3kHzPxJclcM3e94/AxqsRLEh678=\",\"dtype\":\"float64\",\"order\":\"little\",\"shape\":[10]}},\"selected\":{\"id\":\"166827\"},\"selection_policy\":{\"id\":\"167571\"}},\"id\":\"166826\",\"type\":\"ColumnDataSource\"},{\"attributes\":{},\"id\":\"167552\",\"type\":\"DateEditor\"},{\"attributes\":{\"format\":\"%Y-%m-%d %H:%M:%S\"},\"id\":\"167551\",\"type\":\"DateFormatter\"},{\"attributes\":{\"client_comm_id\":\"f491ba710b6b4cd4b396e43dff50f439\",\"comm_id\":\"0ceb9a84977545f6a486b0dbd8880d27\",\"plot_id\":\"166824\"},\"id\":\"167582\",\"type\":\"panel.models.comm_manager.CommManager\"},{\"attributes\":{},\"id\":\"167561\",\"type\":\"NumberFormatter\"},{\"attributes\":{},\"id\":\"167562\",\"type\":\"IntEditor\"},{\"attributes\":{\"editor\":{\"id\":\"167557\"},\"field\":\"x\",\"formatter\":{\"id\":\"167556\"},\"title\":\"x\"},\"id\":\"167558\",\"type\":\"TableColumn\"},{\"attributes\":{\"columns\":[{\"id\":\"167553\"},{\"id\":\"167558\"},{\"id\":\"167563\"},{\"id\":\"167568\"}],\"height\":300,\"reorderable\":false,\"source\":{\"id\":\"166826\"},\"view\":{\"id\":\"166849\"},\"width\":400},\"id\":\"166848\",\"type\":\"DataTable\"},{\"attributes\":{},\"id\":\"167567\",\"type\":\"NumberEditor\"},{\"attributes\":{\"margin\":[5,5,5,5],\"name\":\"HSpacer894083\",\"sizing_mode\":\"stretch_width\"},\"id\":\"166825\",\"type\":\"Spacer\"},{\"attributes\":{\"editor\":{\"id\":\"167552\"},\"field\":\"index\",\"formatter\":{\"id\":\"167551\"},\"title\":\"index\"},\"id\":\"167553\",\"type\":\"TableColumn\"},{\"attributes\":{\"editor\":{\"id\":\"167567\"},\"field\":\"z\",\"formatter\":{\"id\":\"167566\"},\"title\":\"z\"},\"id\":\"167568\",\"type\":\"TableColumn\"},{\"attributes\":{},\"id\":\"167571\",\"type\":\"UnionRenderers\"},{\"attributes\":{\"format\":\"0,0.0[00000]\"},\"id\":\"167556\",\"type\":\"NumberFormatter\"},{\"attributes\":{},\"id\":\"166827\",\"type\":\"Selection\"},{\"attributes\":{},\"id\":\"167557\",\"type\":\"NumberEditor\"},{\"attributes\":{\"margin\":[5,5,5,5],\"name\":\"HSpacer894084\",\"sizing_mode\":\"stretch_width\"},\"id\":\"167575\",\"type\":\"Spacer\"},{\"attributes\":{\"source\":{\"id\":\"166826\"}},\"id\":\"166849\",\"type\":\"CDSView\"},{\"attributes\":{\"format\":\"0,0.0[00000]\"},\"id\":\"167566\",\"type\":\"NumberFormatter\"},{\"attributes\":{\"editor\":{\"id\":\"167562\"},\"field\":\"y\",\"formatter\":{\"id\":\"167561\"},\"title\":\"y\"},\"id\":\"167563\",\"type\":\"TableColumn\"}],\"root_ids\":[\"166824\",\"167582\"]},\"title\":\"Bokeh Application\",\"version\":\"2.2.3\"}};\n",
       "    var render_items = [{\"docid\":\"fecad26b-6bbd-4dd2-96c4-2d2772fece3d\",\"root_ids\":[\"166824\"],\"roots\":{\"166824\":\"c272da38-e0cd-469d-9492-aaad0f647e9a\"}}];\n",
       "    root.Bokeh.embed.embed_items_notebook(docs_json, render_items);\n",
       "  }\n",
       "  if (root.Bokeh !== undefined && root.Bokeh.Panel !== undefined) {\n",
       "    embed_document(root);\n",
       "  } else {\n",
       "    var attempts = 0;\n",
       "    var timer = setInterval(function(root) {\n",
       "      if (root.Bokeh !== undefined && root.Bokeh.Panel !== undefined) {\n",
       "        clearInterval(timer);\n",
       "        embed_document(root);\n",
       "      } else if (document.readyState == \"complete\") {\n",
       "        attempts++;\n",
       "        if (attempts > 100) {\n",
       "          clearInterval(timer);\n",
       "          console.log(\"Bokeh: ERROR: Unable to run BokehJS code because BokehJS library is missing\");\n",
       "        }\n",
       "      }\n",
       "    }, 10, root)\n",
       "  }\n",
       "})(window);</script>"
      ],
      "text/plain": [
       ":DynamicMap   []\n",
       "   :Table   [index,x,y,z]"
      ]
     },
     "execution_count": 31,
     "metadata": {
      "application/vnd.holoviews_exec.v0+json": {
       "id": "166824"
      }
     },
     "output_type": "execute_result"
    }
   ],
   "source": [
    "df.hvplot.table(width=400, backlog=10)"
   ]
  },
  {
   "cell_type": "code",
   "execution_count": 32,
   "metadata": {},
   "outputs": [
    {
     "data": {},
     "metadata": {},
     "output_type": "display_data"
    },
    {
     "data": {
      "application/vnd.holoviews_exec.v0+json": "",
      "text/html": [
       "<div id='174406'>\n",
       "\n",
       "\n",
       "\n",
       "\n",
       "\n",
       "  <div class=\"bk-root\" id=\"78cd508f-cb7c-44fa-9e07-aa8747b3f788\" data-root-id=\"174406\"></div>\n",
       "</div>\n",
       "<script type=\"application/javascript\">(function(root) {\n",
       "  function embed_document(root) {\n",
       "    var docs_json = {\"1742ad08-f014-4969-910a-5760bd696553\":{\"roots\":{\"references\":[{\"attributes\":{\"margin\":[5,5,5,5],\"name\":\"HSpacer932583\",\"sizing_mode\":\"stretch_width\"},\"id\":\"174407\",\"type\":\"Spacer\"},{\"attributes\":{\"text\":\"\",\"text_color\":{\"value\":\"black\"},\"text_font_size\":{\"value\":\"12pt\"}},\"id\":\"174416\",\"type\":\"Title\"},{\"attributes\":{\"margin\":[5,5,5,5],\"name\":\"HSpacer932584\",\"sizing_mode\":\"stretch_width\"},\"id\":\"176097\",\"type\":\"Spacer\"},{\"attributes\":{\"fill_color\":{\"field\":\"Variable\",\"transform\":{\"id\":\"174897\"}},\"top\":{\"field\":\"value\"},\"width\":{\"value\":0.8},\"x\":{\"field\":\"xoffsets\"}},\"id\":\"174447\",\"type\":\"VBar\"},{\"attributes\":{},\"id\":\"174435\",\"type\":\"ResetTool\"},{\"attributes\":{\"axis_label\":\"\",\"bounds\":\"auto\",\"formatter\":{\"id\":\"174455\"},\"major_label_orientation\":\"horizontal\",\"ticker\":{\"id\":\"174428\"}},\"id\":\"174427\",\"type\":\"LinearAxis\"},{\"attributes\":{},\"id\":\"174433\",\"type\":\"WheelZoomTool\"},{\"attributes\":{},\"id\":\"174453\",\"type\":\"CategoricalTickFormatter\"},{\"attributes\":{\"axis\":{\"id\":\"174427\"},\"dimension\":1,\"grid_line_color\":null,\"ticker\":null},\"id\":\"174430\",\"type\":\"Grid\"},{\"attributes\":{},\"id\":\"174422\",\"type\":\"LinearScale\"},{\"attributes\":{},\"id\":\"174420\",\"type\":\"CategoricalScale\"},{\"attributes\":{\"bottom_units\":\"screen\",\"fill_alpha\":0.5,\"fill_color\":\"lightgrey\",\"left_units\":\"screen\",\"level\":\"overlay\",\"line_alpha\":1.0,\"line_color\":\"black\",\"line_dash\":[4,4],\"line_width\":2,\"right_units\":\"screen\",\"top_units\":\"screen\"},\"id\":\"174436\",\"type\":\"BoxAnnotation\"},{\"attributes\":{},\"id\":\"174445\",\"type\":\"Selection\"},{\"attributes\":{\"active_drag\":\"auto\",\"active_inspect\":\"auto\",\"active_multi\":null,\"active_scroll\":\"auto\",\"active_tap\":\"auto\",\"tools\":[{\"id\":\"174414\"},{\"id\":\"174431\"},{\"id\":\"174432\"},{\"id\":\"174433\"},{\"id\":\"174434\"},{\"id\":\"174435\"}]},\"id\":\"174437\",\"type\":\"Toolbar\"},{\"attributes\":{\"below\":[{\"id\":\"174424\"}],\"center\":[{\"id\":\"174426\"},{\"id\":\"174430\"}],\"left\":[{\"id\":\"174427\"}],\"margin\":[5,5,5,5],\"min_border_bottom\":10,\"min_border_left\":10,\"min_border_right\":10,\"min_border_top\":10,\"plot_height\":300,\"plot_width\":700,\"renderers\":[{\"id\":\"174450\"}],\"sizing_mode\":\"fixed\",\"title\":{\"id\":\"174416\"},\"toolbar\":{\"id\":\"174437\"},\"x_range\":{\"id\":\"174412\"},\"x_scale\":{\"id\":\"174420\"},\"y_range\":{\"id\":\"174413\"},\"y_scale\":{\"id\":\"174422\"}},\"id\":\"174415\",\"subtype\":\"Figure\",\"type\":\"Plot\"},{\"attributes\":{\"source\":{\"id\":\"174444\"}},\"id\":\"174451\",\"type\":\"CDSView\"},{\"attributes\":{\"axis\":{\"id\":\"174424\"},\"grid_line_color\":null,\"ticker\":null},\"id\":\"174426\",\"type\":\"Grid\"},{\"attributes\":{\"fill_alpha\":{\"value\":0.1},\"fill_color\":{\"field\":\"Variable\",\"transform\":{\"id\":\"174897\"}},\"line_alpha\":{\"value\":0.1},\"top\":{\"field\":\"value\"},\"width\":{\"value\":0.8},\"x\":{\"field\":\"xoffsets\"}},\"id\":\"174448\",\"type\":\"VBar\"},{\"attributes\":{\"data_source\":{\"id\":\"174444\"},\"glyph\":{\"id\":\"174447\"},\"hover_glyph\":null,\"muted_glyph\":{\"id\":\"174449\"},\"nonselection_glyph\":{\"id\":\"174448\"},\"selection_glyph\":null,\"view\":{\"id\":\"174451\"}},\"id\":\"174450\",\"type\":\"GlyphRenderer\"},{\"attributes\":{},\"id\":\"174425\",\"type\":\"CategoricalTicker\"},{\"attributes\":{},\"id\":\"174431\",\"type\":\"SaveTool\"},{\"attributes\":{\"callback\":null,\"renderers\":[{\"id\":\"174450\"}],\"tags\":[\"hv_created\"],\"tooltips\":[[\"y\",\"@{y}\"],[\"Variable\",\"@{Variable}\"],[\"value\",\"@{value}\"]]},\"id\":\"174414\",\"type\":\"HoverTool\"},{\"attributes\":{\"data\":{\"Variable\":[\"x\",\"x\",\"x\",\"x\",\"z\",\"z\",\"z\",\"z\"],\"value\":{\"__ndarray__\":\"s3qLMtAvGkAszIel11ISQFMTGaZK5Q5A9M1T7xZ80j9KHGZ81gH6P9U1wQqTsxBAHk5DvplVEMD9c8OOklbTvw==\",\"dtype\":\"float64\",\"order\":\"little\",\"shape\":[8]},\"xoffsets\":[[\"0\",\"x\"],[\"1\",\"x\"],[\"2\",\"x\"],[\"3\",\"x\"],[\"0\",\"z\"],[\"1\",\"z\"],[\"2\",\"z\"],[\"3\",\"z\"]],\"y\":[\"0\",\"1\",\"2\",\"3\",\"0\",\"1\",\"2\",\"3\"]},\"selected\":{\"id\":\"174445\"},\"selection_policy\":{\"id\":\"176087\"}},\"id\":\"174444\",\"type\":\"ColumnDataSource\"},{\"attributes\":{},\"id\":\"174428\",\"type\":\"BasicTicker\"},{\"attributes\":{\"client_comm_id\":\"00b1c769c7b4437b893e2f8f9fc51732\",\"comm_id\":\"c095dea95f774df0a5886d115dcfb98d\",\"plot_id\":\"174406\"},\"id\":\"176126\",\"type\":\"panel.models.comm_manager.CommManager\"},{\"attributes\":{\"axis_label\":\"y, Variable\",\"bounds\":\"auto\",\"formatter\":{\"id\":\"174453\"},\"major_label_orientation\":\"horizontal\",\"ticker\":{\"id\":\"174425\"}},\"id\":\"174424\",\"type\":\"CategoricalAxis\"},{\"attributes\":{\"end\":7.609721342110875,\"reset_end\":7.609721342110875,\"reset_start\":-5.146622990722744,\"start\":-5.146622990722744,\"tags\":[[[\"value\",\"value\",null]]]},\"id\":\"174413\",\"type\":\"Range1d\"},{\"attributes\":{},\"id\":\"174432\",\"type\":\"PanTool\"},{\"attributes\":{\"factors\":[[\"0\",\"x\"],[\"0\",\"z\"],[\"1\",\"x\"],[\"1\",\"z\"],[\"2\",\"x\"],[\"2\",\"z\"],[\"3\",\"x\"],[\"3\",\"z\"]],\"tags\":[[[\"y\",\"y\",null],[\"Variable\",\"Variable\",null]]]},\"id\":\"174412\",\"type\":\"FactorRange\"},{\"attributes\":{\"fill_alpha\":{\"value\":0.2},\"fill_color\":{\"field\":\"Variable\",\"transform\":{\"id\":\"174897\"}},\"line_alpha\":{\"value\":0.2},\"top\":{\"field\":\"value\"},\"width\":{\"value\":0.8},\"x\":{\"field\":\"xoffsets\"}},\"id\":\"174449\",\"type\":\"VBar\"},{\"attributes\":{\"factors\":[\"x\",\"z\"],\"palette\":[\"#1f77b3\",\"#ff7e0e\"]},\"id\":\"174897\",\"type\":\"CategoricalColorMapper\"},{\"attributes\":{},\"id\":\"176087\",\"type\":\"UnionRenderers\"},{\"attributes\":{\"overlay\":{\"id\":\"174436\"}},\"id\":\"174434\",\"type\":\"BoxZoomTool\"},{\"attributes\":{},\"id\":\"174455\",\"type\":\"BasicTickFormatter\"},{\"attributes\":{\"children\":[{\"id\":\"174407\"},{\"id\":\"174415\"},{\"id\":\"176097\"}],\"margin\":[0,0,0,0],\"name\":\"Row932579\"},\"id\":\"174406\",\"type\":\"Row\"}],\"root_ids\":[\"174406\",\"176126\"]},\"title\":\"Bokeh Application\",\"version\":\"2.2.3\"}};\n",
       "    var render_items = [{\"docid\":\"1742ad08-f014-4969-910a-5760bd696553\",\"root_ids\":[\"174406\"],\"roots\":{\"174406\":\"78cd508f-cb7c-44fa-9e07-aa8747b3f788\"}}];\n",
       "    root.Bokeh.embed.embed_items_notebook(docs_json, render_items);\n",
       "  }\n",
       "  if (root.Bokeh !== undefined && root.Bokeh.Panel !== undefined) {\n",
       "    embed_document(root);\n",
       "  } else {\n",
       "    var attempts = 0;\n",
       "    var timer = setInterval(function(root) {\n",
       "      if (root.Bokeh !== undefined && root.Bokeh.Panel !== undefined) {\n",
       "        clearInterval(timer);\n",
       "        embed_document(root);\n",
       "      } else if (document.readyState == \"complete\") {\n",
       "        attempts++;\n",
       "        if (attempts > 100) {\n",
       "          clearInterval(timer);\n",
       "          console.log(\"Bokeh: ERROR: Unable to run BokehJS code because BokehJS library is missing\");\n",
       "        }\n",
       "      }\n",
       "    }, 10, root)\n",
       "  }\n",
       "})(window);</script>"
      ],
      "text/plain": [
       ":DynamicMap   []\n",
       "   :Bars   [y,Variable]   (value)"
      ]
     },
     "execution_count": 32,
     "metadata": {
      "application/vnd.holoviews_exec.v0+json": {
       "id": "174406"
      }
     },
     "output_type": "execute_result"
    }
   ],
   "source": [
    "df.groupby('y').sum().hvplot.bar(x='y')"
   ]
  }
 ],
 "metadata": {
  "kernelspec": {
   "display_name": "Python 3",
   "language": "python",
   "name": "python3"
  },
  "language_info": {
   "codemirror_mode": {
    "name": "ipython",
    "version": 3
   },
   "file_extension": ".py",
   "mimetype": "text/x-python",
   "name": "python",
   "nbconvert_exporter": "python",
   "pygments_lexer": "ipython3",
   "version": "3.7.6"
  }
 },
 "nbformat": 4,
 "nbformat_minor": 2
}
