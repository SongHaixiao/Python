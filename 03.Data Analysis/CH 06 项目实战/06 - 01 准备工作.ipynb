{
 "cells": [
  {
   "cell_type": "markdown",
   "metadata": {},
   "source": [
    "# 数据科学工作流\n",
    "![](01.jpg)"
   ]
  },
  {
   "cell_type": "markdown",
   "metadata": {},
   "source": [
    "## 数据获取:\n",
    "\n",
    "- 爬虫\n",
    "\n",
    "![](02.jpg)\n",
    "\n",
    "- 公开数据来源\n",
    "\n",
    "![](03.jpg)\n",
    "\n",
    "- Google Public Data Explorer\n",
    "\n",
    "![](04.jpg)\n",
    "\n",
    "- AWS Public Datasets\n",
    "\n",
    "![](05.jpg)"
   ]
  }
 ],
 "metadata": {
  "kernelspec": {
   "display_name": "Python 3",
   "language": "python",
   "name": "python3"
  },
  "language_info": {
   "codemirror_mode": {
    "name": "ipython",
    "version": 3
   },
   "file_extension": ".py",
   "mimetype": "text/x-python",
   "name": "python",
   "nbconvert_exporter": "python",
   "pygments_lexer": "ipython3",
   "version": "3.7.4"
  }
 },
 "nbformat": 4,
 "nbformat_minor": 2
}
