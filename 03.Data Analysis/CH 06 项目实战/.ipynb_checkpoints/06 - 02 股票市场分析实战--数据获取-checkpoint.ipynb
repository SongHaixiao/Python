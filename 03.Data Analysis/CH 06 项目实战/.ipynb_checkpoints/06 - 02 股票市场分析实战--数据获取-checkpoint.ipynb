{
 "cells": [
  {
   "cell_type": "markdown",
   "metadata": {},
   "source": [
    "# Yahoo Finance ：查询国际金融股票价格\n",
    "\n",
    "![](06.jpg)"
   ]
  },
  {
   "cell_type": "markdown",
   "metadata": {},
   "source": [
    "# 安装 pandas-datareader\n",
    "\n",
    "- pip install pandas-datareader"
   ]
  },
  {
   "cell_type": "code",
   "execution_count": 1,
   "metadata": {},
   "outputs": [],
   "source": [
    "import pandas_datareader as pdr\n",
    "alibaba = pdr.get_data_yahoo('BABA')"
   ]
  },
  {
   "cell_type": "code",
   "execution_count": 2,
   "metadata": {},
   "outputs": [
    {
     "data": {
      "text/html": [
       "<div>\n",
       "<style scoped>\n",
       "    .dataframe tbody tr th:only-of-type {\n",
       "        vertical-align: middle;\n",
       "    }\n",
       "\n",
       "    .dataframe tbody tr th {\n",
       "        vertical-align: top;\n",
       "    }\n",
       "\n",
       "    .dataframe thead th {\n",
       "        text-align: right;\n",
       "    }\n",
       "</style>\n",
       "<table border=\"1\" class=\"dataframe\">\n",
       "  <thead>\n",
       "    <tr style=\"text-align: right;\">\n",
       "      <th></th>\n",
       "      <th>High</th>\n",
       "      <th>Low</th>\n",
       "      <th>Open</th>\n",
       "      <th>Close</th>\n",
       "      <th>Volume</th>\n",
       "      <th>Adj Close</th>\n",
       "    </tr>\n",
       "    <tr>\n",
       "      <th>Date</th>\n",
       "      <th></th>\n",
       "      <th></th>\n",
       "      <th></th>\n",
       "      <th></th>\n",
       "      <th></th>\n",
       "      <th></th>\n",
       "    </tr>\n",
       "  </thead>\n",
       "  <tbody>\n",
       "    <tr>\n",
       "      <td>2016-02-29</td>\n",
       "      <td>70.580002</td>\n",
       "      <td>67.559998</td>\n",
       "      <td>67.639999</td>\n",
       "      <td>68.809998</td>\n",
       "      <td>17984200</td>\n",
       "      <td>68.809998</td>\n",
       "    </tr>\n",
       "    <tr>\n",
       "      <td>2016-03-01</td>\n",
       "      <td>71.839996</td>\n",
       "      <td>69.860001</td>\n",
       "      <td>70.019997</td>\n",
       "      <td>70.860001</td>\n",
       "      <td>14007700</td>\n",
       "      <td>70.860001</td>\n",
       "    </tr>\n",
       "    <tr>\n",
       "      <td>2016-03-02</td>\n",
       "      <td>72.040001</td>\n",
       "      <td>70.750000</td>\n",
       "      <td>72.040001</td>\n",
       "      <td>71.250000</td>\n",
       "      <td>10503000</td>\n",
       "      <td>71.250000</td>\n",
       "    </tr>\n",
       "    <tr>\n",
       "      <td>2016-03-03</td>\n",
       "      <td>72.589996</td>\n",
       "      <td>70.459999</td>\n",
       "      <td>71.309998</td>\n",
       "      <td>71.019997</td>\n",
       "      <td>11596400</td>\n",
       "      <td>71.019997</td>\n",
       "    </tr>\n",
       "    <tr>\n",
       "      <td>2016-03-04</td>\n",
       "      <td>72.959999</td>\n",
       "      <td>70.720001</td>\n",
       "      <td>70.959999</td>\n",
       "      <td>72.220001</td>\n",
       "      <td>10763600</td>\n",
       "      <td>72.220001</td>\n",
       "    </tr>\n",
       "  </tbody>\n",
       "</table>\n",
       "</div>"
      ],
      "text/plain": [
       "                 High        Low       Open      Close    Volume  Adj Close\n",
       "Date                                                                       \n",
       "2016-02-29  70.580002  67.559998  67.639999  68.809998  17984200  68.809998\n",
       "2016-03-01  71.839996  69.860001  70.019997  70.860001  14007700  70.860001\n",
       "2016-03-02  72.040001  70.750000  72.040001  71.250000  10503000  71.250000\n",
       "2016-03-03  72.589996  70.459999  71.309998  71.019997  11596400  71.019997\n",
       "2016-03-04  72.959999  70.720001  70.959999  72.220001  10763600  72.220001"
      ]
     },
     "execution_count": 2,
     "metadata": {},
     "output_type": "execute_result"
    }
   ],
   "source": [
    "alibaba.head()"
   ]
  },
  {
   "cell_type": "code",
   "execution_count": 3,
   "metadata": {},
   "outputs": [
    {
     "data": {
      "text/plain": [
       "(1259, 6)"
      ]
     },
     "execution_count": 3,
     "metadata": {},
     "output_type": "execute_result"
    }
   ],
   "source": [
    "alibaba.shape"
   ]
  },
  {
   "cell_type": "code",
   "execution_count": 5,
   "metadata": {},
   "outputs": [
    {
     "data": {
      "text/html": [
       "<div>\n",
       "<style scoped>\n",
       "    .dataframe tbody tr th:only-of-type {\n",
       "        vertical-align: middle;\n",
       "    }\n",
       "\n",
       "    .dataframe tbody tr th {\n",
       "        vertical-align: top;\n",
       "    }\n",
       "\n",
       "    .dataframe thead th {\n",
       "        text-align: right;\n",
       "    }\n",
       "</style>\n",
       "<table border=\"1\" class=\"dataframe\">\n",
       "  <thead>\n",
       "    <tr style=\"text-align: right;\">\n",
       "      <th></th>\n",
       "      <th>High</th>\n",
       "      <th>Low</th>\n",
       "      <th>Open</th>\n",
       "      <th>Close</th>\n",
       "      <th>Volume</th>\n",
       "      <th>Adj Close</th>\n",
       "    </tr>\n",
       "    <tr>\n",
       "      <th>Date</th>\n",
       "      <th></th>\n",
       "      <th></th>\n",
       "      <th></th>\n",
       "      <th></th>\n",
       "      <th></th>\n",
       "      <th></th>\n",
       "    </tr>\n",
       "  </thead>\n",
       "  <tbody>\n",
       "    <tr>\n",
       "      <td>2021-02-22</td>\n",
       "      <td>259.459991</td>\n",
       "      <td>254.000000</td>\n",
       "      <td>257.989990</td>\n",
       "      <td>254.000000</td>\n",
       "      <td>14373400</td>\n",
       "      <td>254.000000</td>\n",
       "    </tr>\n",
       "    <tr>\n",
       "      <td>2021-02-23</td>\n",
       "      <td>254.899994</td>\n",
       "      <td>241.619995</td>\n",
       "      <td>247.309998</td>\n",
       "      <td>252.750000</td>\n",
       "      <td>15970700</td>\n",
       "      <td>252.750000</td>\n",
       "    </tr>\n",
       "    <tr>\n",
       "      <td>2021-02-24</td>\n",
       "      <td>252.000000</td>\n",
       "      <td>248.100006</td>\n",
       "      <td>252.000000</td>\n",
       "      <td>250.339996</td>\n",
       "      <td>12803800</td>\n",
       "      <td>250.339996</td>\n",
       "    </tr>\n",
       "    <tr>\n",
       "      <td>2021-02-25</td>\n",
       "      <td>250.339996</td>\n",
       "      <td>240.070007</td>\n",
       "      <td>250.000000</td>\n",
       "      <td>240.179993</td>\n",
       "      <td>17863100</td>\n",
       "      <td>240.179993</td>\n",
       "    </tr>\n",
       "    <tr>\n",
       "      <td>2021-02-26</td>\n",
       "      <td>244.899994</td>\n",
       "      <td>237.649994</td>\n",
       "      <td>244.630005</td>\n",
       "      <td>237.759995</td>\n",
       "      <td>17460500</td>\n",
       "      <td>237.759995</td>\n",
       "    </tr>\n",
       "  </tbody>\n",
       "</table>\n",
       "</div>"
      ],
      "text/plain": [
       "                  High         Low        Open       Close    Volume  \\\n",
       "Date                                                                   \n",
       "2021-02-22  259.459991  254.000000  257.989990  254.000000  14373400   \n",
       "2021-02-23  254.899994  241.619995  247.309998  252.750000  15970700   \n",
       "2021-02-24  252.000000  248.100006  252.000000  250.339996  12803800   \n",
       "2021-02-25  250.339996  240.070007  250.000000  240.179993  17863100   \n",
       "2021-02-26  244.899994  237.649994  244.630005  237.759995  17460500   \n",
       "\n",
       "             Adj Close  \n",
       "Date                    \n",
       "2021-02-22  254.000000  \n",
       "2021-02-23  252.750000  \n",
       "2021-02-24  250.339996  \n",
       "2021-02-25  240.179993  \n",
       "2021-02-26  237.759995  "
      ]
     },
     "execution_count": 5,
     "metadata": {},
     "output_type": "execute_result"
    }
   ],
   "source": [
    "alibaba.tail()"
   ]
  },
  {
   "cell_type": "code",
   "execution_count": 6,
   "metadata": {},
   "outputs": [
    {
     "name": "stdout",
     "output_type": "stream",
     "text": [
      "<class 'pandas.core.frame.DataFrame'>\n",
      "DatetimeIndex: 1259 entries, 2016-02-29 to 2021-02-26\n",
      "Data columns (total 6 columns):\n",
      "High         1259 non-null float64\n",
      "Low          1259 non-null float64\n",
      "Open         1259 non-null float64\n",
      "Close        1259 non-null float64\n",
      "Volume       1259 non-null int64\n",
      "Adj Close    1259 non-null float64\n",
      "dtypes: float64(5), int64(1)\n",
      "memory usage: 68.9 KB\n"
     ]
    }
   ],
   "source": [
    "alibaba.info()"
   ]
  }
 ],
 "metadata": {
  "kernelspec": {
   "display_name": "Python 3",
   "language": "python",
   "name": "python3"
  },
  "language_info": {
   "codemirror_mode": {
    "name": "ipython",
    "version": 3
   },
   "file_extension": ".py",
   "mimetype": "text/x-python",
   "name": "python",
   "nbconvert_exporter": "python",
   "pygments_lexer": "ipython3",
   "version": "3.7.4"
  }
 },
 "nbformat": 4,
 "nbformat_minor": 2
}
