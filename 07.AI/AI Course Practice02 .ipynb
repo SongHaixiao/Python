{
 "cells": [
  {
   "cell_type": "markdown",
   "metadata": {},
   "source": [
    "# Matrix Creation"
   ]
  },
  {
   "cell_type": "code",
   "execution_count": 3,
   "metadata": {},
   "outputs": [],
   "source": [
    "import numpy"
   ]
  },
  {
   "cell_type": "markdown",
   "metadata": {},
   "source": [
    "numpy.random.rand(shape) - create randomly initialized matrix"
   ]
  },
  {
   "cell_type": "code",
   "execution_count": 4,
   "metadata": {},
   "outputs": [
    {
     "name": "stdout",
     "output_type": "stream",
     "text": [
      "Shape:  (3, 3)\n",
      "[[0.20211926 0.61549642 0.65318188]\n",
      " [0.50430628 0.86353795 0.71579787]\n",
      " [0.79694803 0.19440819 0.31980278]]\n"
     ]
    }
   ],
   "source": [
    "w_1 = numpy.random.rand(3,3)\n",
    "print('Shape: ', w_1.shape)\n",
    "print(w_1)"
   ]
  },
  {
   "cell_type": "code",
   "execution_count": 5,
   "metadata": {},
   "outputs": [
    {
     "name": "stdout",
     "output_type": "stream",
     "text": [
      "Shape:  (3, 1)\n",
      "[[0.03954771]\n",
      " [0.09904562]\n",
      " [0.35312335]]\n"
     ]
    }
   ],
   "source": [
    "w_2 = numpy.random.rand(3,1)\n",
    "print('Shape: ', w_2.shape)\n",
    "print(w_2)"
   ]
  },
  {
   "cell_type": "markdown",
   "metadata": {},
   "source": [
    "# Matrix Transpose"
   ]
  },
  {
   "cell_type": "markdown",
   "metadata": {},
   "source": [
    "numpy.asarray - convert list to numpy array / matrix"
   ]
  },
  {
   "cell_type": "code",
   "execution_count": 6,
   "metadata": {},
   "outputs": [
    {
     "name": "stdout",
     "output_type": "stream",
     "text": [
      "Shape:  (3, 1)\n",
      "[[1]\n",
      " [2]\n",
      " [3]]\n"
     ]
    }
   ],
   "source": [
    "w_1 = numpy.asarray([[1],[2],[3]])\n",
    "print('Shape: ', w_1.shape)\n",
    "print(w_1)"
   ]
  },
  {
   "cell_type": "markdown",
   "metadata": {},
   "source": [
    ".T attribute - computes the transpose of matrix"
   ]
  },
  {
   "cell_type": "code",
   "execution_count": 7,
   "metadata": {},
   "outputs": [
    {
     "name": "stdout",
     "output_type": "stream",
     "text": [
      "Shape:  (1, 3)\n",
      "[[1 2 3]]\n"
     ]
    }
   ],
   "source": [
    "w_1 = w_1.T\n",
    "print('Shape: ', w_1.shape)\n",
    "print(w_1)"
   ]
  },
  {
   "cell_type": "markdown",
   "metadata": {},
   "source": [
    "# Matrix Multiplication"
   ]
  },
  {
   "cell_type": "markdown",
   "metadata": {},
   "source": [
    "numpy.dot(w1,w2) - compute dot product / matrix multiplication for matrixes w1 and w2"
   ]
  },
  {
   "cell_type": "code",
   "execution_count": 8,
   "metadata": {},
   "outputs": [
    {
     "name": "stdout",
     "output_type": "stream",
     "text": [
      "Shape:  (1, 3)\n",
      "[[1 2 3]]\n",
      "--------\n",
      "Shape:  (3, 3)\n",
      "[[1 1 1]\n",
      " [0 1 1]\n",
      " [0 0 1]]\n"
     ]
    }
   ],
   "source": [
    "w_1 = numpy.asarray([[1,2,3]])\n",
    "print('Shape: ', w_1.shape)\n",
    "print(w_1)\n",
    "\n",
    "print('--------')\n",
    "\n",
    "w_2 = numpy.asarray([[1,1,1],[0,1,1],[0,0,1]])\n",
    "print('Shape: ', w_2.shape)\n",
    "print(w_2)"
   ]
  },
  {
   "cell_type": "code",
   "execution_count": 9,
   "metadata": {},
   "outputs": [
    {
     "name": "stdout",
     "output_type": "stream",
     "text": [
      "Shape:  (1, 3)\n",
      "[[1 3 6]]\n"
     ]
    }
   ],
   "source": [
    "w_3 = numpy.dot(w_1, w_2)\n",
    "print('Shape: ', w_3.shape)\n",
    "print(w_3)"
   ]
  },
  {
   "cell_type": "code",
   "execution_count": 10,
   "metadata": {},
   "outputs": [
    {
     "ename": "ValueError",
     "evalue": "shapes (3,3) and (1,3) not aligned: 3 (dim 1) != 1 (dim 0)",
     "output_type": "error",
     "traceback": [
      "\u001b[1;31m---------------------------------------------------------------------------\u001b[0m",
      "\u001b[1;31mValueError\u001b[0m                                Traceback (most recent call last)",
      "\u001b[1;32m<ipython-input-10-193dd7bf28b8>\u001b[0m in \u001b[0;36m<module>\u001b[1;34m\u001b[0m\n\u001b[1;32m----> 1\u001b[1;33m \u001b[0mnumpy\u001b[0m\u001b[1;33m.\u001b[0m\u001b[0mdot\u001b[0m\u001b[1;33m(\u001b[0m\u001b[0mw_2\u001b[0m\u001b[1;33m,\u001b[0m\u001b[0mw_1\u001b[0m\u001b[1;33m)\u001b[0m\u001b[1;33m\u001b[0m\u001b[1;33m\u001b[0m\u001b[0m\n\u001b[0m",
      "\u001b[1;31mValueError\u001b[0m: shapes (3,3) and (1,3) not aligned: 3 (dim 1) != 1 (dim 0)"
     ]
    }
   ],
   "source": [
    "numpy.dot(w_2,w_1)"
   ]
  },
  {
   "cell_type": "markdown",
   "metadata": {},
   "source": [
    "Simple multiplication sign(*) will make element-wise multiplication"
   ]
  },
  {
   "cell_type": "code",
   "execution_count": 11,
   "metadata": {},
   "outputs": [
    {
     "name": "stdout",
     "output_type": "stream",
     "text": [
      "Shape:  (1, 3)\n",
      "[[ 2  6 12]]\n"
     ]
    }
   ],
   "source": [
    "w_4 = w_3 * 2\n",
    "print('Shape: ', w_4.shape)\n",
    "print(w_4)"
   ]
  },
  {
   "cell_type": "markdown",
   "metadata": {},
   "source": [
    "# Forward Propagation"
   ]
  },
  {
   "cell_type": "code",
   "execution_count": 12,
   "metadata": {},
   "outputs": [
    {
     "name": "stdout",
     "output_type": "stream",
     "text": [
      "Shape:  (3, 1)\n",
      "[[0.9]\n",
      " [0.1]\n",
      " [0.8]]\n"
     ]
    }
   ],
   "source": [
    "import numpy\n",
    "I = numpy.asarray([[0.9,0.1,0.8]]).T\n",
    "print('Shape: ', I.shape)\n",
    "print(I)"
   ]
  },
  {
   "cell_type": "code",
   "execution_count": 13,
   "metadata": {},
   "outputs": [
    {
     "name": "stdout",
     "output_type": "stream",
     "text": [
      "Shape:  (3, 3)\n",
      "[[0.9 0.3 0.4]\n",
      " [0.2 0.8 0.2]\n",
      " [0.1 0.5 0.6]]\n",
      "\n",
      "----------\n",
      "\n",
      "Shape:  (3, 3)\n",
      "[[0.9 0.3 0.4]\n",
      " [0.2 0.8 0.2]\n",
      " [0.1 0.5 0.6]]\n"
     ]
    }
   ],
   "source": [
    "W_input_hidden = numpy.asarray(\n",
    "                    [[0.9, 0.3, 0.4],\n",
    "                     [0.2, 0.8, 0.2],\n",
    "                     [0.1, 0.5, 0.6]])\n",
    "print('Shape: ', W_input_hidden.shape)\n",
    "print(W_input_hidden)\n",
    "\n",
    "print('\\n----------\\n')\n",
    "\n",
    "W_hidden_output = numpy.asarray(\n",
    "                [[0.3, 0.7, 0.5], \n",
    "                 [0.6, 0.5, 0.2], \n",
    "                 [0.8, 0.1, 0.9]])\n",
    "print('Shape: ', W_input_hidden.shape)\n",
    "print(W_input_hidden)"
   ]
  },
  {
   "cell_type": "code",
   "execution_count": 14,
   "metadata": {},
   "outputs": [
    {
     "name": "stdout",
     "output_type": "stream",
     "text": [
      "(3, 1)\n",
      "[[1.16]\n",
      " [0.42]\n",
      " [0.62]]\n"
     ]
    }
   ],
   "source": [
    "X_hidden = numpy.dot(W_input_hidden, I)\n",
    "print(X_hidden.shape)\n",
    "print(X_hidden)"
   ]
  },
  {
   "cell_type": "markdown",
   "metadata": {},
   "source": [
    "# API scipy.special - call the sigmoid function"
   ]
  },
  {
   "cell_type": "code",
   "execution_count": 15,
   "metadata": {},
   "outputs": [],
   "source": [
    "import scipy.special\n",
    "sigmoid_function = lambda x : scipy.special.expit(x)"
   ]
  },
  {
   "cell_type": "code",
   "execution_count": 16,
   "metadata": {},
   "outputs": [
    {
     "name": "stdout",
     "output_type": "stream",
     "text": [
      "(3, 1)\n",
      "[[0.76133271]\n",
      " [0.60348325]\n",
      " [0.65021855]]\n"
     ]
    }
   ],
   "source": [
    "O_hidden = sigmoid_function(X_hidden)\n",
    "print(O_hidden.shape)\n",
    "print(O_hidden)"
   ]
  },
  {
   "cell_type": "code",
   "execution_count": 17,
   "metadata": {},
   "outputs": [
    {
     "name": "stdout",
     "output_type": "stream",
     "text": [
      "(3, 1)\n",
      "[[0.97594736]\n",
      " [0.88858496]\n",
      " [1.25461119]]\n"
     ]
    }
   ],
   "source": [
    "X_output = numpy.dot(W_hidden_output,O_hidden)\n",
    "print(X_output.shape)\n",
    "print(X_output)"
   ]
  },
  {
   "cell_type": "code",
   "execution_count": 18,
   "metadata": {},
   "outputs": [
    {
     "name": "stdout",
     "output_type": "stream",
     "text": [
      "(3, 1)\n",
      "[[0.72630335]\n",
      " [0.70859807]\n",
      " [0.77809706]]\n"
     ]
    }
   ],
   "source": [
    "O_output = sigmoid_function(X_output)\n",
    "print(O_output.shape)\n",
    "print(O_output)"
   ]
  },
  {
   "cell_type": "markdown",
   "metadata": {},
   "source": [
    "# Backward Propagation"
   ]
  },
  {
   "cell_type": "markdown",
   "metadata": {},
   "source": [
    "## Old Weights"
   ]
  },
  {
   "cell_type": "code",
   "execution_count": 19,
   "metadata": {},
   "outputs": [
    {
     "name": "stdout",
     "output_type": "stream",
     "text": [
      "(3, 3)\n",
      "[[0.9 0.3 0.4]\n",
      " [0.2 0.8 0.2]\n",
      " [0.1 0.5 0.6]]\n",
      "-------\n",
      "(3, 3)\n",
      "[[0.3 0.7 0.5]\n",
      " [0.6 0.5 0.2]\n",
      " [0.8 0.1 0.9]]\n"
     ]
    }
   ],
   "source": [
    "print(W_input_hidden.shape)\n",
    "print(W_input_hidden)\n",
    "print('-------')\n",
    "print(W_hidden_output.shape)\n",
    "print(W_hidden_output)"
   ]
  },
  {
   "cell_type": "code",
   "execution_count": 20,
   "metadata": {},
   "outputs": [
    {
     "name": "stdout",
     "output_type": "stream",
     "text": [
      "--Sample Target--\n",
      "(3, 1)\n",
      "[[0.6]\n",
      " [0.8]\n",
      " [0.5]]\n"
     ]
    }
   ],
   "source": [
    "target = numpy.asarray([[0.6,0.8,0.5]]).T\n",
    "print('--Sample Target--')\n",
    "print(target.shape)\n",
    "print(target)"
   ]
  },
  {
   "cell_type": "code",
   "execution_count": 24,
   "metadata": {},
   "outputs": [
    {
     "name": "stdout",
     "output_type": "stream",
     "text": [
      "[[-0.12630335]\n",
      " [ 0.09140193]\n",
      " [-0.27809706]]\n",
      "[[-0.20511068]\n",
      " [-0.07019068]\n",
      " [-0.29480265]]\n",
      "[[0.2992354  0.69939392 0.49934699]\n",
      " [0.60057475 0.50045559 0.20049087]\n",
      " [0.79853773 0.09884091 0.89875114]]\n",
      "[[0.89865693 0.29985077 0.39880616]\n",
      " [0.19939392 0.79993266 0.19946126]\n",
      " [0.09758481 0.49973165 0.59785316]]\n"
     ]
    }
   ],
   "source": [
    "output_error = target - O_output\n",
    "print(output_error)\n",
    "\n",
    "hidden_error = numpy.dot(W_hidden_output.T, output_error)\n",
    "print(hidden_error)\n",
    "\n",
    "W_hidden_output += 0.01 * numpy.dot(output_error * O_output * (1 - O_output), O_hidden.T)\n",
    "print(W_hidden_output)\n",
    "\n",
    "W_input_hidden += 0.01 * numpy.dot(hidden_error * O_hidden * (1 - O_hidden), I.T)\n",
    "print(W_input_hidden)"
   ]
  },
  {
   "cell_type": "code",
   "execution_count": 33,
   "metadata": {},
   "outputs": [
    {
     "name": "stdout",
     "output_type": "stream",
     "text": [
      "(3, 3)\n",
      "[[0.89932801 0.29992533 0.39940268]\n",
      " [0.19969649 0.79996628 0.19973021]\n",
      " [0.09879192 0.49986577 0.59892615]]\n",
      "\n",
      "---------\n",
      "\n",
      "(3, 3)\n",
      "[[0.2996177  0.69969696 0.49967349]\n",
      " [0.60028738 0.50022779 0.20024544]\n",
      " [0.79926886 0.09942045 0.89937557]]\n"
     ]
    }
   ],
   "source": [
    "print(W_input_hidden.shape)\n",
    "print(W_input_hidden)\n",
    "\n",
    "print('\\n---------\\n')\n",
    "print(W_hidden_output.shape)\n",
    "print(W_hidden_output)\n"
   ]
  },
  {
   "cell_type": "markdown",
   "metadata": {},
   "source": [
    "# Sample Training and Testing"
   ]
  },
  {
   "cell_type": "code",
   "execution_count": 34,
   "metadata": {},
   "outputs": [],
   "source": [
    "n_of_epochs = 800\n",
    "\n",
    "I = numpy.asarray([[0.9, 0.1, 0.8]]).T\n",
    "target = numpy.asarray([[0.6, 0.8, 0.5]]).T\n",
    "\n",
    "W_input_hidden = numpy.asarray(\n",
    "                    [[0.9, 0.3, 0.4],\n",
    "                     [0.2, 0.8, 0.2],\n",
    "                     [0.1, 0.5, 0.6]])\n",
    "\n",
    "W_hidden_output = numpy.asarray(\n",
    "                    [[0.3, 0.7, 0.5],\n",
    "                     [0.6, 0.5, 0.2],\n",
    "                     [0.8, 0.1, 0.9]])"
   ]
  },
  {
   "cell_type": "code",
   "execution_count": 37,
   "metadata": {},
   "outputs": [
    {
     "name": "stdout",
     "output_type": "stream",
     "text": [
      "Weight Matrixes\n",
      "(3, 3)\n",
      "[[0.9 0.3 0.4]\n",
      " [0.2 0.8 0.2]\n",
      " [0.1 0.5 0.6]]\n",
      "-------\n",
      "(3, 3)\n",
      "[[0.3 0.7 0.5]\n",
      " [0.6 0.5 0.2]\n",
      " [0.8 0.1 0.9]]\n",
      "\n",
      "Target:\n",
      " [[0.6]\n",
      " [0.8]\n",
      " [0.5]] \n",
      "\n",
      "Output Before Training:\n",
      " [[0.72630335]\n",
      " [0.70859807]\n",
      " [0.77809706]]\n",
      "\n",
      "---Training Started---\n",
      "Epoch: 0\n",
      "Error: 0.1016448219\n",
      "Epoch: 100\n",
      "Error: 0.0287427015\n",
      "Epoch: 200\n",
      "Error: 0.0081838235\n",
      "Epoch: 300\n",
      "Error: 0.0023825505\n",
      "Epoch: 400\n",
      "Error: 0.0007263831\n",
      "Epoch: 500\n",
      "Error: 0.0002367784\n",
      "Epoch: 600\n",
      "Error: 0.0000825510\n",
      "Epoch: 700\n",
      "Error: 0.0000303607\n",
      "---Training Fininshed---\n",
      "\n",
      "Output After Training:\n",
      " [[0.60127786]\n",
      " [0.79691272]\n",
      " [0.5006452 ]]\n",
      "\n",
      "Weight Matrixes\n",
      "(3, 3)\n",
      "[[ 0.81474342  0.29052705  0.32421638]\n",
      " [ 0.40407065  0.82267452  0.38139613]\n",
      " [-0.49263378  0.4341518   0.07321442]]\n",
      "-------\n",
      "(3, 3)\n",
      "[[-0.00712505  0.43671401  0.28720227]\n",
      " [ 0.91358922  0.77108557  0.4126951 ]\n",
      " [ 0.16012332 -0.44541396  0.45119395]]\n"
     ]
    }
   ],
   "source": [
    "print('Weight Matrixes')\n",
    "print(W_input_hidden.shape)\n",
    "print(W_input_hidden)\n",
    "print('-------')\n",
    "print(W_hidden_output.shape)\n",
    "print(W_hidden_output)\n",
    "\n",
    "print('\\nTarget:\\n', target, '\\n')\n",
    "\n",
    "\n",
    "# Forward Pass\n",
    "X_hidden = numpy.dot(W_input_hidden, I)\n",
    "O_hidden = sigmoid_function(X_hidden)\n",
    "X_output = numpy.dot(W_hidden_output, O_hidden)\n",
    "O_output = sigmoid_function(X_output)\n",
    "print('Output Before Training:\\n', O_output)\n",
    "\n",
    "# Training\n",
    "print('\\n---Training Started---')\n",
    "\n",
    "for epoch in range(n_of_epochs):\n",
    "\n",
    "  # Forward Pass\n",
    "  X_hidden = numpy.dot(W_input_hidden, I)\n",
    "  O_hidden = sigmoid_function(X_hidden)\n",
    "  X_output = numpy.dot(W_hidden_output, O_hidden)\n",
    "  O_output = sigmoid_function(X_output)\n",
    "\n",
    "  # Backward Pass\n",
    "  output_error = target - O_output\n",
    "  hidden_error = numpy.dot(W_hidden_output.T, output_error)\n",
    "  W_hidden_output += 0.1 * numpy.dot(output_error * O_output * (1 - O_output), O_hidden.T)\n",
    "  W_input_hidden += 0.1 * numpy.dot(hidden_error * O_hidden * (1 - O_hidden), I.T)\n",
    "\n",
    "  if epoch % 100 == 0:\n",
    "    print('Epoch:', epoch)\n",
    "    total_error = numpy.sum(output_error ** 2)\n",
    "    print('Error:', '{0:.10f}'.format(total_error))\n",
    "\n",
    "print('---Training Fininshed---\\n')\n",
    "\n",
    "\n",
    "# Forward Pass\n",
    "X_hidden = numpy.dot(W_input_hidden, I)\n",
    "O_hidden = sigmoid_function(X_hidden)\n",
    "X_output = numpy.dot(W_hidden_output, O_hidden)\n",
    "O_output = sigmoid_function(X_output)\n",
    "print('Output After Training:\\n', O_output)\n",
    "\n",
    "print('\\nWeight Matrixes')\n",
    "print(W_input_hidden.shape)\n",
    "print(W_input_hidden)\n",
    "print('-------')\n",
    "print(W_hidden_output.shape)\n",
    "print(W_hidden_output)"
   ]
  },
  {
   "cell_type": "code",
   "execution_count": null,
   "metadata": {},
   "outputs": [],
   "source": []
  },
  {
   "cell_type": "code",
   "execution_count": null,
   "metadata": {},
   "outputs": [],
   "source": []
  },
  {
   "cell_type": "code",
   "execution_count": 38,
   "metadata": {},
   "outputs": [
    {
     "name": "stdout",
     "output_type": "stream",
     "text": [
      "Input Nodes:  3 Hidden Nodes:  2 Output Nodes:  2\n",
      "Matrix 1:  \n",
      " [[-0.04740226  0.21093415 -0.46485602]\n",
      " [ 0.28655473  0.27772149  0.25144789]]\n",
      "Matrix 2:  \n",
      " [[ 0.232186   -0.25050484]\n",
      " [-0.30187062 -0.08580363]]\n"
     ]
    }
   ],
   "source": [
    "import numpy\n",
    "import scipy.special\n",
    "\n",
    "# neural network class definition\n",
    "class neuralNetwork:\n",
    "    \n",
    "    \n",
    "    # initialise the neural network\n",
    "    def __init__(self, inputnodes, hiddennodes, outputnodes, learningrate):\n",
    "        \n",
    "        self.inodes = inputnodes\n",
    "        self.hnodes = hiddennodes\n",
    "        self.onodes = outputnodes\n",
    "        \n",
    "        print('Input Nodes: ', self.inodes, 'Hidden Nodes: ', self.hnodes, 'Output Nodes: ', self.onodes)\n",
    "        self.wih = (numpy.random.rand(self.hnodes, self.inodes) - 0.5)\n",
    "        self.who = (numpy.random.rand(self.onodes, self.hnodes) - 0.5)\n",
    "\n",
    "        \n",
    "        print('Matrix 1: ', '\\n', self.wih)\n",
    "        print('Matrix 2: ', '\\n', self.who)\n",
    "        \n",
    "        self.lr = learningrate\n",
    "        \n",
    "        # activation function is the sigmoid function\n",
    "        self.activation_function = lambda x: scipy.special.expit(x)        \n",
    "                \n",
    "       \n",
    "        pass\n",
    "\n",
    "    \n",
    "    # train the neural network\n",
    "    def train(self, inputs_list, targets_list):\n",
    "       # convert inputs list to 2d array\n",
    "        inputs = numpy.array(inputs_list, ndmin=2).T\n",
    "        targets = numpy.array(targets_list, ndmin=2).T\n",
    "        \n",
    "        # calculate signals into hidden layer\n",
    "        hidden_inputs = numpy.dot(self.wih, inputs)\n",
    "        # calculate the signals emerging from hidden layer\n",
    "        hidden_outputs = self.activation_function(hidden_inputs)\n",
    "        \n",
    "        # calculate signals into final output layer\n",
    "        final_inputs = numpy.dot(self.who, hidden_outputs)\n",
    "        # calculate the signals emerging from final output layer\n",
    "        final_outputs = self.activation_function(final_inputs)\n",
    "        \n",
    "        # output layer error is the (target - actual)\n",
    "        output_errors = targets - final_outputs\n",
    "        # hidden layer error is the output_errors, split by weights, recombined at hidden nodes\n",
    "        hidden_errors = numpy.dot(self.who.T, output_errors) \n",
    "        \n",
    "        # update the weights for the links between the hidden and output layers\n",
    "        self.who += self.lr * numpy.dot((output_errors * final_outputs * (1.0 - final_outputs)), numpy.transpose(hidden_outputs))\n",
    "        \n",
    "        # update the weights for the links between the input and hidden layers\n",
    "        self.wih += self.lr * numpy.dot((hidden_errors * hidden_outputs * (1.0 - hidden_outputs)), numpy.transpose(inputs))\n",
    "        \n",
    "       \n",
    "        pass\n",
    "\n",
    "    \n",
    "    # query the neural network\n",
    "    def query(self, inputs_list):\n",
    "        # convert inputs list to 2d array\n",
    "        inputs = numpy.array(inputs_list, ndmin=2).T\n",
    "        \n",
    "        # calculate signals into hidden layer\n",
    "        hidden_inputs = numpy.dot(self.wih, inputs)\n",
    "        # calculate the signals emerging from hidden layer\n",
    "        hidden_outputs = self.activation_function(hidden_inputs)\n",
    "        \n",
    "        # calculate signals into final output layer\n",
    "        final_inputs = numpy.dot(self.who, hidden_outputs)\n",
    "        # calculate the signals emerging from final output layer\n",
    "        final_outputs = self.activation_function(final_inputs)\n",
    "        \n",
    "        return final_outputs\n",
    "    \n",
    "# number of input, hidden and output nodes\n",
    "input_nodes = 3\n",
    "hidden_nodes = 2\n",
    "output_nodes = 2\n",
    "\n",
    "# learning rate\n",
    "learning_rate = 0.1\n",
    "\n",
    "# create instance of neural network\n",
    "n = neuralNetwork(input_nodes,hidden_nodes,output_nodes, learning_rate)"
   ]
  }
 ],
 "metadata": {
  "kernelspec": {
   "display_name": "Python 3",
   "language": "python",
   "name": "python3"
  },
  "language_info": {
   "codemirror_mode": {
    "name": "ipython",
    "version": 3
   },
   "file_extension": ".py",
   "mimetype": "text/x-python",
   "name": "python",
   "nbconvert_exporter": "python",
   "pygments_lexer": "ipython3",
   "version": "3.7.4"
  }
 },
 "nbformat": 4,
 "nbformat_minor": 2
}
