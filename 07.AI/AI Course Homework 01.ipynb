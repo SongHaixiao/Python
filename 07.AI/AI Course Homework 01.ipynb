{
 "cells": [
  {
   "cell_type": "markdown",
   "metadata": {},
   "source": [
    "# Part 1"
   ]
  },
  {
   "cell_type": "markdown",
   "metadata": {},
   "source": [
    "### <font color=\"blue\"> In Step Format </font>"
   ]
  },
  {
   "cell_type": "code",
   "execution_count": 1,
   "metadata": {},
   "outputs": [],
   "source": [
    "import numpy              # import numpy API"
   ]
  },
  {
   "cell_type": "markdown",
   "metadata": {},
   "source": [
    "### Forward Pass"
   ]
  },
  {
   "cell_type": "code",
   "execution_count": 2,
   "metadata": {},
   "outputs": [
    {
     "name": "stdout",
     "output_type": "stream",
     "text": [
      "Input values for input layer 1 :  [[0.9]\n",
      " [0.1]\n",
      " [0.8]]\n"
     ]
    }
   ],
   "source": [
    "# Generate input values for input layer1\n",
    "input_values = numpy.asarray([[0.9, 0.1, 0.8]]).T\n",
    "print(\"Input values for input layer 1 : \", input_values)"
   ]
  },
  {
   "cell_type": "code",
   "execution_count": 3,
   "metadata": {
    "scrolled": false
   },
   "outputs": [
    {
     "name": "stdout",
     "output_type": "stream",
     "text": [
      "Wights for input layer 1 to hidden layer 2 :  [[0.9 0.3 0.4]\n",
      " [0.2 0.8 0.2]\n",
      " [0.1 0.5 0.6]]\n"
     ]
    }
   ],
   "source": [
    "# Generate the weights from input layer1 to hidden layer2\n",
    "weights_input_hidden = numpy.asarray([[0.9,0.3,0.4],\n",
    "                                     [0.2,0.8,0.2],\n",
    "                                     [0.1,0.5,0.6]])\n",
    "print(\"Weights for input layer 1 to hidden layer 2 : \", weights_input_hidden)\n"
   ]
  },
  {
   "cell_type": "code",
   "execution_count": 6,
   "metadata": {},
   "outputs": [
    {
     "name": "stdout",
     "output_type": "stream",
     "text": [
      "Input values for hidden layer2 before sigmoid function:  [[1.16]\n",
      " [0.42]\n",
      " [0.62]]\n"
     ]
    }
   ],
   "source": [
    "# Generate the input values for hidden layer2 before sigmoid function\n",
    "input_before_hidden_values = numpy.dot(weights_input_hidden,input_values)\n",
    "print(\"Input values for hidden layer2 before sigmoid function: \", input_before_hidden_values)\n"
   ]
  },
  {
   "cell_type": "code",
   "execution_count": 8,
   "metadata": {},
   "outputs": [],
   "source": [
    "import scipy.special      # import scipy.special API to use the sigmoid function\n",
    "sigmoid_function = lambda x : scipy.special.expit(x) # define the sigmoid function"
   ]
  },
  {
   "cell_type": "code",
   "execution_count": 9,
   "metadata": {},
   "outputs": [
    {
     "name": "stdout",
     "output_type": "stream",
     "text": [
      "Input values for output layer 3 :  [[0.76133271]\n",
      " [0.60348325]\n",
      " [0.65021855]]\n"
     ]
    }
   ],
   "source": [
    "# Generate the input values for output layer 3 after sigmoid function\n",
    "input_after_output_values = sigmoid_function(input_before_hidden_values)\n",
    "print(\"Input values for output layer 3 : \", input_after_output_values)"
   ]
  },
  {
   "cell_type": "code",
   "execution_count": 11,
   "metadata": {},
   "outputs": [
    {
     "name": "stdout",
     "output_type": "stream",
     "text": [
      "Wights for hidden layer 2 to output layer 3 :  [[0.3 0.7 0.5]\n",
      " [0.6 0.5 0.2]\n",
      " [0.8 0.1 0.9]]\n"
     ]
    }
   ],
   "source": [
    "# Generate the weights from hidden layer2 to output layer3\n",
    "weights_hidden_output = numpy.asarray([[0.3, 0.7, 0.5],\n",
    "                                     [0.6, 0.5, 0.2],\n",
    "                                     [0.8, 0.1, 0.9]])\n",
    "print(\"Weights for hidden layer 2 to output layer 3 : \", weights_hidden_output)"
   ]
  },
  {
   "cell_type": "code",
   "execution_count": 12,
   "metadata": {},
   "outputs": [
    {
     "name": "stdout",
     "output_type": "stream",
     "text": [
      "Input values for output layer3 before sigmoid function :  [[0.97594736]\n",
      " [0.88858496]\n",
      " [1.25461119]]\n"
     ]
    }
   ],
   "source": [
    "# Generate the input values for output layer3 before sigmoid function\n",
    "input_before_output_values = numpy.dot(weights_hidden_output,input_after_output_values)\n",
    "print(\"Input values for output layer3 before sigmoid function : \",input_before_output_values)\n"
   ]
  },
  {
   "cell_type": "markdown",
   "metadata": {},
   "source": [
    "### Output Values"
   ]
  },
  {
   "cell_type": "code",
   "execution_count": 17,
   "metadata": {},
   "outputs": [
    {
     "name": "stdout",
     "output_type": "stream",
     "text": [
      "Input values for output layer3 after sigmoid function :  [[0.72630335]\n",
      " [0.70859807]\n",
      " [0.77809706]]\n"
     ]
    }
   ],
   "source": [
    "# Generate the output values  after sigmoid function\n",
    "output = sigmoid_function(input_before_output_values)\n",
    "print(\"Output values for output layer3 after sigmoid function : \",output)\n"
   ]
  },
  {
   "cell_type": "markdown",
   "metadata": {},
   "source": [
    "### Backward Pass"
   ]
  },
  {
   "cell_type": "markdown",
   "metadata": {},
   "source": [
    "#### Old Weights"
   ]
  },
  {
   "cell_type": "code",
   "execution_count": 32,
   "metadata": {},
   "outputs": [
    {
     "name": "stdout",
     "output_type": "stream",
     "text": [
      "Old weights for input layer 1 to hidden layer 2 :  [[0.9 0.3 0.4]\n",
      " [0.2 0.8 0.2]\n",
      " [0.1 0.5 0.6]]\n",
      "\n",
      "------\n",
      "\n",
      "Old weights for hidden layer 2 to output layer 3 :  [[0.3 0.7 0.5]\n",
      " [0.6 0.5 0.2]\n",
      " [0.8 0.1 0.9]]\n"
     ]
    }
   ],
   "source": [
    "# the weights from input layer1 to hidden layer2\n",
    "print(\"Old weights for input layer 1 to hidden layer 2 : \", weights_input_hidden)\n",
    "\n",
    "print(\"\\n------\\n\")\n",
    "\n",
    "# the weights from hidden layer2 to output layer3\n",
    "print(\"Old weights for hidden layer 2 to output layer 3 : \", weights_hidden_output)"
   ]
  },
  {
   "cell_type": "code",
   "execution_count": 33,
   "metadata": {},
   "outputs": [
    {
     "name": "stdout",
     "output_type": "stream",
     "text": [
      "Target values :  [[0.6]\n",
      " [0.8]\n",
      " [0.5]]\n"
     ]
    }
   ],
   "source": [
    "# Generate the target values\n",
    "target = numpy.asarray([[0.6,0.8,0.5]]).T\n",
    "print(\"Target values : \", target)"
   ]
  },
  {
   "cell_type": "code",
   "execution_count": 34,
   "metadata": {},
   "outputs": [
    {
     "name": "stdout",
     "output_type": "stream",
     "text": [
      "Output errors :  [[-0.12630335]\n",
      " [ 0.09140193]\n",
      " [-0.27809706]]\n"
     ]
    }
   ],
   "source": [
    "# Generate the output error which equals to target values minus  output values\n",
    "output_error = target - output\n",
    "print(\"Output errors : \", output_error)"
   ]
  },
  {
   "cell_type": "code",
   "execution_count": 35,
   "metadata": {
    "scrolled": true
   },
   "outputs": [
    {
     "name": "stdout",
     "output_type": "stream",
     "text": [
      "Hidden error :  [[-0.20552749]\n",
      " [-0.07052108]\n",
      " [-0.29515864]]\n"
     ]
    }
   ],
   "source": [
    "# Generate the hidden error\n",
    "hidden_error = numpy.dot(weights_hidden_output.T, output_error)\n",
    "print(\"Hidden error : \", hidden_error)"
   ]
  },
  {
   "cell_type": "markdown",
   "metadata": {},
   "source": [
    "#### New Weights"
   ]
  },
  {
   "cell_type": "code",
   "execution_count": 45,
   "metadata": {},
   "outputs": [
    {
     "name": "stdout",
     "output_type": "stream",
     "text": [
      "Get weights of output layer3 to hidden layer2 : [[0.29942655 0.69954544 0.49951024]\n",
      " [0.60043107 0.50034169 0.20036815]\n",
      " [0.7989033  0.09913068 0.89906336]]\n"
     ]
    }
   ],
   "source": [
    "# weights of output layer3 to hidden layer2\n",
    "weights_hidden_output += 0.01 * numpy.dot(output_error * output * (1 - output), input_after_output_values.T)\n",
    "print(\"Get weights of output layer3 to hidden layer2 :\", weights_hidden_output)"
   ]
  },
  {
   "cell_type": "code",
   "execution_count": 44,
   "metadata": {},
   "outputs": [
    {
     "name": "stdout",
     "output_type": "stream",
     "text": [
      "Get weights of hidden layer2 to input layer1 : [[0.89932778 0.29992531 0.39940247]\n",
      " [0.19969625 0.79996625 0.19973   ]\n",
      " [0.09879167 0.49986574 0.59892593]]\n"
     ]
    }
   ],
   "source": [
    "# weights of hidden layer2 to input layer1\n",
    "weights_input_hidden += 0.01 * numpy.dot(hidden_error *input_after_output_values * (1 - input_after_output_values), input_values.T)\n",
    "print(\"Get weights of hidden layer2 to input layer1 :\", weights_input_hidden)"
   ]
  },
  {
   "cell_type": "markdown",
   "metadata": {},
   "source": [
    "## <font color=\"blue\"> In Class Format </font>"
   ]
  },
  {
   "cell_type": "code",
   "execution_count": 69,
   "metadata": {},
   "outputs": [
    {
     "name": "stdout",
     "output_type": "stream",
     "text": [
      "\n",
      "****** Forward Pass ******\n",
      "\n",
      "Input values for input layer 1 :  [[0.9]\n",
      " [0.1]\n",
      " [0.8]]\n",
      "\n",
      "------\n",
      "\n",
      "Weights for input layer 1 to hidden layer 2 :  [[0.9 0.3 0.4]\n",
      " [0.2 0.8 0.2]\n",
      " [0.1 0.5 0.6]]\n",
      "\n",
      "------\n",
      "\n",
      "Weights for hidden layer 2 to output layer 3 :  [[0.3 0.7 0.5]\n",
      " [0.6 0.5 0.2]\n",
      " [0.8 0.1 0.9]]\n",
      "\n",
      "------\n",
      "\n",
      "Target values :  [[0.6]\n",
      " [0.8]\n",
      " [0.5]]\n",
      "\n",
      "------\n",
      "\n",
      "Input values for hidden layer2 before sigmoid function:  [[1.16]\n",
      " [0.42]\n",
      " [0.62]]\n",
      "\n",
      "------\n",
      "\n",
      "Input values for output layer 3 :  [[0.76133271]\n",
      " [0.60348325]\n",
      " [0.65021855]]\n",
      "\n",
      "------\n",
      "\n",
      "Input values for output layer3 before sigmoid function :  [[0.97594736]\n",
      " [0.88858496]\n",
      " [1.25461119]]\n",
      "\n",
      "------\n",
      "\n",
      "Output values for output layer3 after sigmoid function :  [[0.72630335]\n",
      " [0.70859807]\n",
      " [0.77809706]]\n",
      "\n",
      "------\n",
      "\n",
      "\n",
      "****** Backward Pass ******\n",
      "\n",
      "Output errors :  [[-0.12630335]\n",
      " [ 0.09140193]\n",
      " [-0.27809706]]\n",
      "\n",
      "------\n",
      "\n",
      "Hidden error :  [[-0.20552749]\n",
      " [-0.07052108]\n",
      " [-0.29515864]]\n",
      "\n",
      "------\n",
      "\n",
      "Get weights of output layer3 to hidden layer2 : [[0.29980885 0.69984848 0.49983675]\n",
      " [0.60014369 0.5001139  0.20012272]\n",
      " [0.79963443 0.09971023 0.89968779]]\n",
      "\n",
      "------\n",
      "\n",
      "Get weights of hidden layer2 to input layer1 : [[0.89966389 0.29996265 0.39970124]\n",
      " [0.19984812 0.79998312 0.199865  ]\n",
      " [0.09939584 0.49993287 0.59946297]]\n"
     ]
    }
   ],
   "source": [
    "import numpy              # import numpy API\n",
    "import scipy.special      # import scipy.special API to use the sigmoid function\n",
    "\n",
    "class neuralNetworkFirstStudy:\n",
    "    \n",
    "    # constructor function to initialization the nural network\n",
    "    def __init__(self, input_values, weights_input_hidden,weights_hidden_output,target):\n",
    "        self.input_values = numpy.asarray(input_values).T\n",
    "        self.weights_input_hidden = numpy.asarray(weights_input_hidden)\n",
    "        self.weights_hidden_output = numpy.asarray(weights_hidden_output)\n",
    "        self.target = numpy.asarray(target).T\n",
    "        \n",
    "        print(\"\\n****** Forward Pass ******\\n\")\n",
    "        \n",
    "        print(\"Input values for input layer 1 : \", self.input_values)\n",
    "\n",
    "        print(\"\\n------\\n\")\n",
    "        \n",
    "        print(\"Weights for input layer 1 to hidden layer 2 : \", self.weights_input_hidden)\n",
    "\n",
    "        print(\"\\n------\\n\")\n",
    "        \n",
    "        print(\"Weights for hidden layer 2 to output layer 3 : \", self.weights_hidden_output)\n",
    "        \n",
    "        print(\"\\n------\\n\")\n",
    "        \n",
    "        print(\"Target values : \", self.target)\n",
    "\n",
    "        print(\"\\n------\\n\")\n",
    "        \n",
    "        # Generate the input values for hidden layer2 before sigmoid function\n",
    "        self.input_before_hidden_values = numpy.dot(self.weights_input_hidden,self.input_values)\n",
    "        \n",
    "        print(\"Input values for hidden layer2 before sigmoid function: \", self.input_before_hidden_values)\n",
    "\n",
    "        print(\"\\n------\\n\")\n",
    "\n",
    "\n",
    "        sigmoid_function = lambda x : scipy.special.expit(x) # define the sigmoid function\n",
    "\n",
    "        # Generate the input values for output layer 3 after sigmoid function\n",
    "        self.input_after_output_values = sigmoid_function(self.input_before_hidden_values)\n",
    "        print(\"Input values for output layer 3 : \", self.input_after_output_values)\n",
    "\n",
    "        print(\"\\n------\\n\")\n",
    "        \n",
    "        # Generate the input values for output layer3 before sigmoid function\n",
    "        self.input_before_output_values = numpy.dot(self.weights_hidden_output,self.input_after_output_values)\n",
    "        print(\"Input values for output layer3 before sigmoid function : \",self.input_before_output_values)\n",
    "\n",
    "        print(\"\\n------\\n\")\n",
    "\n",
    "        # Generate the output values  after sigmoid function\n",
    "        self.output = sigmoid_function(self.input_before_output_values)\n",
    "        print(\"Output values for output layer3 after sigmoid function : \",self.output)\n",
    "\n",
    "        print(\"\\n------\\n\")\n",
    "        \n",
    "        print(\"\\n****** Backward Pass ******\\n\")\n",
    "\n",
    "        # Generate the output error which equals to target values minus  output values\n",
    "        self.output_error = self.target - self.output\n",
    "        print(\"Output errors : \", self.output_error)\n",
    "\n",
    "        print(\"\\n------\\n\")\n",
    "\n",
    "        # Generate the hidden error\n",
    "        self.hidden_error = numpy.dot(self.weights_hidden_output.T, self.output_error)\n",
    "        print(\"Hidden error : \", self.hidden_error)\n",
    "\n",
    "        print(\"\\n------\\n\")\n",
    "        \n",
    "        # weights of output layer3 to hidden layer2\n",
    "        self.weights_hidden_output += 0.01 * numpy.dot(self.output_error * self.output * (1 - self.output), self.input_after_output_values.T)\n",
    "        print(\"Get weights of output layer3 to hidden layer2 :\", self.weights_hidden_output)\n",
    "\n",
    "        print(\"\\n------\\n\")\n",
    "\n",
    "        # weights of hidden layer2 to input layer1\n",
    "        self.weights_input_hidden += 0.01 * numpy.dot(self.hidden_error *self.input_after_output_values * (1 - self.input_after_output_values), self.input_values.T)\n",
    "        print(\"Get weights of hidden layer2 to input layer1 :\", self.weights_input_hidden)\n",
    "\n",
    "        pass\n",
    "\n",
    "# Generate input values for input layer1\n",
    "input_values = [[0.9, 0.1, 0.8]]\n",
    "\n",
    "# Generate the weights from input layer1 to hidden layer2\n",
    "weights_input_hidden = [[0.9,0.3,0.4],[0.2,0.8,0.2],[0.1,0.5,0.6]]\n",
    "\n",
    "# Generate the weights from hidden layer2 to output layer3\n",
    "weights_hidden_output = [[0.3, 0.7, 0.5],[0.6, 0.5, 0.2],[0.8, 0.1, 0.9]]\n",
    "\n",
    "# Generate the target values\n",
    "target = [[0.6,0.8,0.5]]\n",
    "\n",
    "# Create an instance of neural network\n",
    "n = neuralNetworkFirstStudy(input_values,weights_input_hidden,weights_hidden_output,target)"
   ]
  },
  {
   "cell_type": "markdown",
   "metadata": {},
   "source": [
    "# Part 2"
   ]
  },
  {
   "cell_type": "markdown",
   "metadata": {},
   "source": [
    "##  Experiment with different weights, inputs, and targets."
   ]
  },
  {
   "cell_type": "markdown",
   "metadata": {},
   "source": [
    "#### 1. Change input values"
   ]
  },
  {
   "cell_type": "code",
   "execution_count": 71,
   "metadata": {},
   "outputs": [
    {
     "name": "stdout",
     "output_type": "stream",
     "text": [
      "\n",
      "****** Forward Pass ******\n",
      "\n",
      "Input values for input layer 1 :  [[1. ]\n",
      " [2.3]\n",
      " [4.4]]\n",
      "\n",
      "------\n",
      "\n",
      "Weights for input layer 1 to hidden layer 2 :  [[0.9 0.3 0.4]\n",
      " [0.2 0.8 0.2]\n",
      " [0.1 0.5 0.6]]\n",
      "\n",
      "------\n",
      "\n",
      "Weights for hidden layer 2 to output layer 3 :  [[0.3 0.7 0.5]\n",
      " [0.6 0.5 0.2]\n",
      " [0.8 0.1 0.9]]\n",
      "\n",
      "------\n",
      "\n",
      "Target values :  [[0.6]\n",
      " [0.8]\n",
      " [0.5]]\n",
      "\n",
      "------\n",
      "\n",
      "Input values for hidden layer2 before sigmoid function:  [[3.35]\n",
      " [2.92]\n",
      " [3.89]]\n",
      "\n",
      "------\n",
      "\n",
      "Input values for output layer 3 :  [[0.96610484]\n",
      " [0.9488263 ]\n",
      " [0.97996429]]\n",
      "\n",
      "------\n",
      "\n",
      "Input values for output layer3 before sigmoid function :  [[1.44399201]\n",
      " [1.25006891]\n",
      " [1.74973436]]\n",
      "\n",
      "------\n",
      "\n",
      "Output values for output layer3 after sigmoid function :  [[0.80907208]\n",
      " [0.77731179]\n",
      " [0.85191929]]\n",
      "\n",
      "------\n",
      "\n",
      "\n",
      "****** Backward Pass ******\n",
      "\n",
      "Output errors :  [[-0.20907208]\n",
      " [ 0.02268821]\n",
      " [-0.35191929]]\n",
      "\n",
      "------\n",
      "\n",
      "Hidden error :  [[-0.33064413]\n",
      " [-0.17019828]\n",
      " [-0.41672576]]\n",
      "\n",
      "------\n",
      "\n",
      "Get weights of output layer3 to hidden layer2 : [[0.29968798 0.69969356 0.49968351]\n",
      " [0.60003794 0.50003726 0.20003849]\n",
      " [0.79957109 0.09957876 0.89956494]]\n",
      "\n",
      "------\n",
      "\n",
      "Get weights of hidden layer2 to input layer1 : [[0.89989173 0.29975097 0.3995236 ]\n",
      " [0.19991736 0.79980993 0.19963639]\n",
      " [0.09991818 0.49981181 0.59963999]]\n"
     ]
    }
   ],
   "source": [
    "# Generate input values for input layer1\n",
    "input_values = [[1.0, 2.3, 4.4]]\n",
    "\n",
    "# Generate the weights from input layer1 to hidden layer2\n",
    "# weights_input_hidden = [[0.9,0.3,0.4],[0.2,0.8,0.2],[0.1,0.5,0.6]]\n",
    "\n",
    "# Generate the weights from hidden layer2 to output layer3\n",
    "# weights_hidden_output = [[0.3, 0.7, 0.5],[0.6, 0.5, 0.2],[0.8, 0.1, 0.9]]\n",
    "\n",
    "# Generate the target values\n",
    "# target = [[0.6,0.8,0.5]]\n",
    "\n",
    "# Create an instance of neural network\n",
    "n = neuralNetworkFirstStudy(input_values,weights_input_hidden,weights_hidden_output,target)"
   ]
  },
  {
   "cell_type": "markdown",
   "metadata": {},
   "source": [
    "#### 2. Change target values"
   ]
  },
  {
   "cell_type": "code",
   "execution_count": 72,
   "metadata": {},
   "outputs": [
    {
     "name": "stdout",
     "output_type": "stream",
     "text": [
      "\n",
      "****** Forward Pass ******\n",
      "\n",
      "Input values for input layer 1 :  [[0.9]\n",
      " [0.1]\n",
      " [0.8]]\n",
      "\n",
      "------\n",
      "\n",
      "Weights for input layer 1 to hidden layer 2 :  [[0.9 0.3 0.4]\n",
      " [0.2 0.8 0.2]\n",
      " [0.1 0.5 0.6]]\n",
      "\n",
      "------\n",
      "\n",
      "Weights for hidden layer 2 to output layer 3 :  [[0.3 0.7 0.5]\n",
      " [0.6 0.5 0.2]\n",
      " [0.8 0.1 0.9]]\n",
      "\n",
      "------\n",
      "\n",
      "Target values :  [[1.1]\n",
      " [2.2]\n",
      " [3.3]]\n",
      "\n",
      "------\n",
      "\n",
      "Input values for hidden layer2 before sigmoid function:  [[1.16]\n",
      " [0.42]\n",
      " [0.62]]\n",
      "\n",
      "------\n",
      "\n",
      "Input values for output layer 3 :  [[0.76133271]\n",
      " [0.60348325]\n",
      " [0.65021855]]\n",
      "\n",
      "------\n",
      "\n",
      "Input values for output layer3 before sigmoid function :  [[0.97594736]\n",
      " [0.88858496]\n",
      " [1.25461119]]\n",
      "\n",
      "------\n",
      "\n",
      "Output values for output layer3 after sigmoid function :  [[0.72630335]\n",
      " [0.70859807]\n",
      " [0.77809706]]\n",
      "\n",
      "------\n",
      "\n",
      "\n",
      "****** Backward Pass ******\n",
      "\n",
      "Output errors :  [[0.37369665]\n",
      " [1.49140193]\n",
      " [2.52190294]]\n",
      "\n",
      "------\n",
      "\n",
      "Hidden error :  [[3.02447251]\n",
      " [1.25947892]\n",
      " [2.75484136]]\n",
      "\n",
      "------\n",
      "\n",
      "Get weights of output layer3 to hidden layer2 : [[0.30056556 0.7004483  0.50048302]\n",
      " [0.60234456 0.50185846 0.20200238]\n",
      " [0.80331512 0.10262779 0.90283129]]\n",
      "\n",
      "------\n",
      "\n",
      "Get weights of hidden layer2 to input layer1 : [[0.90494606 0.30054956 0.4043965 ]\n",
      " [0.20271244 0.80030138 0.20241106]\n",
      " [0.10563891 0.50062655 0.60501237]]\n"
     ]
    }
   ],
   "source": [
    "# Generate input values for input layer1\n",
    "input_values = [[0.9, 0.1, 0.8]]\n",
    "\n",
    "# Generate the weights from input layer1 to hidden layer2\n",
    "# weights_input_hidden = [[0.9,0.3,0.4],[0.2,0.8,0.2],[0.1,0.5,0.6]]\n",
    "\n",
    "# Generate the weights from hidden layer2 to output layer3\n",
    "# weights_hidden_output = [[0.3, 0.7, 0.5],[0.6, 0.5, 0.2],[0.8, 0.1, 0.9]]\n",
    "\n",
    "# Generate the target values\n",
    "target = [[1.1,2.2,3.3]]\n",
    "\n",
    "# Create an instance of neural network\n",
    "n = neuralNetworkFirstStudy(input_values,weights_input_hidden,weights_hidden_output,target)"
   ]
  },
  {
   "cell_type": "markdown",
   "metadata": {},
   "source": [
    "#### 3. Change weights values"
   ]
  },
  {
   "cell_type": "code",
   "execution_count": 73,
   "metadata": {},
   "outputs": [
    {
     "name": "stdout",
     "output_type": "stream",
     "text": [
      "\n",
      "****** Forward Pass ******\n",
      "\n",
      "Input values for input layer 1 :  [[0.9]\n",
      " [0.1]\n",
      " [0.8]]\n",
      "\n",
      "------\n",
      "\n",
      "Weights for input layer 1 to hidden layer 2 :  [[0.1 0.3 0.5]\n",
      " [0.3 0.5 0.2]\n",
      " [0.7 0.9 0.4]]\n",
      "\n",
      "------\n",
      "\n",
      "Weights for hidden layer 2 to output layer 3 :  [[0.1 0.5 0.3]\n",
      " [0.8 0.5 0.2]\n",
      " [0.1 0.1 0.1]]\n",
      "\n",
      "------\n",
      "\n",
      "Target values :  [[0.6]\n",
      " [0.8]\n",
      " [0.5]]\n",
      "\n",
      "------\n",
      "\n",
      "Input values for hidden layer2 before sigmoid function:  [[0.52]\n",
      " [0.48]\n",
      " [1.04]]\n",
      "\n",
      "------\n",
      "\n",
      "Input values for output layer 3 :  [[0.62714777]\n",
      " [0.61774787]\n",
      " [0.73885001]]\n",
      "\n",
      "------\n",
      "\n",
      "Input values for output layer3 before sigmoid function :  [[0.59324372]\n",
      " [0.95836215]\n",
      " [0.19837456]]\n",
      "\n",
      "------\n",
      "\n",
      "Output values for output layer3 after sigmoid function :  [[0.64410906]\n",
      " [0.72279376]\n",
      " [0.54943164]]\n",
      "\n",
      "------\n",
      "\n",
      "\n",
      "****** Backward Pass ******\n",
      "\n",
      "Output errors :  [[-0.04410906]\n",
      " [ 0.07720624]\n",
      " [-0.04943164]]\n",
      "\n",
      "------\n",
      "\n",
      "Hidden error :  [[ 0.05241092]\n",
      " [ 0.01160543]\n",
      " [-0.00273463]]\n",
      "\n",
      "------\n",
      "\n",
      "Get weights of output layer3 to hidden layer2 : [[0.09993659 0.49993754 0.29992529]\n",
      " [0.80009702 0.50009556 0.20011429]\n",
      " [0.09992326 0.09992441 0.09990959]]\n",
      "\n",
      "------\n",
      "\n",
      "Get weights of hidden layer2 to input layer1 : [[0.1001103  0.30001226 0.50009804]\n",
      " [0.30002466 0.50000274 0.20002192]\n",
      " [0.69999525 0.89999947 0.39999578]]\n"
     ]
    }
   ],
   "source": [
    "# Generate input values for input layer1\n",
    "# input_values = [[0.9, 0.1, 0.8]]\n",
    "\n",
    "# Generate the weights from input layer1 to hidden layer2\n",
    "weights_input_hidden = [[0.1,0.3,0.5],[0.3,0.5,0.2],[0.7,0.9,0.4]]\n",
    "\n",
    "# Generate the weights from hidden layer2 to output layer3\n",
    "weights_hidden_output = [[0.1, 0.5, 0.3],[0.8, 0.5, 0.2],[0.1, 0.1, 0.1]]\n",
    "\n",
    "# Generate the target values\n",
    "target = [[0.6,0.8,0.5]]\n",
    "\n",
    "# Create an instance of neural network\n",
    "n = neuralNetworkFirstStudy(input_values,weights_input_hidden,weights_hidden_output,target)"
   ]
  },
  {
   "cell_type": "markdown",
   "metadata": {},
   "source": [
    "## Summary"
   ]
  },
  {
   "cell_type": "markdown",
   "metadata": {},
   "source": [
    "### numpy API:\n",
    "\n",
    "- random.rand(shape) ：create randomly initialized matrix\n",
    "- asarray(list) : covert list to numpy array / matrix\n",
    "- T attrbute : computes the transpose of matrix\n",
    "- dot(m1, m2) : compute dot product / matrix multiplication for matrixes m1 and m2"
   ]
  },
  {
   "cell_type": "markdown",
   "metadata": {},
   "source": [
    "### scipy.special API:\n",
    "\n",
    "- sigmoid_function = lambda x : scipy.special.expit(x) : call the sigmoid function"
   ]
  },
  {
   "cell_type": "markdown",
   "metadata": {},
   "source": [
    "### Others:\n",
    "\n",
    "- Konw how to do the **Forward Propagation** and **Backward Propagation**."
   ]
  }
 ],
 "metadata": {
  "kernelspec": {
   "display_name": "Python 3",
   "language": "python",
   "name": "python3"
  },
  "language_info": {
   "codemirror_mode": {
    "name": "ipython",
    "version": 3
   },
   "file_extension": ".py",
   "mimetype": "text/x-python",
   "name": "python",
   "nbconvert_exporter": "python",
   "pygments_lexer": "ipython3",
   "version": "3.7.4"
  }
 },
 "nbformat": 4,
 "nbformat_minor": 2
}
